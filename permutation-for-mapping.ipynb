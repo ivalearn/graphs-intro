{
 "cells": [
  {
   "cell_type": "markdown",
   "metadata": {},
   "source": [
    "## [Задача](https://stepik.org/lesson/28650/step/12)\n",
    "\n",
    "Вашей программе на вход поступает пара строк: описания перестановок $\\sigma$ и $\\alpha$.\n",
    "Формат записи: для каждой перестановки записываются ее циклы, разделенные точкой с запятой.\n",
    "Внутри цикла элементы разделяются пробелами.\n",
    "Например, ``\"1 5 3 2;4 6\"`` отвечает перестановке\n",
    "$1\\rightarrow5;5\\rightarrow3;3\\rightarrow2;2\\rightarrow1;4\\rightarrow6;6\\rightarrow4$.\n",
    "Гарантируется, что перестановки имеют четную длину от 2 до 100\n",
    "и корректно определяют некоторую карту.\n",
    "Вывести единственное число -- род поверхности, на которую уложена эта карта."
   ]
  },
  {
   "cell_type": "code",
   "execution_count": 27,
   "metadata": {},
   "outputs": [
    {
     "name": "stdout",
     "output_type": "stream",
     "text": [
      "1\n"
     ]
    }
   ],
   "source": [
    "def count_cycles(dic):\n",
    "    dic = dic.copy()\n",
    "    num = 0\n",
    "    while dic:\n",
    "        i = i0 = next(iter(dic.keys()))\n",
    "        while True:\n",
    "            j = dic[i]\n",
    "            del dic[i]\n",
    "            if j == i0:\n",
    "                break\n",
    "            i = j\n",
    "        num += 1\n",
    "    return num\n",
    "\n",
    "def parse_permut(perm_str):\n",
    "    dic = {}\n",
    "    for cycle in perm_str.split(';'):\n",
    "        cycle = list(map(int, cycle.split()))\n",
    "        cycle_len = len(cycle)\n",
    "        for i in range(cycle_len):\n",
    "            j = (i + 1) % cycle_len\n",
    "            dic[cycle[i]] = cycle[j]\n",
    "    return count_cycles(dic), dic\n",
    "\n",
    "def find_g(sigma_s, alpha_s):\n",
    "    sigma_n, sigma_d = parse_permut(sigma_s)\n",
    "    alpha_n, alpha_d = parse_permut(alpha_s)\n",
    "    phi_d = {}\n",
    "    for i in alpha_d.keys():\n",
    "        phi_d[i] = sigma_d[alpha_d[i]]\n",
    "    phi_n = count_cycles(phi_d)\n",
    "    g = 1 - (sigma_n + phi_n - alpha_n) // 2\n",
    "    return g\n",
    "\n",
    "sigma_s, alpha_s = '1;2', '1 2'\n",
    "sigma_s, alpha_s = '1 5 3;2 6 4', '1 4;2 5;3 6'\n",
    "#sigma_s, alpha_s = input(), input()\n",
    "print(find_g(sigma_s, alpha_s))"
   ]
  },
  {
   "cell_type": "code",
   "execution_count": null,
   "metadata": {},
   "outputs": [],
   "source": []
  }
 ],
 "metadata": {
  "kernelspec": {
   "display_name": "Python [default]",
   "language": "python",
   "name": "python3"
  },
  "language_info": {
   "codemirror_mode": {
    "name": "ipython",
    "version": 3
   },
   "file_extension": ".py",
   "mimetype": "text/x-python",
   "name": "python",
   "nbconvert_exporter": "python",
   "pygments_lexer": "ipython3",
   "version": "3.6.3"
  }
 },
 "nbformat": 4,
 "nbformat_minor": 2
}
