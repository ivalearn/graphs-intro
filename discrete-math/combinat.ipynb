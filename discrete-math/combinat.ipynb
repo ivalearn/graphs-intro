{
 "cells": [
  {
   "cell_type": "code",
   "execution_count": 97,
   "metadata": {},
   "outputs": [],
   "source": [
    "from itertools import permutations, product\n",
    "import math\n",
    "from math import factorial as fac\n",
    "from scipy.special import binom as binom_\n",
    "def binom(n,k): return int(binom_(n,k))"
   ]
  },
  {
   "cell_type": "code",
   "execution_count": 83,
   "metadata": {},
   "outputs": [
    {
     "name": "stdout",
     "output_type": "stream",
     "text": [
      "519156\n"
     ]
    }
   ],
   "source": [
    "n = 12\n",
    "cnt = 0\n",
    "for a,b,c in product(*[range(n+1)]*3):\n",
    "    if a+b+c==n and (a and b and c):\n",
    "        cnt += binom(n,a) * binom(n-a,b) * binom(n-a-b,c)\n",
    "print(cnt)"
   ]
  },
  {
   "cell_type": "code",
   "execution_count": 12,
   "metadata": {},
   "outputs": [
    {
     "data": {
      "text/plain": [
       "519156"
      ]
     },
     "execution_count": 12,
     "metadata": {},
     "output_type": "execute_result"
    }
   ],
   "source": [
    "3**12 - 3*2**12 + 3 * 1**12"
   ]
  },
  {
   "cell_type": "code",
   "execution_count": 20,
   "metadata": {},
   "outputs": [
    {
     "data": {
      "text/plain": [
       "8144022047817960"
      ]
     },
     "execution_count": 20,
     "metadata": {},
     "output_type": "execute_result"
    }
   ],
   "source": [
    "fact(81) // fact(15) // fact(81-15)"
   ]
  },
  {
   "cell_type": "code",
   "execution_count": 56,
   "metadata": {},
   "outputs": [
    {
     "name": "stdout",
     "output_type": "stream",
     "text": [
      "0 1\n",
      "0 2\n",
      "1 2\n"
     ]
    }
   ],
   "source": [
    "def permut(k, n):\n",
    "    def perm(k, s):\n",
    "        if k > 0 and s:\n",
    "            if k == 1:\n",
    "                for x in s:\n",
    "                    yield (x,)\n",
    "            else:\n",
    "                x,s = s[0], s[1:]\n",
    "                for p in perm(k-1, s):\n",
    "                    yield (x, *p)\n",
    "                for p in perm(k, s):\n",
    "                    yield p\n",
    "    for p in perm(k, list(range(n))):\n",
    "        print(*p)\n",
    "s = '2 3'\n",
    "#s = input()\n",
    "k,n = map(int, s.split())\n",
    "permut(k, n)"
   ]
  },
  {
   "cell_type": "code",
   "execution_count": 54,
   "metadata": {},
   "outputs": [
    {
     "name": "stdout",
     "output_type": "stream",
     "text": [
      "0 1\n",
      "0 2\n",
      "1 2\n"
     ]
    }
   ],
   "source": [
    "def permut(k, n):\n",
    "    def perm(k, s):\n",
    "        if k == 1:\n",
    "            return [(x,) for x in s]\n",
    "        elif k > 0 and s:\n",
    "            return [(s[0], *p) for p in perm(k-1, s[1:])] + perm(k, s[1:])\n",
    "        else:\n",
    "            return []\n",
    "    for p in perm(k, list(range(n))):\n",
    "        print(*p)\n",
    "s = '2 3'\n",
    "#s = input()\n",
    "k,n = map(int, s.split())\n",
    "permut(k, n)"
   ]
  },
  {
   "cell_type": "code",
   "execution_count": 62,
   "metadata": {},
   "outputs": [
    {
     "name": "stdout",
     "output_type": "stream",
     "text": [
      "0 1\n",
      "0 2\n",
      "1 2\n"
     ]
    }
   ],
   "source": [
    "def perm(k, s):\n",
    "    if k > 0 and s:\n",
    "        if k == 1:\n",
    "            for x in s:  yield (x,)\n",
    "        else:\n",
    "            x,s = s[0], s[1:]\n",
    "            for p in perm(k-1, s):  yield (x, *p)\n",
    "            for p in perm(k, s):  yield p\n",
    "k,n = map(int, '2 3'.split())\n",
    "for p in perm(k, list(range(n))):\n",
    "    print(*p)"
   ]
  },
  {
   "cell_type": "code",
   "execution_count": 95,
   "metadata": {},
   "outputs": [
    {
     "data": {
      "text/plain": [
       "24310"
      ]
     },
     "execution_count": 95,
     "metadata": {},
     "output_type": "execute_result"
    }
   ],
   "source": [
    "def mbinom(n,k):  return binom(n+k-1,k)\n",
    "mbinom(10,8)"
   ]
  },
  {
   "cell_type": "code",
   "execution_count": 70,
   "metadata": {},
   "outputs": [
    {
     "data": {
      "text/plain": [
       "899076"
      ]
     },
     "execution_count": 70,
     "metadata": {},
     "output_type": "execute_result"
    }
   ],
   "source": [
    "n47 = sum(1 for i in range(100000,999999+1) if sum(map(int, str(i))) <= 47)\n",
    "n47"
   ]
  },
  {
   "cell_type": "code",
   "execution_count": 72,
   "metadata": {},
   "outputs": [
    {
     "data": {
      "text/plain": [
       "924"
      ]
     },
     "execution_count": 72,
     "metadata": {},
     "output_type": "execute_result"
    }
   ],
   "source": [
    "9*10**5-n47"
   ]
  },
  {
   "cell_type": "code",
   "execution_count": 88,
   "metadata": {},
   "outputs": [
    {
     "data": {
      "text/plain": [
       "{0: 1, 1: 5, 2: 10, 3: 10, 4: 5, 5: 1, 6: 0}"
      ]
     },
     "execution_count": 88,
     "metadata": {},
     "output_type": "execute_result"
    }
   ],
   "source": [
    "{i:binom(5,i) for i in range(6+1)}"
   ]
  },
  {
   "cell_type": "code",
   "execution_count": 89,
   "metadata": {},
   "outputs": [
    {
     "data": {
      "text/plain": [
       "{0: 1, 1: 6, 2: 21, 3: 56, 4: 126, 5: 252, 6: 462}"
      ]
     },
     "execution_count": 89,
     "metadata": {},
     "output_type": "execute_result"
    }
   ],
   "source": [
    "{i:binom(i+5,5) for i in range(6+1)}"
   ]
  },
  {
   "cell_type": "code",
   "execution_count": 90,
   "metadata": {},
   "outputs": [
    {
     "data": {
      "text/plain": [
       "924"
      ]
     },
     "execution_count": 90,
     "metadata": {},
     "output_type": "execute_result"
    }
   ],
   "source": [
    "sum(binom(i+5,5) for i in range(6+1))"
   ]
  },
  {
   "cell_type": "code",
   "execution_count": 105,
   "metadata": {},
   "outputs": [
    {
     "data": {
      "text/plain": [
       "91"
      ]
     },
     "execution_count": 105,
     "metadata": {},
     "output_type": "execute_result"
    }
   ],
   "source": [
    "1+5+"
   ]
  },
  {
   "cell_type": "code",
   "execution_count": 119,
   "metadata": {},
   "outputs": [
    {
     "name": "stdout",
     "output_type": "stream",
     "text": [
      "0 1\n",
      "0 2\n",
      "0 3\n",
      "1 0\n",
      "1 2\n",
      "1 3\n",
      "2 0\n",
      "2 1\n",
      "2 3\n",
      "3 0\n",
      "3 1\n",
      "3 2\n"
     ]
    }
   ],
   "source": [
    "def pernk(n, k):\n",
    "    def _pernk(k, e, s):\n",
    "        if k < 1:\n",
    "            return\n",
    "        for x in e:\n",
    "            if x in s:\n",
    "                continue\n",
    "            if k == 1:\n",
    "                yield x,\n",
    "                continue\n",
    "            s.add(x)\n",
    "            for p in _pernk(k-1, e, s):\n",
    "                yield (x, *p)\n",
    "            s.remove(x)\n",
    "    return _pernk(k, range(n), set())\n",
    "s = '4 2'\n",
    "n,k = map(int, s.split())\n",
    "for p in pernk(n,k):  print(*p)"
   ]
  },
  {
   "cell_type": "code",
   "execution_count": 120,
   "metadata": {},
   "outputs": [
    {
     "data": {
      "text/plain": [
       "371"
      ]
     },
     "execution_count": 120,
     "metadata": {},
     "output_type": "execute_result"
    }
   ],
   "source": [
    "def bm(k): return binom(7,k)\n",
    "def bf(k): return binom(4,k)\n",
    "bf(2)*bm(4)+bf(3)*bm(3)+bf(4)*bm(2)"
   ]
  },
  {
   "cell_type": "code",
   "execution_count": 146,
   "metadata": {},
   "outputs": [
    {
     "data": {
      "text/plain": [
       "16800"
      ]
     },
     "execution_count": 146,
     "metadata": {},
     "output_type": "execute_result"
    }
   ],
   "source": [
    "def nsurj(n,k): return sum((-1)**(k-i) * binom(k,i) * i**n for i in range(k+1))\n",
    "nsurj(7,5)"
   ]
  }
 ],
 "metadata": {
  "kernelspec": {
   "display_name": "Python [default]",
   "language": "python",
   "name": "python3"
  },
  "language_info": {
   "codemirror_mode": {
    "name": "ipython",
    "version": 3
   },
   "file_extension": ".py",
   "mimetype": "text/x-python",
   "name": "python",
   "nbconvert_exporter": "python",
   "pygments_lexer": "ipython3",
   "version": "3.6.3"
  }
 },
 "nbformat": 4,
 "nbformat_minor": 2
}
