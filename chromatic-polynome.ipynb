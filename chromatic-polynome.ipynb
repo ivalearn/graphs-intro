{
 "cells": [
  {
   "cell_type": "markdown",
   "metadata": {},
   "source": [
    "Вычислите хроматический многочлен $P_G(z)$ для графа $G$, представленного на рисунке.\n",
    "![x](images/chromatic-polynome-fig1.png)"
   ]
  },
  {
   "cell_type": "code",
   "execution_count": 2,
   "metadata": {},
   "outputs": [],
   "source": [
    "from sympy import *\n",
    "_ = var('z', real=True)"
   ]
  },
  {
   "cell_type": "markdown",
   "metadata": {},
   "source": [
    "See chromaticpolynome rules [here](https://github.com/ivandeex/ivalatex/blob/6aa721663050bf3199463ee2a8104c71e3284e92/graphs-intro/theory.pdf). \n",
    "\n",
    "![x](images/chromatic-polynome-fig2.png)"
   ]
  },
  {
   "cell_type": "code",
   "execution_count": 3,
   "metadata": {},
   "outputs": [],
   "source": [
    "C5 = (z-1)**5 + (-1)**5 * (z-1)\n",
    "T4 = z*(z-1)**(4-1)\n",
    "T3 = z*(z-1)**(3-1)\n",
    "D_ = T4 - T3\n",
    "G = C5 - D_"
   ]
  },
  {
   "cell_type": "code",
   "execution_count": 4,
   "metadata": {},
   "outputs": [
    {
     "name": "stdout",
     "output_type": "stream",
     "text": [
      "z*(z - 2)*(z - 1)*(z**2 - 3*z + 3)\n"
     ]
    }
   ],
   "source": [
    "print(factor(G))"
   ]
  }
 ],
 "metadata": {
  "kernelspec": {
   "display_name": "Python [default]",
   "language": "python",
   "name": "python3"
  },
  "language_info": {
   "codemirror_mode": {
    "name": "ipython",
    "version": 3
   },
   "file_extension": ".py",
   "mimetype": "text/x-python",
   "name": "python",
   "nbconvert_exporter": "python",
   "pygments_lexer": "ipython3",
   "version": "3.6.3"
  }
 },
 "nbformat": 4,
 "nbformat_minor": 2
}
