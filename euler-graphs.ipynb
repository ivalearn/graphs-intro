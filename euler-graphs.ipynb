{
 "cells": [
  {
   "cell_type": "code",
   "execution_count": 1,
   "metadata": {
    "collapsed": true
   },
   "outputs": [],
   "source": [
    "%matplotlib inline\n",
    "import matplotlib as mpl\n",
    "import networkx as nx\n",
    "import numpy as np\n",
    "from random import randint\n",
    "from IPython.display import Image, HTML"
   ]
  },
  {
   "cell_type": "code",
   "execution_count": 2,
   "metadata": {
    "collapsed": true
   },
   "outputs": [],
   "source": [
    "# Disable plot axes by default\n",
    "if True:\n",
    "    mpl.rc('axes.spines', top=False, bottom=False, left=False, right=False)\n",
    "    mpl.rc('xtick', top=False, bottom=False, labelsize=0)\n",
    "    mpl.rc('ytick', left=False, right=False, labelsize=0)"
   ]
  },
  {
   "cell_type": "markdown",
   "metadata": {},
   "source": [
    "## Eulerian circuit algorithm"
   ]
  },
  {
   "cell_type": "code",
   "execution_count": 6,
   "metadata": {
    "collapsed": true
   },
   "outputs": [],
   "source": [
    "def slow_eulerian_circuit(nv, edges, directed=False, debug=False):\n",
    "    adj = [[] for i in range(nv)]\n",
    "    for a,b in edges:\n",
    "        adj[a].append(b)\n",
    "        if not directed:\n",
    "            adj[b].append(a)\n",
    "    for v in range(nv):\n",
    "        adj[v].sort()\n",
    "\n",
    "    if any(len(a) % 2 for a in adj):\n",
    "        return None  # not eulerian\n",
    "\n",
    "    if debug:\n",
    "        print(': adj=%s' % {n:v for n,v in enumerate(adj)})\n",
    "    \n",
    "    c_all = []\n",
    "    while True:\n",
    "        for s in (c_all or range(nv)):\n",
    "            if adj[s]:\n",
    "                break\n",
    "        else:\n",
    "            break\n",
    "\n",
    "        if debug:  print('-- %s -- %s' % ([s], {n:d for n,d in enumerate(adj)}))\n",
    "\n",
    "        c_cur = [s]\n",
    "        v = s\n",
    "        while adj[v]:\n",
    "            w = adj[v][0]\n",
    "            adj[v].remove(w)\n",
    "            if not directed:\n",
    "                adj[w].remove(v)\n",
    "            c_cur.append(w)\n",
    "            v = w\n",
    "            #if debug:  print('-- %s -- %s' % (c_cur, {n:d for n,d in enumerate(adj)}))\n",
    "\n",
    "        if debug:  print('-- %s -- %s' % (c_cur, {n:d for n,d in enumerate(adj)}))\n",
    "        assert c_cur[0] == c_cur[-1]\n",
    "\n",
    "        if debug:\n",
    "            print('< c_all %s' % (c_all,))\n",
    "        if c_all:\n",
    "            i = c_all.index(s)\n",
    "            c_all[i:i+1] = c_cur\n",
    "        else:\n",
    "            c_all.extend(c_cur)\n",
    "            i = -1\n",
    "\n",
    "        if debug:\n",
    "            print('> i=%d %s' % (i, c_all))\n",
    "\n",
    "    assert c_all[0] == c_all[-1]\n",
    "    c_all = c_all[:-1]\n",
    "    if debug:\n",
    "        print('= %s' % c_all)\n",
    "    return c_all"
   ]
  },
  {
   "cell_type": "code",
   "execution_count": 108,
   "metadata": {
    "collapsed": true
   },
   "outputs": [],
   "source": [
    "def fast_eulerian_circuit(nv, edges):\n",
    "    adj = [[] for i in range(nv)]\n",
    "    for a,b in edges:\n",
    "        adj[a].append(b)\n",
    "        adj[b].append(a)\n",
    "    for v in range(nv):\n",
    "        adj[v].sort()\n",
    "\n",
    "    if any(not(a) or len(a) % 2 == 1 for a in adj):\n",
    "        return None  # not connected or not eulerian\n",
    "\n",
    "    ca = []\n",
    "    while True:\n",
    "        for s in (ca or range(nv)):\n",
    "            if adj[s]:\n",
    "                break\n",
    "        else:\n",
    "            break\n",
    "\n",
    "        cc = [s]\n",
    "        v = s\n",
    "        while adj[v]:\n",
    "            w = adj[v][0]\n",
    "            adj[v].remove(w)\n",
    "            adj[w].remove(v)\n",
    "            cc.append(w)\n",
    "            v = w\n",
    "\n",
    "        assert cc[0] == cc[-1]\n",
    "        if ca:\n",
    "            i = ca.index(s)\n",
    "            ca[i:i+1] = cc\n",
    "        else:\n",
    "            ca.extend(cc)\n",
    "\n",
    "    if any(a for a in adj):\n",
    "        return None\n",
    "\n",
    "    assert ca[0] == ca[-1]\n",
    "    return ca[:-1]"
   ]
  },
  {
   "cell_type": "markdown",
   "metadata": {},
   "source": [
    "### Tests"
   ]
  },
  {
   "cell_type": "code",
   "execution_count": 102,
   "metadata": {
    "collapsed": true
   },
   "outputs": [],
   "source": [
    "def nx_eulerian_circuit(nv, edges, directed=False):\n",
    "    g = nx.MultiDiGraph() if directed else nx.MultiGraph()\n",
    "    g.add_nodes_from(range(nv))\n",
    "    g.add_edges_from(edges)\n",
    "    try:\n",
    "        circuit = list(nx.eulerian_circuit(g))\n",
    "        return [b for a,b in reversed(circuit)]\n",
    "    except nx.NetworkXError:\n",
    "        return None\n",
    "\n",
    "def parse_stdin(stdin):\n",
    "    rows = [list(map(int, line.split())) for line in stdin.splitlines()]\n",
    "    nv, ne = rows[0]\n",
    "    edges = [(a-1,b-1) for a,b in rows[1:]]\n",
    "    return nv, edges"
   ]
  },
  {
   "cell_type": "code",
   "execution_count": 103,
   "metadata": {
    "collapsed": true
   },
   "outputs": [],
   "source": [
    "def is_eulerian_circuit_of(chain, nv, edges, debug=False):\n",
    "    cycle = chain + [chain[0]]\n",
    "    edges = [(min(a,b), max(a,b)) for a,b in edges]\n",
    "    for i in range(len(chain)):\n",
    "        a,b = cycle[i], cycle[i+1]\n",
    "        e = (min(a,b), max(a,b))\n",
    "        if debug:\n",
    "            print('~ %s --%s-- %s' % (e, e in edges, edges))\n",
    "        if e not in edges:\n",
    "            return False\n",
    "        edges.remove(e)\n",
    "    if debug and edges:\n",
    "        print('! %s' % edges)\n",
    "    return not edges"
   ]
  },
  {
   "cell_type": "code",
   "execution_count": 104,
   "metadata": {
    "collapsed": true
   },
   "outputs": [],
   "source": [
    "def test_eulerian_circuit(stdin, stdout=None):\n",
    "    nv, edges = parse_stdin(stdin)\n",
    "    my_ret = fast_eulerian_circuit(nv, edges)\n",
    "    nx_ret = nx_eulerian_circuit(nv, edges)\n",
    "    if my_ret is None:\n",
    "        print('** NONE')\n",
    "    else:\n",
    "        print('** %s' % ' '.join(str(v+1) for v in my_ret))\n",
    "    if nx_ret is None:\n",
    "        assert my_ret is None\n",
    "    else:\n",
    "        assert is_eulerian_circuit_of(my_ret, nv, edges)\n",
    "    if stdout is not None:\n",
    "        if stdout == 'NONE':\n",
    "            ok_ret = None\n",
    "        else:\n",
    "            ok_ret = [v-1 for v in map(int, stdout.split())]\n",
    "        assert my_ret == ok_ret\n",
    "    return my_ret"
   ]
  },
  {
   "cell_type": "code",
   "execution_count": 105,
   "metadata": {},
   "outputs": [
    {
     "name": "stdout",
     "output_type": "stream",
     "text": [
      "** NONE\n",
      "** 1 2 3\n",
      "** 1 2 3 4 5 7 5 8 8 7 6 4 2 3\n",
      "** 1 2 3 5 3 4 4 5 1 6 8 6 7 8\n",
      "** 1 2 3 4 5 6 7 4\n",
      "** NONE\n",
      "** NONE\n",
      "OK\n"
     ]
    }
   ],
   "source": [
    "test_eulerian_circuit('4 2\\n1 2\\n3 2\\n', 'NONE')\n",
    "test_eulerian_circuit('3 3\\n1 2\\n2 3\\n3 1\\n', '1 2 3')\n",
    "test_eulerian_circuit('8 14\\n1 2\\n2 3\\n3 2\\n3 1\\n2 4\\n4 3\\n4 5\\n5 7\\n7 5\\n7 6\\n6 4\\n5 8\\n8 8\\n8 7\\n',\n",
    "                      '1 2 3 4 5 7 5 8 8 7 6 4 2 3')\n",
    "test_eulerian_circuit('8 14\\n8 7\\n7 6\\n8 6\\n6 8\\n8 1\\n6 1\\n1 5\\n5 4\\n4 4\\n4 3\\n5 3\\n3 5\\n3 2\\n2 1\\n',\n",
    "                      '1 2 3 5 3 4 4 5 1 6 8 6 7 8')\n",
    "test_eulerian_circuit('7 8\\n4 1\\n1 2\\n2 3\\n3 4\\n4 5\\n5 6\\n6 7\\n7 4\\n', '1 2 3 4 5 6 7 4')\n",
    "test_eulerian_circuit('8 9\\n4 1\\n1 2\\n2 3\\n3 4\\n4 5\\n5 6\\n6 7\\n7 4\\n8 8\\n', 'NONE')\n",
    "test_eulerian_circuit('9 8\\n4 1\\n1 2\\n2 3\\n3 4\\n4 5\\n5 6\\n6 7\\n7 4\\n', 'NONE')\n",
    "print('OK')"
   ]
  },
  {
   "cell_type": "code",
   "execution_count": 106,
   "metadata": {
    "collapsed": true
   },
   "outputs": [],
   "source": [
    "def make_random_eulerian(max_nodes, min_nodes=4, max_edges=4, max_multi=4, can_loop=False, directed=False):\n",
    "    max_nodes = max(max_nodes, min_nodes)\n",
    "    while True:\n",
    "        num = randint(min_nodes, max_nodes)\n",
    "        deg = [randint(1, max_edges) for i in range(num)]\n",
    "        G = nx.directed_configuration_model(in_degree_sequence=deg,\n",
    "                                            out_degree_sequence=deg)\n",
    "        nv = len(G.nodes)\n",
    "        edges = []\n",
    "        for a,b,c in list(G.edges):\n",
    "            e = (min(a,b), max(a,b))\n",
    "            if edges.count(e) >= max_multi:\n",
    "                continue\n",
    "            if not can_loop and e[0] == e[1]:\n",
    "                continue\n",
    "            edges.append(e)\n",
    "        edges = sorted(edges)\n",
    "        M = nx.MultiGraph(edges)\n",
    "        if len(M) and nx.is_connected(M) and nx.is_eulerian(M):\n",
    "            C = nx_eulerian_circuit(nv, edges)\n",
    "            if C is not None:\n",
    "                return nv, edges, M"
   ]
  },
  {
   "cell_type": "code",
   "execution_count": 107,
   "metadata": {},
   "outputs": [
    {
     "name": "stdout",
     "output_type": "stream",
     "text": [
      "OK\n"
     ]
    }
   ],
   "source": [
    "#%%timeit -r1 -n1\n",
    "\n",
    "num_test = 200\n",
    "for _ in range(num_test):\n",
    "    nv, edges, G = make_random_eulerian(max_nodes=50, max_multi=4, can_loop=True)\n",
    "    T = fast_eulerian_circuit(nv, edges)\n",
    "    assert T is not None\n",
    "    assert is_eulerian_circuit_of(T, nv, edges)\n",
    "\n",
    "print('OK')"
   ]
  },
  {
   "cell_type": "code",
   "execution_count": 66,
   "metadata": {},
   "outputs": [
    {
     "name": "stdout",
     "output_type": "stream",
     "text": [
      "+ E: [(0, 2), (0, 4), (1, 6), (1, 7), (2, 4), (2, 4), (2, 7), (3, 7), (3, 7), (4, 4), (4, 5), (4, 5), (4, 6), (6, 7), (6, 7), (7, 7)]\n",
      "+ C: [0, 2, 4, 2, 7, 1, 6, 7, 3, 7, 7, 6, 4, 4, 5, 4]\n",
      "+ T: [0, 2, 4, 4, 5, 4, 6, 7, 7, 3, 7, 6, 1, 7, 2, 4]\n",
      "True\n"
     ]
    },
    {
     "data": {
      "text/html": [
       "<?xml version=\"1.0\" encoding=\"UTF-8\" standalone=\"no\"?>\r\n",
       "<!DOCTYPE svg PUBLIC \"-//W3C//DTD SVG 1.1//EN\"\r\n",
       " \"http://www.w3.org/Graphics/SVG/1.1/DTD/svg11.dtd\">\r\n",
       "<!-- Generated by graphviz version 2.38.0 (20140413.2041)\r\n",
       " -->\r\n",
       "<!-- Title: %3 Pages: 1 -->\r\n",
       "<svg width=\"275pt\" height=\"269pt\"\r\n",
       " viewBox=\"0.00 0.00 275.23 268.76\" xmlns=\"http://www.w3.org/2000/svg\" xmlns:xlink=\"http://www.w3.org/1999/xlink\">\r\n",
       "<g id=\"graph0\" class=\"graph\" transform=\"scale(1 1) rotate(0) translate(129.047 110.913)\">\r\n",
       "<title>%3</title>\r\n",
       "<polygon fill=\"white\" stroke=\"none\" points=\"-129.047,157.852 -129.047,-110.913 146.182,-110.913 146.182,157.852 -129.047,157.852\"/>\r\n",
       "<!-- 0 -->\r\n",
       "<g id=\"node1\" class=\"node\"><title>0</title>\r\n",
       "<ellipse fill=\"none\" stroke=\"black\" cx=\"-98.0466\" cy=\"31.4527\" rx=\"27\" ry=\"18\"/>\r\n",
       "<text text-anchor=\"middle\" x=\"-98.0466\" y=\"35.1527\" font-family=\"Times New Roman,serif\" font-size=\"14.00\">0</text>\r\n",
       "</g>\r\n",
       "<!-- 2 -->\r\n",
       "<g id=\"node2\" class=\"node\"><title>2</title>\r\n",
       "<ellipse fill=\"none\" stroke=\"black\" cx=\"-40.9153\" cy=\"-13.0175\" rx=\"27\" ry=\"18\"/>\r\n",
       "<text text-anchor=\"middle\" x=\"-40.9153\" y=\"-9.31747\" font-family=\"Times New Roman,serif\" font-size=\"14.00\">2</text>\r\n",
       "</g>\r\n",
       "<!-- 0&#45;&#45;2 -->\r\n",
       "<g id=\"edge1\" class=\"edge\"><title>0&#45;&#45;2</title>\r\n",
       "<path fill=\"none\" stroke=\"black\" d=\"M-80.283,17.6258C-73.4698,12.3225 -65.6951,6.27079 -58.8646,0.954012\"/>\r\n",
       "</g>\r\n",
       "<!-- 4 -->\r\n",
       "<g id=\"node3\" class=\"node\"><title>4</title>\r\n",
       "<ellipse fill=\"none\" stroke=\"black\" cx=\"-28.3149\" cy=\"59.0808\" rx=\"27\" ry=\"18\"/>\r\n",
       "<text text-anchor=\"middle\" x=\"-28.3149\" y=\"62.7808\" font-family=\"Times New Roman,serif\" font-size=\"14.00\">4</text>\r\n",
       "</g>\r\n",
       "<!-- 0&#45;&#45;4 -->\r\n",
       "<g id=\"edge2\" class=\"edge\"><title>0&#45;&#45;4</title>\r\n",
       "<path fill=\"none\" stroke=\"black\" d=\"M-74.8269,40.6524C-67.3785,43.6035 -59.129,46.8721 -51.6709,49.827\"/>\r\n",
       "</g>\r\n",
       "<!-- 2&#45;&#45;4 -->\r\n",
       "<g id=\"edge3\" class=\"edge\"><title>2&#45;&#45;4</title>\r\n",
       "<path fill=\"none\" stroke=\"black\" d=\"M-31.8721,4.15121C-28.8013,15.3078 -26.3082,29.8193 -25.5387,41.1285\"/>\r\n",
       "</g>\r\n",
       "<!-- 2&#45;&#45;4 -->\r\n",
       "<g id=\"edge4\" class=\"edge\"><title>2&#45;&#45;4</title>\r\n",
       "<path fill=\"none\" stroke=\"black\" d=\"M-43.6819,5.0742C-42.9022,16.3529 -40.4207,30.7753 -37.3663,41.8821\"/>\r\n",
       "</g>\r\n",
       "<!-- 7 -->\r\n",
       "<g id=\"node6\" class=\"node\"><title>7</title>\r\n",
       "<ellipse fill=\"none\" stroke=\"black\" cx=\"43.0265\" cy=\"-50.284\" rx=\"27\" ry=\"18\"/>\r\n",
       "<text text-anchor=\"middle\" x=\"43.0265\" y=\"-46.584\" font-family=\"Times New Roman,serif\" font-size=\"14.00\">7</text>\r\n",
       "</g>\r\n",
       "<!-- 2&#45;&#45;7 -->\r\n",
       "<g id=\"edge5\" class=\"edge\"><title>2&#45;&#45;7</title>\r\n",
       "<path fill=\"none\" stroke=\"black\" d=\"M-18.4204,-23.0042C-6.37664,-28.3512 8.41636,-34.9186 20.4696,-40.2697\"/>\r\n",
       "</g>\r\n",
       "<!-- 4&#45;&#45;4 -->\r\n",
       "<g id=\"edge6\" class=\"edge\"><title>4&#45;&#45;4</title>\r\n",
       "<path fill=\"none\" stroke=\"black\" d=\"M-2.87138,52.3901C7.71298,51.9287 16.6851,54.1589 16.6851,59.0808 16.6851,64.0027 7.71298,66.2329 -2.87138,65.7715\"/>\r\n",
       "</g>\r\n",
       "<!-- 6 -->\r\n",
       "<g id=\"node5\" class=\"node\"><title>6</title>\r\n",
       "<ellipse fill=\"none\" stroke=\"black\" cx=\"30.5365\" cy=\"6.02499\" rx=\"27\" ry=\"18\"/>\r\n",
       "<text text-anchor=\"middle\" x=\"30.5365\" y=\"9.72499\" font-family=\"Times New Roman,serif\" font-size=\"14.00\">6</text>\r\n",
       "</g>\r\n",
       "<!-- 4&#45;&#45;6 -->\r\n",
       "<g id=\"edge9\" class=\"edge\"><title>4&#45;&#45;6</title>\r\n",
       "<path fill=\"none\" stroke=\"black\" d=\"M-12.2335,44.5831C-3.92946,37.0968 6.17335,27.9889 14.4745,20.5052\"/>\r\n",
       "</g>\r\n",
       "<!-- 5 -->\r\n",
       "<g id=\"node8\" class=\"node\"><title>5</title>\r\n",
       "<ellipse fill=\"none\" stroke=\"black\" cx=\"-23.2506\" cy=\"135.852\" rx=\"27\" ry=\"18\"/>\r\n",
       "<text text-anchor=\"middle\" x=\"-23.2506\" y=\"139.552\" font-family=\"Times New Roman,serif\" font-size=\"14.00\">5</text>\r\n",
       "</g>\r\n",
       "<!-- 4&#45;&#45;5 -->\r\n",
       "<g id=\"edge7\" class=\"edge\"><title>4&#45;&#45;5</title>\r\n",
       "<path fill=\"none\" stroke=\"black\" d=\"M-21.3521,76.5048C-19.2529,88.9118 -18.169,105.532 -18.6505,118.028\"/>\r\n",
       "</g>\r\n",
       "<!-- 4&#45;&#45;5 -->\r\n",
       "<g id=\"edge8\" class=\"edge\"><title>4&#45;&#45;5</title>\r\n",
       "<path fill=\"none\" stroke=\"black\" d=\"M-32.914,76.8805C-33.3968,89.3534 -32.3185,105.943 -30.2265,118.35\"/>\r\n",
       "</g>\r\n",
       "<!-- 1 -->\r\n",
       "<g id=\"node4\" class=\"node\"><title>1</title>\r\n",
       "<ellipse fill=\"none\" stroke=\"black\" cx=\"1.78266\" cy=\"-88.9127\" rx=\"27\" ry=\"18\"/>\r\n",
       "<text text-anchor=\"middle\" x=\"1.78266\" y=\"-85.2127\" font-family=\"Times New Roman,serif\" font-size=\"14.00\">1</text>\r\n",
       "</g>\r\n",
       "<!-- 1&#45;&#45;6 -->\r\n",
       "<g id=\"edge10\" class=\"edge\"><title>1&#45;&#45;6</title>\r\n",
       "<path fill=\"none\" stroke=\"black\" d=\"M7.19103,-71.0556C12.3318,-54.0823 20.0197,-28.6988 25.1524,-11.752\"/>\r\n",
       "</g>\r\n",
       "<!-- 1&#45;&#45;7 -->\r\n",
       "<g id=\"edge11\" class=\"edge\"><title>1&#45;&#45;7</title>\r\n",
       "<path fill=\"none\" stroke=\"black\" d=\"M17.6107,-74.0883C20.791,-71.1096 24.1324,-67.9801 27.309,-65.005\"/>\r\n",
       "</g>\r\n",
       "<!-- 6&#45;&#45;7 -->\r\n",
       "<g id=\"edge12\" class=\"edge\"><title>6&#45;&#45;7</title>\r\n",
       "<path fill=\"none\" stroke=\"black\" d=\"M28.1478,-11.9111C29.0014,-18.8015 30.688,-26.6325 32.7674,-33.419\"/>\r\n",
       "</g>\r\n",
       "<!-- 6&#45;&#45;7 -->\r\n",
       "<g id=\"edge13\" class=\"edge\"><title>6&#45;&#45;7</title>\r\n",
       "<path fill=\"none\" stroke=\"black\" d=\"M40.7605,-10.7255C42.8196,-17.42 44.4976,-25.1453 45.3697,-31.9859\"/>\r\n",
       "</g>\r\n",
       "<!-- 7&#45;&#45;7 -->\r\n",
       "<g id=\"edge16\" class=\"edge\"><title>7&#45;&#45;7</title>\r\n",
       "<path fill=\"none\" stroke=\"black\" d=\"M68.47,-56.9747C79.0544,-57.4361 88.0265,-55.2059 88.0265,-50.284 88.0265,-45.3622 79.0544,-43.1319 68.47,-43.5934\"/>\r\n",
       "</g>\r\n",
       "<!-- 3 -->\r\n",
       "<g id=\"node7\" class=\"node\"><title>3</title>\r\n",
       "<ellipse fill=\"none\" stroke=\"black\" cx=\"115.182\" cy=\"-80.1962\" rx=\"27\" ry=\"18\"/>\r\n",
       "<text text-anchor=\"middle\" x=\"115.182\" y=\"-76.4962\" font-family=\"Times New Roman,serif\" font-size=\"14.00\">3</text>\r\n",
       "</g>\r\n",
       "<!-- 7&#45;&#45;3 -->\r\n",
       "<g id=\"edge14\" class=\"edge\"><title>7&#45;&#45;3</title>\r\n",
       "<path fill=\"none\" stroke=\"black\" d=\"M60.4107,-64.0842C68.8833,-68.416 79.2392,-72.8228 88.6643,-76.1378\"/>\r\n",
       "</g>\r\n",
       "<!-- 7&#45;&#45;3 -->\r\n",
       "<g id=\"edge15\" class=\"edge\"><title>7&#45;&#45;3</title>\r\n",
       "<path fill=\"none\" stroke=\"black\" d=\"M69.5054,-54.329C78.898,-57.6305 89.2194,-62.0184 97.682,-66.3372\"/>\r\n",
       "</g>\r\n",
       "</g>\r\n",
       "</svg>\r\n"
      ],
      "text/plain": [
       "<IPython.core.display.HTML object>"
      ]
     },
     "execution_count": 66,
     "metadata": {},
     "output_type": "execute_result"
    }
   ],
   "source": [
    "# debug cell: run this one if something goes wrong\n",
    "print('+ E:', edges)\n",
    "C = nx_eulerian_circuit(nv, edges)\n",
    "T = fast_eulerian_circuit(nv, edges)\n",
    "print('+ C:', C)\n",
    "print('+ T:', T)\n",
    "print(is_eulerian_circuit_of(T, nv, edges))\n",
    "HTML(nx.drawing.nx_pydot.to_pydot(G).create_svg(prog='neato').decode())"
   ]
  },
  {
   "cell_type": "code",
   "execution_count": 76,
   "metadata": {},
   "outputs": [
    {
     "data": {
      "text/html": [
       "<?xml version=\"1.0\" encoding=\"UTF-8\" standalone=\"no\"?>\r\n",
       "<!DOCTYPE svg PUBLIC \"-//W3C//DTD SVG 1.1//EN\"\r\n",
       " \"http://www.w3.org/Graphics/SVG/1.1/DTD/svg11.dtd\">\r\n",
       "<!-- Generated by graphviz version 2.38.0 (20140413.2041)\r\n",
       " -->\r\n",
       "<!-- Title: %3 Pages: 1 -->\r\n",
       "<svg width=\"261pt\" height=\"202pt\"\r\n",
       " viewBox=\"0.00 0.00 260.63 201.66\" xmlns=\"http://www.w3.org/2000/svg\" xmlns:xlink=\"http://www.w3.org/1999/xlink\">\r\n",
       "<g id=\"graph0\" class=\"graph\" transform=\"scale(1 1) rotate(0) translate(130.643 101.083)\">\r\n",
       "<title>%3</title>\r\n",
       "<polygon fill=\"white\" stroke=\"none\" points=\"-130.643,100.579 -130.643,-101.083 129.991,-101.083 129.991,100.579 -130.643,100.579\"/>\r\n",
       "<!-- 4 -->\r\n",
       "<g id=\"node1\" class=\"node\"><title>4</title>\r\n",
       "<ellipse fill=\"none\" stroke=\"black\" cx=\"0.432309\" cy=\"0.488018\" rx=\"27\" ry=\"18\"/>\r\n",
       "<text text-anchor=\"middle\" x=\"0.432309\" y=\"4.18802\" font-family=\"Times New Roman,serif\" font-size=\"14.00\">4</text>\r\n",
       "</g>\r\n",
       "<!-- 1 -->\r\n",
       "<g id=\"node2\" class=\"node\"><title>1</title>\r\n",
       "<ellipse fill=\"none\" stroke=\"black\" cx=\"-20.9199\" cy=\"78.5789\" rx=\"27\" ry=\"18\"/>\r\n",
       "<text text-anchor=\"middle\" x=\"-20.9199\" y=\"82.2789\" font-family=\"Times New Roman,serif\" font-size=\"14.00\">1</text>\r\n",
       "</g>\r\n",
       "<!-- 4&#45;&#45;1 -->\r\n",
       "<g id=\"edge1\" class=\"edge\"><title>4&#45;&#45;1</title>\r\n",
       "<path fill=\"none\" stroke=\"black\" d=\"M-4.41284,18.2081C-7.88265,30.8981 -12.5378,47.9234 -16.02,60.6587\"/>\r\n",
       "</g>\r\n",
       "<!-- 3 -->\r\n",
       "<g id=\"node4\" class=\"node\"><title>3</title>\r\n",
       "<ellipse fill=\"none\" stroke=\"black\" cx=\"-80.6131\" cy=\"2.08944\" rx=\"27\" ry=\"18\"/>\r\n",
       "<text text-anchor=\"middle\" x=\"-80.6131\" y=\"5.78944\" font-family=\"Times New Roman,serif\" font-size=\"14.00\">3</text>\r\n",
       "</g>\r\n",
       "<!-- 4&#45;&#45;3 -->\r\n",
       "<g id=\"edge2\" class=\"edge\"><title>4&#45;&#45;3</title>\r\n",
       "<path fill=\"none\" stroke=\"black\" d=\"M-27.006,1.03019C-35.5474,1.19896 -44.9576,1.3849 -53.4782,1.55327\"/>\r\n",
       "</g>\r\n",
       "<!-- 5 -->\r\n",
       "<g id=\"node5\" class=\"node\"><title>5</title>\r\n",
       "<ellipse fill=\"none\" stroke=\"black\" cx=\"20.4209\" cy=\"-78.0464\" rx=\"27\" ry=\"18\"/>\r\n",
       "<text text-anchor=\"middle\" x=\"20.4209\" y=\"-74.3464\" font-family=\"Times New Roman,serif\" font-size=\"14.00\">5</text>\r\n",
       "</g>\r\n",
       "<!-- 4&#45;&#45;5 -->\r\n",
       "<g id=\"edge3\" class=\"edge\"><title>4&#45;&#45;5</title>\r\n",
       "<path fill=\"none\" stroke=\"black\" d=\"M4.96802,-17.3327C8.23928,-30.1853 12.636,-47.4598 15.9031,-60.2963\"/>\r\n",
       "</g>\r\n",
       "<!-- 7 -->\r\n",
       "<g id=\"node7\" class=\"node\"><title>7</title>\r\n",
       "<ellipse fill=\"none\" stroke=\"black\" cx=\"81.3316\" cy=\"-2.33529\" rx=\"27\" ry=\"18\"/>\r\n",
       "<text text-anchor=\"middle\" x=\"81.3316\" y=\"1.36471\" font-family=\"Times New Roman,serif\" font-size=\"14.00\">7</text>\r\n",
       "</g>\r\n",
       "<!-- 4&#45;&#45;7 -->\r\n",
       "<g id=\"edge4\" class=\"edge\"><title>4&#45;&#45;7</title>\r\n",
       "<path fill=\"none\" stroke=\"black\" d=\"M27.8211,-0.467827C36.3472,-0.765378 45.7405,-1.09319 54.2457,-1.39002\"/>\r\n",
       "</g>\r\n",
       "<!-- 2 -->\r\n",
       "<g id=\"node3\" class=\"node\"><title>2</title>\r\n",
       "<ellipse fill=\"none\" stroke=\"black\" cx=\"-99.6431\" cy=\"78.3081\" rx=\"27\" ry=\"18\"/>\r\n",
       "<text text-anchor=\"middle\" x=\"-99.6431\" y=\"82.0081\" font-family=\"Times New Roman,serif\" font-size=\"14.00\">2</text>\r\n",
       "</g>\r\n",
       "<!-- 1&#45;&#45;2 -->\r\n",
       "<g id=\"edge5\" class=\"edge\"><title>1&#45;&#45;2</title>\r\n",
       "<path fill=\"none\" stroke=\"black\" d=\"M-48.012,78.4857C-55.9287,78.4585 -64.5812,78.4287 -72.5011,78.4015\"/>\r\n",
       "</g>\r\n",
       "<!-- 2&#45;&#45;3 -->\r\n",
       "<g id=\"edge6\" class=\"edge\"><title>2&#45;&#45;3</title>\r\n",
       "<path fill=\"none\" stroke=\"black\" d=\"M-95.1332,60.2453C-92.0997,48.0955 -88.1173,32.1452 -85.0905,20.0225\"/>\r\n",
       "</g>\r\n",
       "<!-- 6 -->\r\n",
       "<g id=\"node6\" class=\"node\"><title>6</title>\r\n",
       "<ellipse fill=\"none\" stroke=\"black\" cx=\"98.9912\" cy=\"-79.0827\" rx=\"27\" ry=\"18\"/>\r\n",
       "<text text-anchor=\"middle\" x=\"98.9912\" y=\"-75.3827\" font-family=\"Times New Roman,serif\" font-size=\"14.00\">6</text>\r\n",
       "</g>\r\n",
       "<!-- 5&#45;&#45;6 -->\r\n",
       "<g id=\"edge7\" class=\"edge\"><title>5&#45;&#45;6</title>\r\n",
       "<path fill=\"none\" stroke=\"black\" d=\"M47.4603,-78.4031C55.3617,-78.5073 63.9975,-78.6212 71.9019,-78.7254\"/>\r\n",
       "</g>\r\n",
       "<!-- 6&#45;&#45;7 -->\r\n",
       "<g id=\"edge8\" class=\"edge\"><title>6&#45;&#45;7</title>\r\n",
       "<path fill=\"none\" stroke=\"black\" d=\"M94.8954,-61.2824C92.0628,-48.9723 88.3074,-32.6517 85.4664,-20.3049\"/>\r\n",
       "</g>\r\n",
       "</g>\r\n",
       "</svg>\r\n"
      ],
      "text/plain": [
       "<IPython.core.display.HTML object>"
      ]
     },
     "execution_count": 76,
     "metadata": {},
     "output_type": "execute_result"
    }
   ],
   "source": [
    "_stdin = '7 8\\n4 1\\n1 2\\n2 3\\n3 4\\n4 5\\n5 6\\n6 7\\n7 4\\n'\n",
    "_rows = [tuple(map(int, s.split())) for s in _stdin.strip().splitlines()]\n",
    "G = nx.from_edgelist(_rows[1:])\n",
    "HTML(nx.drawing.nx_pydot.to_pydot(G).create_svg(prog='neato').decode())"
   ]
  },
  {
   "cell_type": "markdown",
   "metadata": {},
   "source": [
    "## Proof of the Eulerian circuit theorem\n",
    "\n",
    "See [stepik video](https://stepik.org/lesson/10765/step/6?unit=10933) of the full proof.\n",
    "\n",
    "![figure for proof](euler-graphs/euler-proof.svg)"
   ]
  },
  {
   "cell_type": "markdown",
   "metadata": {},
   "source": [
    "# Homework"
   ]
  },
  {
   "cell_type": "markdown",
   "metadata": {},
   "source": [
    "## Finding Eulerian paths\n",
    "\n",
    "Пусть в связном графе $G$ ровно $2k$ вершин имеют нечетную степень. Доказать, что в этом графе можно построить $k$ таких путей, что каждое ребро графа $G$ будет принадлежать только одному из этих путей.\n",
    "\n",
    "### Solution\n",
    "\n",
    "**Шаг 1.**\n",
    "В исходном $2k$ вершин имеют нечётную степень, а остальные (если есть) - чётную.\n",
    "\n",
    "На иллюстрации к доказательству чётные вершины ($ABCD$) раскрашены синим,\n",
    "а нечётные ($PQRSTU$)- жёлтым.\n",
    "Число вершин и рёбер на рисунке приведено лишь для иллюстрации.\n",
    "Главное, чтобы число жёлтых было чётным.\n",
    "\n",
    "**Шаг 2.**\n",
    "Временно добавим в граф новую вершину и проведём к ней по одному ребру от каждый нечётной вершины.\n",
    "\n",
    "В дополненном графе:\n",
    " - все ранее чётные (синие) вершины останутся чётными;\n",
    " - все ранее нечётные (жёлтые) вершины получат по одному новому ребру и станут чётными;\n",
    " - временная (красная) вершина будет иметь $2k$ рёбер и тоже будет чётной.\n",
    "\n",
    "На рисунке временная вершина $X$ и временные рёбра раскрашены красным. Исходные рёбра графа - зелёным.\n",
    "\n",
    "**Шаг 3.**\n",
    "Поскольку в дополненном графе все вершины чётные, то по теореме, которую преподаватель доказал на занятиях, в дополненном графе можно посторить _цикл Эйлера_, который:\n",
    " - пройдёт все вершины (некоторые по нескольку раз);\n",
    " - пройдёт по каждому ребру дополненного графа ровно один раз.\n",
    "Возьмём этот цикл, и проходя по нему, будем присваивать вершинам порядковые номера $1,2,3,...$\n",
    "\n",
    "Некоторые вершины при этом попадут в цикл несколько раз и получат несколько номеров.\n",
    "Если некоторая вершина имеет в дополненном графе степень $D$ (чётную) то в цепи Эйлера в неё будут входить $D/2$ рёбер и выходить тоже $D/2$, а значит эта вершина попадётся в цепи Эйлера $D/2$ раз.\n",
    "\n",
    "Временная вершина $X$ появится в цепи $k$ раз, так как ей инцидентны $2k$ рёбер из $2k$ жёлтых вершин.\n",
    "\n",
    "**Шаг 4.**\n",
    "\n",
    "Сделаем отображение дополненного графа на цепь Эйлера. Каждой вершине поставим в соответствие столько элементов цепи Эйлера, сколько раз эта вершина появилась в цепи. Важно, что в силу свойств цепи Эйлера каждому ребру из цепи взаимно однозначно соответствует ровно одно ребро из дополненного графа, то есть рёбра цепи полностью покрываюь дополненные граф. Но есть и разница: поскольку цепь упорядочена, рёбра в ней направленные, хотя в исходном графе - нет.\n",
    "\n",
    "Если взять граф из иллюстрации в качестве примера, то вершине $A$ из дополненного графа будут соответствовать элементы $1A$ и $6A$, а вершине $X$ - элементы $4X$, $8X$, $16X$. \n",
    "\n",
    "**Шаг 5.**\n",
    "\n",
    "По построению, каждая инкарнация временной красной вершины в цепи имеет только одно входящее ребро и одно выходящее, причём красная вершина соединяется только с жёлтыми. Таким образом, в цепи имеется $k$ (по числу вхождений красной вершины) сегментов вида: $(одно красное ребро, i-е вхождение красной вершины, второе красное ребро)$. Эти сегменты полностью состоят из элементов, которые не входили в исходный граф, а были добавлены временно.\n",
    "\n",
    "Между \"временными\" (красными) сегментами будут находится сегменты, состоящие только из вершин и рёбер исходного графа. Все они непусты, так как содержат, как минимум по одной жёлтой вершине. Все они начинаются и кончаются на жёлтых вершинах.\n",
    "\n",
    "Теперь удалим красные рёбра и вхождения красной вершины из цикла. Останутся только \"исходные сегменты\". Их количество равно $k$ (если из окружности вырезать $k$ кусков, то количество оставшихся тоже равно $k$, а цикл геометрически соответствует окружности). Поскольку из цепи удалялись только красные рёбра, оставшиеся рёбра полностью покрывают исходный граф из шага 1.\n",
    "\n",
    "**Шаг 6.**\n",
    "Обратим отображение. Каждому ребру из $k$ \"исходных сегментов\" взаимно однозначно соответствует ребро исходного графа. А значит, каждому сегменту соответсвует путь в исходном графе. Все вместе они полностью покрывают исходный граф из шага 1. Таких путей будет $k$. Цель достигнута.\n",
    "\n",
    "Примечания:\n",
    "  1. Я долго думал, как использовать цикл Эйлера в доказательстве. Идею добавить лишнюю вершину я\n",
    "     подглядел в комментариях к задаче. Остальное додумал сам.\n",
    "  2. Графы я генерировал в Питоне и подправлял в редакторе yEd.\n",
    "\n",
    "![homework #1](euler-graphs/euler-k-path.svg)"
   ]
  },
  {
   "cell_type": "markdown",
   "metadata": {},
   "source": [
    "## Red-blue coloring\n",
    "\n",
    "Рассмотрим связный простой регулярный граф $G$, степень любой вершины которого равна четырем. Доказать, что ребра этого графа всегда можно покрасить в два цвета (красный и синий) так, чтобы любая вершина была инцидентна ровно двум синим и ровно двум красным ребрам.\n",
    "\n",
    "### Solution\n",
    "\n",
    "Поскольку все вершины графа чётные, мы можем построить для него Эйлеров цикл. Рёбра в цикле взаимно однозначно соответствуют рёбрам в исходном графе. Каждая вершина исходного графа появится в цикле ровно два раза (степень четыре = два раза вошли в вершину + два раза вышли). Количество рёбер в цикле чётное, а значит мы можем раскрасить их, чередуя два цвета (как на окружности). Как у первого вхождения вершины в цикл будут два разноцветных ребра (красное + синее), так и у второго. А в силу сохранения инцидентности между графом и циклом Эйлера мы получим, что хотели.\n",
    "\n",
    "![red and blue](euler-graphs/euler-4-red-blue.svg)"
   ]
  },
  {
   "cell_type": "markdown",
   "metadata": {},
   "source": [
    "## Minimum number of wire pieces to make a 1x1x1 cube\n",
    "\n",
    "Имеется кусок проволоки длиной 12 сантиметров. На какое минимальное количество кусков его следует разрезать, чтобы из этих кусков можно было бы изготовить каркас кубика размерами 1 × 1 × 1 при условии, что проволоку в процессе изготовления кубиков можно сгибать?\n",
    "\n",
    "### Solution\n",
    "\n",
    "![cube pieces](euler-graphs/euler-cube-1x1x1.svg)"
   ]
  },
  {
   "cell_type": "markdown",
   "metadata": {
    "collapsed": true
   },
   "source": [
    "## Experiments..."
   ]
  },
  {
   "cell_type": "code",
   "execution_count": 121,
   "metadata": {},
   "outputs": [
    {
     "data": {
      "image/png": "[encoded data removed]",
      "text/plain": [
       "<matplotlib.figure.Figure at 0x4dd904afd0>"
      ]
     },
     "metadata": {},
     "output_type": "display_data"
    }
   ],
   "source": [
    "# read graphml from yEd\n",
    "G = nx.read_graphml('euler-example-1.graphml')\n",
    "G = nx.relabel_nodes(G, {n: int(d['label']) for n,d in G.node.data()})\n",
    "\n",
    "# Fix a bug with self-loops\n",
    "G.remove_edges_from([(3,3), (8,8)])\n",
    "\n",
    "# Read layout from graphml\n",
    "pos = {n: np.array([float(d['x']), -float(d['y'])]) for n,d in G.node.data()}\n",
    "nx.draw_networkx(G, pos=pos, node_size=500, node_color='skyblue')"
   ]
  },
  {
   "cell_type": "code",
   "execution_count": 122,
   "metadata": {},
   "outputs": [
    {
     "data": {
      "text/html": [
       "<?xml version=\"1.0\" encoding=\"UTF-8\" standalone=\"no\"?>\r\n",
       "<!DOCTYPE svg PUBLIC \"-//W3C//DTD SVG 1.1//EN\"\r\n",
       " \"http://www.w3.org/Graphics/SVG/1.1/DTD/svg11.dtd\">\r\n",
       "<!-- Generated by graphviz version 2.38.0 (20140413.2041)\r\n",
       " -->\r\n",
       "<!-- Title: %3 Pages: 1 -->\r\n",
       "<svg width=\"304pt\" height=\"167pt\"\r\n",
       " viewBox=\"0.00 0.00 303.54 167.00\" xmlns=\"http://www.w3.org/2000/svg\" xmlns:xlink=\"http://www.w3.org/1999/xlink\">\r\n",
       "<g id=\"graph0\" class=\"graph\" transform=\"scale(1 1) rotate(0) translate(4 163)\">\r\n",
       "<title>%3</title>\r\n",
       "<polygon fill=\"white\" stroke=\"none\" points=\"-4,4 -4,-163 299.537,-163 299.537,4 -4,4\"/>\r\n",
       "<!-- 1 -->\r\n",
       "<g id=\"node1\" class=\"node\"><title>1</title>\r\n",
       "<ellipse fill=\"none\" stroke=\"black\" cx=\"27.495\" cy=\"-42.636\" rx=\"27\" ry=\"18\"/>\r\n",
       "<text text-anchor=\"middle\" x=\"27.495\" y=\"-38.936\" font-family=\"Times New Roman,serif\" font-size=\"14.00\">1</text>\r\n",
       "</g>\r\n",
       "<!-- 2 -->\r\n",
       "<g id=\"node2\" class=\"node\"><title>2</title>\r\n",
       "<ellipse fill=\"none\" stroke=\"black\" cx=\"50.0385\" cy=\"-102.621\" rx=\"27\" ry=\"18\"/>\r\n",
       "<text text-anchor=\"middle\" x=\"50.0385\" y=\"-98.921\" font-family=\"Times New Roman,serif\" font-size=\"14.00\">2</text>\r\n",
       "</g>\r\n",
       "<!-- 1&#45;&gt;2 -->\r\n",
       "<g id=\"edge1\" class=\"edge\"><title>1&#45;&gt;2</title>\r\n",
       "<path fill=\"none\" stroke=\"black\" d=\"M34.1369,-60.309C35.9097,-65.0263 37.8675,-70.2357 39.7856,-75.3395\"/>\r\n",
       "<polygon fill=\"black\" stroke=\"black\" points=\"36.5719,-76.7375 43.3662,-84.867 43.1245,-74.2749 36.5719,-76.7375\"/>\r\n",
       "</g>\r\n",
       "<!-- 3 -->\r\n",
       "<g id=\"node3\" class=\"node\"><title>3</title>\r\n",
       "<ellipse fill=\"none\" stroke=\"black\" cx=\"96.9983\" cy=\"-17.6247\" rx=\"27\" ry=\"18\"/>\r\n",
       "<text text-anchor=\"middle\" x=\"96.9983\" y=\"-13.9247\" font-family=\"Times New Roman,serif\" font-size=\"14.00\">3</text>\r\n",
       "</g>\r\n",
       "<!-- 2&#45;&gt;3 -->\r\n",
       "<g id=\"edge3\" class=\"edge\"><title>2&#45;&gt;3</title>\r\n",
       "<path fill=\"none\" stroke=\"black\" d=\"M64.9306,-87.321C72.9206,-75.5082 82.2854,-58.9225 88.9858,-44.8749\"/>\r\n",
       "<polygon fill=\"black\" stroke=\"black\" points=\"92.2277,-46.1997 93.1491,-35.645 85.8468,-43.3214 92.2277,-46.1997\"/>\r\n",
       "</g>\r\n",
       "<!-- 4 -->\r\n",
       "<g id=\"node4\" class=\"node\"><title>4</title>\r\n",
       "<ellipse fill=\"none\" stroke=\"black\" cx=\"121.754\" cy=\"-103.631\" rx=\"27\" ry=\"18\"/>\r\n",
       "<text text-anchor=\"middle\" x=\"121.754\" y=\"-99.9313\" font-family=\"Times New Roman,serif\" font-size=\"14.00\">4</text>\r\n",
       "</g>\r\n",
       "<!-- 2&#45;&gt;4 -->\r\n",
       "<g id=\"edge2\" class=\"edge\"><title>2&#45;&gt;4</title>\r\n",
       "<path fill=\"none\" stroke=\"black\" d=\"M77.151,-103.003C79.5606,-103.037 82.0264,-103.072 84.501,-103.106\"/>\r\n",
       "<polygon fill=\"black\" stroke=\"black\" points=\"84.5546,-106.607 94.6029,-103.249 84.6533,-99.6082 84.5546,-106.607\"/>\r\n",
       "</g>\r\n",
       "<!-- 3&#45;&gt;1 -->\r\n",
       "<g id=\"edge4\" class=\"edge\"><title>3&#45;&gt;1</title>\r\n",
       "<path fill=\"none\" stroke=\"black\" d=\"M73.0792,-26.2322C69.2997,-27.5923 65.3303,-29.0207 61.376,-30.4437\"/>\r\n",
       "<polygon fill=\"black\" stroke=\"black\" points=\"59.9183,-27.2484 51.6941,-33.9278 62.2885,-33.835 59.9183,-27.2484\"/>\r\n",
       "</g>\r\n",
       "<!-- 3&#45;&gt;2 -->\r\n",
       "<g id=\"edge5\" class=\"edge\"><title>3&#45;&gt;2</title>\r\n",
       "<path fill=\"none\" stroke=\"black\" d=\"M82.1062,-32.9247C74.1162,-44.7375 64.7513,-61.3232 58.051,-75.3708\"/>\r\n",
       "<polygon fill=\"black\" stroke=\"black\" points=\"54.809,-74.046 53.8876,-84.6007 61.1899,-76.9243 54.809,-74.046\"/>\r\n",
       "</g>\r\n",
       "<!-- 4&#45;&gt;3 -->\r\n",
       "<g id=\"edge6\" class=\"edge\"><title>4&#45;&gt;3</title>\r\n",
       "<path fill=\"none\" stroke=\"black\" d=\"M116.624,-85.8107C113.239,-74.0481 108.736,-58.4045 104.897,-45.0684\"/>\r\n",
       "<polygon fill=\"black\" stroke=\"black\" points=\"108.251,-44.0642 102.121,-35.4225 101.524,-46.0005 108.251,-44.0642\"/>\r\n",
       "</g>\r\n",
       "<!-- 5 -->\r\n",
       "<g id=\"node5\" class=\"node\"><title>5</title>\r\n",
       "<ellipse fill=\"none\" stroke=\"black\" cx=\"227.687\" cy=\"-88.3207\" rx=\"27\" ry=\"18\"/>\r\n",
       "<text text-anchor=\"middle\" x=\"227.687\" y=\"-84.6207\" font-family=\"Times New Roman,serif\" font-size=\"14.00\">5</text>\r\n",
       "</g>\r\n",
       "<!-- 4&#45;&gt;5 -->\r\n",
       "<g id=\"edge7\" class=\"edge\"><title>4&#45;&gt;5</title>\r\n",
       "<path fill=\"none\" stroke=\"black\" d=\"M148.212,-99.8073C161.231,-97.9257 177.128,-95.628 191.274,-93.5834\"/>\r\n",
       "<polygon fill=\"black\" stroke=\"black\" points=\"191.802,-97.0435 201.199,-92.149 190.801,-90.1155 191.802,-97.0435\"/>\r\n",
       "</g>\r\n",
       "<!-- 7 -->\r\n",
       "<g id=\"node7\" class=\"node\"><title>7</title>\r\n",
       "<ellipse fill=\"none\" stroke=\"black\" cx=\"181.967\" cy=\"-32.6008\" rx=\"27\" ry=\"18\"/>\r\n",
       "<text text-anchor=\"middle\" x=\"181.967\" y=\"-28.9008\" font-family=\"Times New Roman,serif\" font-size=\"14.00\">7</text>\r\n",
       "</g>\r\n",
       "<!-- 5&#45;&gt;7 -->\r\n",
       "<g id=\"edge8\" class=\"edge\"><title>5&#45;&gt;7</title>\r\n",
       "<path fill=\"none\" stroke=\"black\" d=\"M220.959,-70.7947C217.256,-65.232 212.532,-59.0541 207.641,-53.3008\"/>\r\n",
       "<polygon fill=\"black\" stroke=\"black\" points=\"210.223,-50.9372 200.948,-45.8162 205.005,-55.6034 210.223,-50.9372\"/>\r\n",
       "</g>\r\n",
       "<!-- 8 -->\r\n",
       "<g id=\"node8\" class=\"node\"><title>8</title>\r\n",
       "<ellipse fill=\"none\" stroke=\"black\" cx=\"250.537\" cy=\"-22.3685\" rx=\"27\" ry=\"18\"/>\r\n",
       "<text text-anchor=\"middle\" x=\"250.537\" y=\"-18.6685\" font-family=\"Times New Roman,serif\" font-size=\"14.00\">8</text>\r\n",
       "</g>\r\n",
       "<!-- 5&#45;&gt;8 -->\r\n",
       "<g id=\"edge9\" class=\"edge\"><title>5&#45;&gt;8</title>\r\n",
       "<path fill=\"none\" stroke=\"black\" d=\"M233.81,-70.6467C236.013,-64.2889 238.554,-56.9561 240.979,-49.9563\"/>\r\n",
       "<polygon fill=\"black\" stroke=\"black\" points=\"244.43,-50.686 244.397,-40.0912 237.816,-48.3944 244.43,-50.686\"/>\r\n",
       "</g>\r\n",
       "<!-- 6 -->\r\n",
       "<g id=\"node6\" class=\"node\"><title>6</title>\r\n",
       "<ellipse fill=\"none\" stroke=\"black\" cx=\"187.733\" cy=\"-141.216\" rx=\"27\" ry=\"18\"/>\r\n",
       "<text text-anchor=\"middle\" x=\"187.733\" y=\"-137.516\" font-family=\"Times New Roman,serif\" font-size=\"14.00\">6</text>\r\n",
       "</g>\r\n",
       "<!-- 6&#45;&gt;4 -->\r\n",
       "<g id=\"edge10\" class=\"edge\"><title>6&#45;&gt;4</title>\r\n",
       "<path fill=\"none\" stroke=\"black\" d=\"M166.857,-129.324C162.043,-126.582 156.83,-123.613 151.715,-120.699\"/>\r\n",
       "<polygon fill=\"black\" stroke=\"black\" points=\"153.142,-117.484 142.721,-115.575 149.677,-123.566 153.142,-117.484\"/>\r\n",
       "</g>\r\n",
       "<!-- 7&#45;&gt;5 -->\r\n",
       "<g id=\"edge12\" class=\"edge\"><title>7&#45;&gt;5</title>\r\n",
       "<path fill=\"none\" stroke=\"black\" d=\"M188.695,-50.1268C192.398,-55.6895 197.121,-61.8674 202.013,-67.6207\"/>\r\n",
       "<polygon fill=\"black\" stroke=\"black\" points=\"199.431,-69.9843 208.706,-75.1053 204.649,-65.318 199.431,-69.9843\"/>\r\n",
       "</g>\r\n",
       "<!-- 7&#45;&gt;6 -->\r\n",
       "<g id=\"edge11\" class=\"edge\"><title>7&#45;&gt;6</title>\r\n",
       "<path fill=\"none\" stroke=\"black\" d=\"M182.945,-51.026C183.845,-67.9804 185.193,-93.3802 186.23,-112.909\"/>\r\n",
       "<polygon fill=\"black\" stroke=\"black\" points=\"182.744,-113.263 186.769,-123.063 189.734,-112.892 182.744,-113.263\"/>\r\n",
       "</g>\r\n",
       "<!-- 8&#45;&gt;7 -->\r\n",
       "<g id=\"edge13\" class=\"edge\"><title>8&#45;&gt;7</title>\r\n",
       "<path fill=\"none\" stroke=\"black\" d=\"M223.83,-26.3539C222.123,-26.6085 220.391,-26.867 218.65,-27.1268\"/>\r\n",
       "<polygon fill=\"black\" stroke=\"black\" points=\"218.088,-23.6718 208.714,-28.6095 219.121,-30.5951 218.088,-23.6718\"/>\r\n",
       "</g>\r\n",
       "<!-- 8&#45;&gt;8 -->\r\n",
       "<g id=\"edge14\" class=\"edge\"><title>8&#45;&gt;8</title>\r\n",
       "<path fill=\"none\" stroke=\"black\" d=\"M275.981,-29.0591C286.565,-29.5206 295.537,-27.2903 295.537,-22.3685 295.537,-19.1385 291.673,-17.0677 286.025,-16.1561\"/>\r\n",
       "<polygon fill=\"black\" stroke=\"black\" points=\"286.136,-12.6575 275.981,-15.6778 285.803,-19.6496 286.136,-12.6575\"/>\r\n",
       "</g>\r\n",
       "</g>\r\n",
       "</svg>\r\n"
      ],
      "text/plain": [
       "<IPython.core.display.HTML object>"
      ]
     },
     "execution_count": 122,
     "metadata": {},
     "output_type": "execute_result"
    }
   ],
   "source": [
    "HTML(nx.drawing.nx_pydot.to_pydot(G).create_svg(prog='fdp').decode())"
   ]
  },
  {
   "cell_type": "code",
   "execution_count": 123,
   "metadata": {},
   "outputs": [
    {
     "data": {
      "text/plain": [
       "OutMultiEdgeView([(1, 2, 'e1'), (2, 4, 'e2'), (2, 3, 'e12'), (3, 1, 'e4'), (3, 2, 'e11'), (4, 3, 'e3'), (4, 5, 'e5'), (5, 7, 'e6'), (5, 8, 'e9'), (6, 4, 'e8'), (7, 6, 'e7'), (7, 5, 'e13'), (8, 7, 'e10'), (8, 8, 'e14')])"
      ]
     },
     "execution_count": 123,
     "metadata": {},
     "output_type": "execute_result"
    }
   ],
   "source": [
    "G.edges"
   ]
  },
  {
   "cell_type": "markdown",
   "metadata": {},
   "source": [
    "### ...."
   ]
  },
  {
   "cell_type": "code",
   "execution_count": 92,
   "metadata": {},
   "outputs": [
    {
     "data": {
      "text/html": [
       "<?xml version=\"1.0\" encoding=\"UTF-8\" standalone=\"no\"?>\r\n",
       "<!DOCTYPE svg PUBLIC \"-//W3C//DTD SVG 1.1//EN\"\r\n",
       " \"http://www.w3.org/Graphics/SVG/1.1/DTD/svg11.dtd\">\r\n",
       "<!-- Generated by graphviz version 2.38.0 (20140413.2041)\r\n",
       " -->\r\n",
       "<!-- Title: %3 Pages: 1 -->\r\n",
       "<svg width=\"106pt\" height=\"101pt\"\r\n",
       " viewBox=\"0.00 0.00 106.40 100.68\" xmlns=\"http://www.w3.org/2000/svg\" xmlns:xlink=\"http://www.w3.org/1999/xlink\">\r\n",
       "<g id=\"graph0\" class=\"graph\" transform=\"scale(1 1) rotate(0) translate(53.2009 50.3394)\">\r\n",
       "<title>%3</title>\r\n",
       "<polygon fill=\"white\" stroke=\"none\" points=\"-53.2009,50.3394 -53.2009,-50.3394 53.2009,-50.3394 53.2009,50.3394 -53.2009,50.3394\"/>\r\n",
       "<!-- 1 -->\r\n",
       "<g id=\"node1\" class=\"node\"><title>1</title>\r\n",
       "<ellipse fill=\"none\" stroke=\"black\" cx=\"-22.2009\" cy=\"28.3394\" rx=\"27\" ry=\"18\"/>\r\n",
       "<text text-anchor=\"middle\" x=\"-22.2009\" y=\"32.0394\" font-family=\"Times New Roman,serif\" font-size=\"14.00\">1</text>\r\n",
       "</g>\r\n",
       "<!-- 2 -->\r\n",
       "<g id=\"node2\" class=\"node\"><title>2</title>\r\n",
       "<ellipse fill=\"none\" stroke=\"black\" cx=\"22.2009\" cy=\"-28.3394\" rx=\"27\" ry=\"18\"/>\r\n",
       "<text text-anchor=\"middle\" x=\"22.2009\" y=\"-24.6394\" font-family=\"Times New Roman,serif\" font-size=\"14.00\">2</text>\r\n",
       "</g>\r\n",
       "<!-- 1&#45;&gt;2 -->\r\n",
       "<g id=\"edge1\" class=\"edge\"><title>1&#45;&gt;2</title>\r\n",
       "<path fill=\"none\" stroke=\"black\" d=\"M-15.8821,10.6807C-12.3103,5.04127 -7.73274,-1.23532 -2.9779,-7.09139\"/>\r\n",
       "<polygon fill=\"black\" stroke=\"black\" points=\"-5.61916,-9.38809 3.53803,-14.717 -0.29736,-4.84069 -5.61916,-9.38809\"/>\r\n",
       "</g>\r\n",
       "<!-- 2&#45;&gt;1 -->\r\n",
       "<g id=\"edge2\" class=\"edge\"><title>2&#45;&gt;1</title>\r\n",
       "<path fill=\"none\" stroke=\"black\" d=\"M15.8821,-10.6807C12.3103,-5.04127 7.73274,1.23532 2.9779,7.09139\"/>\r\n",
       "<polygon fill=\"black\" stroke=\"black\" points=\"5.61916,9.38809 -3.53803,14.717 0.29736,4.84069 5.61916,9.38809\"/>\r\n",
       "</g>\r\n",
       "</g>\r\n",
       "</svg>\r\n"
      ],
      "text/plain": [
       "<IPython.core.display.HTML object>"
      ]
     },
     "execution_count": 92,
     "metadata": {},
     "output_type": "execute_result"
    }
   ],
   "source": [
    "# create a cycle graph\n",
    "size = 2\n",
    "G = nx.cycle_graph(size, create_using=nx.MultiDiGraph())\n",
    "\n",
    "# make node labels start from `1'\n",
    "G = nx.relabel_nodes(G, {i:i+1 for i in G.nodes})\n",
    "\n",
    "# add reverse edges\n",
    "if len(G.nodes) > 2:\n",
    "    G.add_edges_from([(b,a) for a,b,_ in list(G.edges)])\n",
    "\n",
    "# draw graph using graphviz\n",
    "dot = nx.drawing.nx_pydot.to_pydot(G)\n",
    "HTML(dot.create_svg(prog='neato').decode())"
   ]
  }
 ],
 "metadata": {
  "kernelspec": {
   "display_name": "Python 3",
   "language": "python",
   "name": "python3"
  },
  "language_info": {
   "codemirror_mode": {
    "name": "ipython",
    "version": 3
   },
   "file_extension": ".py",
   "mimetype": "text/x-python",
   "name": "python",
   "nbconvert_exporter": "python",
   "pygments_lexer": "ipython3",
   "version": "3.6.3"
  }
 },
 "nbformat": 4,
 "nbformat_minor": 2
}
