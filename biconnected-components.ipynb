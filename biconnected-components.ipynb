{
 "cells": [
  {
   "cell_type": "markdown",
   "metadata": {},
   "source": [
    "# Articulation points\n",
    "\n",
    "See [wikipedia](https://en.wikipedia.org/wiki/Biconnected_component)\n",
    "\n",
    "See algorithm at [link](https://stepik.org/lesson/12342/step/10?unit=2794)"
   ]
  },
  {
   "cell_type": "code",
   "execution_count": 1,
   "metadata": {},
   "outputs": [],
   "source": [
    "%matplotlib inline\n",
    "import matplotlib.pyplot as plt\n",
    "import numpy as np\n",
    "import networkx as nx\n",
    "import itertools\n",
    "import sys\n",
    "import random\n",
    "import threading\n",
    "from random import randint\n",
    "from collections import defaultdict, deque"
   ]
  },
  {
   "cell_type": "code",
   "execution_count": 2,
   "metadata": {},
   "outputs": [],
   "source": [
    "# Disable plot axes by default\n",
    "import matplotlib as mpl\n",
    "if True:\n",
    "    mpl.rc('axes.spines', top=False, bottom=False, left=False, right=False)\n",
    "    mpl.rc('xtick', top=False, bottom=False, labelsize=0)\n",
    "    mpl.rc('ytick', left=False, right=False, labelsize=0)"
   ]
  },
  {
   "cell_type": "code",
   "execution_count": 3,
   "metadata": {},
   "outputs": [],
   "source": [
    "from IPython.display import Image, HTML\n",
    "\n",
    "def pydot_image(graph, prog='dot', width=None):\n",
    "    dot = nx.nx_pydot.to_pydot(graph)\n",
    "    if width:\n",
    "        return Image(dot.create_png(prog=prog), width=width)\n",
    "    else:\n",
    "        return HTML(dot.create_svg(prog=prog).decode())"
   ]
  },
  {
   "cell_type": "code",
   "execution_count": 4,
   "metadata": {},
   "outputs": [],
   "source": [
    "from time import clock\n",
    "\n",
    "prof_list = []\n",
    "\n",
    "def prof_init():\n",
    "    del prof_list[:]\n",
    "\n",
    "def prof_this(func):\n",
    "    def prof_wrap(*a, **kw):\n",
    "        t0 = clock()\n",
    "        ret = func(*a, **kw)\n",
    "        prof_list.append(clock() - t0)\n",
    "        return ret\n",
    "    return prof_wrap\n",
    "\n",
    "def prof_time():\n",
    "    if not len(prof_list):\n",
    "        prof_list.append(0.)\n",
    "    return sum(prof_list) / len(prof_list)"
   ]
  },
  {
   "cell_type": "code",
   "execution_count": 5,
   "metadata": {},
   "outputs": [],
   "source": [
    "test_edges = [tuple(map(int, s.split())) for s in '0 1\\n1 2\\n2 0\\n3 2\\n4 3\\n4 2\\n5 4\\n'.splitlines()]"
   ]
  },
  {
   "cell_type": "code",
   "execution_count": 6,
   "metadata": {},
   "outputs": [],
   "source": [
    "def make_random_graph(max_nodes, min_nodes=4, max_edges=None, max_node_edges=4):\n",
    "    max_nodes = max(max_nodes, min_nodes)\n",
    "    while True:\n",
    "        num = randint(min_nodes, max_nodes)\n",
    "        deg_in = [randint(1, max_node_edges) for i in range(num)]\n",
    "        deg_out = deg_in[:]\n",
    "        random.shuffle(deg_out)\n",
    "        graph = nx.directed_configuration_model(in_degree_sequence=deg_in,\n",
    "                                                out_degree_sequence=deg_out)\n",
    "        edges = set()\n",
    "        for a,b,c in list(graph.edges):\n",
    "            if a != b:\n",
    "                edges.add((a,b) if a < b else (b,a))\n",
    "        if not edges:\n",
    "            continue\n",
    "        if max_edges and len(edges) > max_edges:\n",
    "            continue\n",
    "        graph = nx.Graph(list(edges))\n",
    "        if len(graph) and nx.is_connected(graph):\n",
    "            nodes = sorted(graph.nodes)\n",
    "            graph = nx.relabel_nodes(graph, {nodes[i]: i for i in range(len(nodes))})\n",
    "            return sorted(graph.edges)"
   ]
  },
  {
   "cell_type": "code",
   "execution_count": 7,
   "metadata": {},
   "outputs": [
    {
     "name": "stdout",
     "output_type": "stream",
     "text": [
      "2 4\n"
     ]
    }
   ],
   "source": [
    "def nx_articulation_points(edges):\n",
    "    return sorted(nx.articulation_points(nx.from_edgelist(edges)))\n",
    "\n",
    "print(' '.join(str(v) for v in nx_articulation_points(test_edges)))"
   ]
  },
  {
   "cell_type": "markdown",
   "metadata": {},
   "source": [
    "## Prepare tests"
   ]
  },
  {
   "cell_type": "code",
   "execution_count": 8,
   "metadata": {},
   "outputs": [
    {
     "name": "stdout",
     "output_type": "stream",
     "text": [
      "273\n"
     ]
    }
   ],
   "source": [
    "all_tests = [make_random_graph(min_nodes=4, max_nodes=100) for _ in range(5000)]\n",
    "print(max(list(map(len, all_tests))))"
   ]
  },
  {
   "cell_type": "code",
   "execution_count": 9,
   "metadata": {},
   "outputs": [
    {
     "name": "stdout",
     "output_type": "stream",
     "text": [
      "15047\n"
     ]
    }
   ],
   "source": [
    "num_nodes = 6000\n",
    "num_graphs = 5\n",
    "max_edges = 20000\n",
    "big_tests = [make_random_graph(min_nodes=num_nodes, max_nodes=num_nodes+10, max_edges=max_edges)\n",
    "             for _ in range(num_graphs)]\n",
    "print(max(list(map(len, big_tests))))"
   ]
  },
  {
   "cell_type": "markdown",
   "metadata": {},
   "source": [
    "## Recursive"
   ]
  },
  {
   "cell_type": "code",
   "execution_count": 10,
   "metadata": {},
   "outputs": [
    {
     "name": "stdout",
     "output_type": "stream",
     "text": [
      "2 4\n"
     ]
    }
   ],
   "source": [
    "@prof_this\n",
    "def my_recursive_articulation_points(edge_list):\n",
    "    adj = defaultdict(set)\n",
    "    for a,b in edge_list:\n",
    "        adj[a].add(b)\n",
    "        adj[b].add(a)\n",
    "    adj = [sorted(adj[v]) for v in sorted(adj.keys())]\n",
    "    if not adj:\n",
    "        return []\n",
    "    #nv = max(a[-1] if a else 0 for a in adj) + 1\n",
    "    nv = max(a[-1] for a in adj) + 1\n",
    "    assert len(adj) == nv\n",
    "\n",
    "    visited = [False] * nv\n",
    "    k_no = [0]\n",
    "    k_val = [None] * nv\n",
    "    parents = [None] * nv\n",
    "    edges = set()\n",
    "    cuts = set()\n",
    "\n",
    "    def dfs(v):\n",
    "        visited[v] = True\n",
    "        k_no[0] += 1\n",
    "        k_val[v] = k_cur = l_cur = k_no[0]\n",
    "        l_children = num_children = 0\n",
    "\n",
    "        for u in adj[v]:\n",
    "            if visited[u]:\n",
    "                continue\n",
    "            parents[u] = v\n",
    "            edges.add((u,v))\n",
    "            edges.add((v,u))\n",
    "            num_children += 1\n",
    "            l_child = dfs(u)\n",
    "            if l_child < l_cur:\n",
    "                l_cur = l_child\n",
    "            if l_child > l_children:\n",
    "                l_children = l_child\n",
    "\n",
    "        z = parents[v]\n",
    "        while z is not None:\n",
    "            if z in adj[v] and (z,v) not in edges:\n",
    "                k_z = k_val[z]\n",
    "                if k_z < l_cur:\n",
    "                    l_cur = k_z\n",
    "            z = parents[z]\n",
    "\n",
    "        if v == 0:\n",
    "            if num_children > 1:\n",
    "                cuts.add(v)\n",
    "        else:\n",
    "            if l_children >= k_cur:\n",
    "                cuts.add(v)\n",
    "\n",
    "        return l_cur\n",
    "\n",
    "    dfs(0)\n",
    "\n",
    "    return sorted(cuts)\n",
    "\n",
    "edges = test_edges\n",
    "#edges = list(tuple(map(int, s.split())) for s in sys.stdin)\n",
    "cuts = my_recursive_articulation_points(edges)\n",
    "print(' '.join(str(v) for v in cuts))"
   ]
  },
  {
   "cell_type": "code",
   "execution_count": 11,
   "metadata": {},
   "outputs": [
    {
     "name": "stdout",
     "output_type": "stream",
     "text": [
      "OK 0.00237\n"
     ]
    }
   ],
   "source": [
    "prof_init()\n",
    "for test in all_tests:\n",
    "    nx_cuts = nx_articulation_points(test)\n",
    "    my_cuts = my_recursive_articulation_points(test)\n",
    "    assert my_cuts == nx_cuts, 'not same!'\n",
    "print('OK %.3g' % prof_time())"
   ]
  },
  {
   "cell_type": "markdown",
   "metadata": {},
   "source": [
    "### IMPORTANT! IMPORTANT! IMPORTANT!\n",
    "\n",
    "It's not enough to set recursion limit on Windows.\n",
    "You've got to increase stack size for your function as well.\n",
    "Since we can't set stack size for the main process, we use a workaround.\n",
    "We increase threading stack size and run our function in a thread:\n",
    "\n",
    "    threading.stack_size(64Mb)\n",
    "    sys.setrecurstionlimit(10**5)\n",
    "    global_result = [None]\n",
    "    def wrapper(*args):\n",
    "        global_result[0] = recursive_func(*args)\n",
    "    thread = threading.Thread(target=wrapper, args=args)\n",
    "    thread.start()\n",
    "    thread.join()\n",
    "    result = global_result[0]"
   ]
  },
  {
   "cell_type": "code",
   "execution_count": 18,
   "metadata": {},
   "outputs": [
    {
     "name": "stdout",
     "output_type": "stream",
     "text": [
      "OK 13.1\n"
     ]
    }
   ],
   "source": [
    "threading.stack_size(64*1024*1024)\n",
    "sys.setrecursionlimit(100100)\n",
    "\n",
    "wrapper_result = [None]\n",
    "def my_articulation_points_wrapper(test):\n",
    "    wrapper_result[0] = None\n",
    "    wrapper_result[0] = my_recursive_articulation_points(test)\n",
    "\n",
    "prof_init()\n",
    "for test in big_tests:\n",
    "    nx_cuts = nx_articulation_points(test)\n",
    "    thread = threading.Thread(target=my_articulation_points_wrapper, args=[test])\n",
    "    thread.start()\n",
    "    thread.join()\n",
    "    my_cuts = wrapper_result[0]\n",
    "    assert my_cuts == nx_cuts, 'not same!'\n",
    "print('OK %.3g' % prof_time())"
   ]
  },
  {
   "cell_type": "markdown",
   "metadata": {},
   "source": [
    "## Slow, Non-recursive"
   ]
  },
  {
   "cell_type": "code",
   "execution_count": 19,
   "metadata": {},
   "outputs": [
    {
     "name": "stdout",
     "output_type": "stream",
     "text": [
      "2 4\n"
     ]
    }
   ],
   "source": [
    "@prof_this\n",
    "def my_nonrec_articulation_points(edge_list):\n",
    "    adj = defaultdict(set)\n",
    "    for a,b in edge_list:\n",
    "        adj[a].add(b)\n",
    "        adj[b].add(a)\n",
    "    adj = [adj[v] for v in sorted(adj.keys())]\n",
    "    if not adj:\n",
    "        return []\n",
    "    nv = len(adj)\n",
    "    assert len(adj) == max(max(a) for a in adj) + 1\n",
    "\n",
    "    visited = [False] * nv\n",
    "    k_no = [0]\n",
    "    k_val = [None] * nv\n",
    "    l_val = [None] * nv\n",
    "    parents = [None] * nv\n",
    "    l_children = [0] * nv\n",
    "    n_children = [0] * nv\n",
    "    edges = set()\n",
    "    cuts = []\n",
    "\n",
    "    k_val[0] = l_val[0] = 1\n",
    "    visited[0] = True\n",
    "    k_no = [1]\n",
    "    todo1 = [list(adj[v]) for v in range(nv)]\n",
    "    todo2 = [[] for v in range(nv)]\n",
    "    stack = [0]\n",
    "    v = 0\n",
    "\n",
    "    while v is not None or stack:\n",
    "        if v is None:\n",
    "            v = stack[-1]\n",
    "        while todo2[v]:\n",
    "            u = todo2[v].pop()\n",
    "            if l_val[u] < l_val[v]:\n",
    "                l_val[v] = l_val[u]\n",
    "            if l_val[u] > l_children[v]:\n",
    "                l_children[v] = l_val[u]\n",
    "        else:\n",
    "            if todo1[v]:\n",
    "                u = todo1[v].pop()\n",
    "                if visited[u]:\n",
    "                    continue\n",
    "                parents[u] = v\n",
    "                edges.add((v,u))\n",
    "                n_children[v] += 1\n",
    "                visited[u] = True\n",
    "                k_no[0] += 1\n",
    "                k_val[u] = l_val[u] = k_no[0]\n",
    "                todo2[v].append(u)\n",
    "                stack.append(u)\n",
    "                v = u\n",
    "            else:\n",
    "                v = stack.pop()\n",
    "                u = parents[v]\n",
    "                while u is not None:\n",
    "                    if (u in adj[v]) and k_val[u] < l_val[v] \\\n",
    "                            and ((u,v) not in edges) and ((v,u) not in edges):\n",
    "                        l_val[v] = k_val[u]\n",
    "                    u = parents[u]\n",
    "                v = None\n",
    "\n",
    "    for v in range(nv):\n",
    "        if (v == 0 and n_children[v] > 1) or (v > 0 and l_children[v] >= k_val[v]):\n",
    "            cuts.append(v)\n",
    "\n",
    "    return sorted(cuts)\n",
    "\n",
    "#edge_list = list(tuple(map(int, s.split())) for s in sys.stdin)\n",
    "edge_list = test_edges\n",
    "cuts = my_nonrec_articulation_points(edge_list)\n",
    "print(' '.join(str(v) for v in cuts))\n"
   ]
  },
  {
   "cell_type": "code",
   "execution_count": 20,
   "metadata": {},
   "outputs": [
    {
     "name": "stdout",
     "output_type": "stream",
     "text": [
      "OK 0.00252\n"
     ]
    }
   ],
   "source": [
    "prof_init()\n",
    "for test in all_tests:\n",
    "    nx_cuts = nx_articulation_points(test)\n",
    "    my_cuts = my_nonrec_articulation_points(test)\n",
    "    assert my_cuts == nx_cuts, 'not same!'\n",
    "print('OK %.3g' % prof_time())"
   ]
  },
  {
   "cell_type": "code",
   "execution_count": 21,
   "metadata": {},
   "outputs": [
    {
     "name": "stdout",
     "output_type": "stream",
     "text": [
      "OK 10.5\n"
     ]
    }
   ],
   "source": [
    "prof_init()\n",
    "for i, test in enumerate(big_tests):\n",
    "    nx_cuts = nx_articulation_points(test)\n",
    "    my_cuts = my_nonrec_articulation_points(test)\n",
    "    assert my_cuts == nx_cuts, 'not same!'\n",
    "print('OK %.3g' % prof_time())"
   ]
  },
  {
   "cell_type": "markdown",
   "metadata": {},
   "source": [
    "# !!!!!!!!!!!!!!!!!!!!!!!!!!!\n",
    "## Fast, Iterative\n",
    "\n",
    "[description of algorithm](https://stepik.org/lesson/12342/step/10)"
   ]
  },
  {
   "cell_type": "code",
   "execution_count": 143,
   "metadata": {},
   "outputs": [
    {
     "name": "stdout",
     "output_type": "stream",
     "text": [
      "elist  [(0, 1), (1, 2), (2, 0), (3, 2), (4, 2), (4, 3), (5, 4)]\n",
      "edges  [(0, 1), (1, 0), (1, 2), (2, 1), (2, 3), (3, 2), (3, 4), (4, 3), (4, 5), (5, 4)]\n",
      "adj    [[1, 2], [0, 2], [0, 1, 3, 4], [2, 4], [2, 3, 5], [4]]\n",
      "p-adj  [[], [0], [1, 0], [2, 1, 0], [3, 2, 1, 0], [4, 3, 2, 1, 0]]\n",
      "rdeg   1\n",
      "parent [0, 0, 1, 2, 3, 4]\n",
      "kval   [1, 2, 3, 4, 5, 6]\n",
      "lval   [1, 2, 3, 3, 3, 6]\n",
      "cuts   [1, 2, 3, 4]\n",
      "1 2 3 4\n"
     ]
    }
   ],
   "source": [
    "@prof_this\n",
    "def my_iter_articulation_points(edge_list, root=0, debug=False):\n",
    "    from collections import defaultdict\n",
    "    adj = defaultdict(set)\n",
    "    for a,b in edge_list:\n",
    "        assert a>=0 and b>=0\n",
    "        adj[a].add(b)\n",
    "        adj[b].add(a)\n",
    "    adj = [sorted(adj[v]) for v in sorted(adj.keys())]\n",
    "    nv = len(adj)\n",
    "    if not nv:\n",
    "        return []\n",
    "    assert max(max(a) for a in adj) == nv-1\n",
    "\n",
    "    parent = [-1] * nv\n",
    "    visited = [False] * nv\n",
    "    visited[root] = True\n",
    "    parent[root] = root\n",
    "    root_deg = 0\n",
    "\n",
    "    kval = [None] * nv\n",
    "    lval = [None] * nv\n",
    "    kval[root] = lval[root] = 1\n",
    "    cur_val = 2\n",
    "    stack = [(root, iter(adj[root]))]\n",
    "    edges = set()\n",
    "\n",
    "    while stack:\n",
    "        p, adj_p = stack[-1]\n",
    "        for v in adj_p:\n",
    "            if visited[v]:  continue\n",
    "            visited[v] = True\n",
    "            edges.add((v,p))\n",
    "            edges.add((p,v))\n",
    "            parent[v] = p\n",
    "            kval[v] = lval[v] = cur_val\n",
    "            cur_val += 1\n",
    "            if p == root:\n",
    "                root_deg += 1\n",
    "            stack.append((v, iter(adj[v])))\n",
    "            break\n",
    "        else:\n",
    "            stack.pop()\n",
    "\n",
    "    for v in range(nv):\n",
    "        l = lval[v]\n",
    "        p = parent[v]\n",
    "        while p != root:\n",
    "            if p in adj[v] and (p,v) not in edges:\n",
    "                if lval[p] < l:\n",
    "                    l = lval[p]\n",
    "            p = parent[p]\n",
    "        lval[v] = l\n",
    "        p = parent[v]\n",
    "        if p != root and lval[p] > l:\n",
    "            lval[p] = l\n",
    "\n",
    "    cuts = set()\n",
    "    for v in range(nv):\n",
    "        l = lval[v]\n",
    "        p = parent[v]\n",
    "        while p != root:\n",
    "            if l >= kval[p]:\n",
    "                cuts.add(p)\n",
    "            p = parent[p]\n",
    "\n",
    "    if root_deg > 1:\n",
    "        cuts.add(root)\n",
    "\n",
    "    padj = [[] for v in range(nv)]\n",
    "    for v in range(nv):\n",
    "        p = v\n",
    "        while p != root:\n",
    "            p = parent[p]\n",
    "            padj[v].append(p)\n",
    "        \n",
    "    if debug:\n",
    "        print('elist ', sorted(edge_list))\n",
    "        print('edges ', sorted(edges))\n",
    "        print('adj   ', adj)\n",
    "        print('p-adj ', padj)\n",
    "        print('rdeg  ', root_deg)\n",
    "        print('parent', parent)\n",
    "        print('kval  ', kval)\n",
    "        print('lval  ', lval)\n",
    "        print('cuts  ', sorted(cuts))\n",
    "\n",
    "    return sorted(cuts)\n",
    "\n",
    "#edge_list = list(tuple(map(int, s.split())) for s in sys.stdin)\n",
    "edge_list = test_edges\n",
    "cuts = my_iter_articulation_points(edge_list, debug=True)\n",
    "print(' '.join(str(v) for v in cuts))"
   ]
  },
  {
   "cell_type": "code",
   "execution_count": 109,
   "metadata": {},
   "outputs": [
    {
     "name": "stdout",
     "output_type": "stream",
     "text": [
      "OK 0.00464\n"
     ]
    }
   ],
   "source": [
    "prof_init()\n",
    "for test in all_tests[:100]:\n",
    "    nx_cuts = nx_articulation_points(test)\n",
    "    my_cuts = my_iter_articulation_points(test)\n",
    "    #assert my_cuts == nx_cuts, 'not same!'\n",
    "print('OK %.3g' % prof_time())"
   ]
  },
  {
   "cell_type": "code",
   "execution_count": 111,
   "metadata": {},
   "outputs": [
    {
     "name": "stdout",
     "output_type": "stream",
     "text": [
      "OK 29.8\n"
     ]
    }
   ],
   "source": [
    "prof_init()\n",
    "for test in big_tests[:2]:\n",
    "    nx_cuts = nx_articulation_points(test)\n",
    "    my_cuts = my_iter_articulation_points(test)\n",
    "    #assert my_cuts == nx_cuts, 'not same!'\n",
    "print('OK %.3g' % prof_time())"
   ]
  },
  {
   "cell_type": "markdown",
   "metadata": {},
   "source": [
    "## From NetworkX"
   ]
  },
  {
   "cell_type": "code",
   "execution_count": 22,
   "metadata": {},
   "outputs": [
    {
     "name": "stdout",
     "output_type": "stream",
     "text": [
      "2 4\n"
     ]
    }
   ],
   "source": [
    "def _my_nx_dfs(adj, components=True):\n",
    "    # depth-first search algorithm to generate articulation points and biconnected components\n",
    "    visited = set()\n",
    "    for start in sorted(adj.keys()):\n",
    "        if start in visited:\n",
    "            continue\n",
    "        discovery = {start:0} # \"time\" of first discovery of node during search\n",
    "        low = {start:0}\n",
    "        root_children = 0\n",
    "        visited.add(start)\n",
    "        edge_stack = []\n",
    "        stack = [(start, start, iter(adj[start]))]\n",
    "        while stack:\n",
    "            grandparent, parent, children = stack[-1]\n",
    "            try:\n",
    "                child = next(children)\n",
    "                if grandparent == child:\n",
    "                    continue\n",
    "                if child in visited:\n",
    "                    if discovery[child] <= discovery[parent]: # back edge\n",
    "                        low[parent] = min(low[parent],discovery[child])\n",
    "                        if components:\n",
    "                            edge_stack.append((parent,child))\n",
    "                else:\n",
    "                    low[child] = discovery[child] = len(discovery)\n",
    "                    visited.add(child)\n",
    "                    stack.append((parent, child, iter(adj[child])))\n",
    "                    if components:\n",
    "                        edge_stack.append((parent,child))\n",
    "            except StopIteration:\n",
    "                stack.pop()\n",
    "                if len(stack) > 1:\n",
    "                    if low[parent] >= discovery[grandparent]:\n",
    "                        if components:\n",
    "                            ind = edge_stack.index((grandparent,parent))\n",
    "                            yield edge_stack[ind:]\n",
    "                            edge_stack=edge_stack[:ind]\n",
    "                        else:\n",
    "                            yield grandparent\n",
    "                    low[grandparent] = min(low[parent], low[grandparent])\n",
    "                elif stack: # length 1 so grandparent is root\n",
    "                    root_children += 1\n",
    "                    if components:\n",
    "                        ind = edge_stack.index((grandparent,parent))\n",
    "                        yield edge_stack[ind:]\n",
    "        if not components:\n",
    "            # root node is articulation point if it has more than 1 child\n",
    "            if root_children > 1:\n",
    "                yield start\n",
    "\n",
    "@prof_this\n",
    "def my_nx_articulation_points(edge_list):\n",
    "    adj = defaultdict(set)\n",
    "    for a,b in edge_list:\n",
    "        adj[a].add(b)\n",
    "        adj[b].add(a)\n",
    "    if not adj:\n",
    "        return []\n",
    "    return sorted(set(_my_nx_dfs(adj, components=False)))\n",
    "\n",
    "#edge_list = list(tuple(map(int, s.split())) for s in sys.stdin)\n",
    "edge_list = test_edges\n",
    "cuts = my_nx_articulation_points(edge_list)\n",
    "print(' '.join(str(v) for v in cuts))"
   ]
  },
  {
   "cell_type": "code",
   "execution_count": 23,
   "metadata": {},
   "outputs": [
    {
     "name": "stdout",
     "output_type": "stream",
     "text": [
      "OK 0.00115\n"
     ]
    }
   ],
   "source": [
    "prof_init()\n",
    "for test in all_tests:\n",
    "    nx_cuts = nx_articulation_points(test)\n",
    "    my_cuts = my_nx_articulation_points(test)\n",
    "    assert my_cuts == nx_cuts, 'not same!'\n",
    "print('OK %.3g' % prof_time())"
   ]
  },
  {
   "cell_type": "code",
   "execution_count": 24,
   "metadata": {},
   "outputs": [
    {
     "name": "stdout",
     "output_type": "stream",
     "text": [
      "OK 0.162\n"
     ]
    }
   ],
   "source": [
    "prof_init()\n",
    "for i, test in enumerate(big_tests):\n",
    "    nx_cuts = nx_articulation_points(test)\n",
    "    my_cuts = my_nx_articulation_points(test)\n",
    "    assert my_cuts == nx_cuts, 'not same!'\n",
    "print('OK %.3g' % prof_time())"
   ]
  },
  {
   "cell_type": "markdown",
   "metadata": {},
   "source": [
    "## Subprocess tests"
   ]
  },
  {
   "cell_type": "code",
   "execution_count": 25,
   "metadata": {},
   "outputs": [
    {
     "name": "stdout",
     "output_type": "stream",
     "text": [
      "2 4\n",
      "all OK 0.208\n",
      "big OK 0.519\n"
     ]
    }
   ],
   "source": [
    "@prof_this\n",
    "def run_program(edges):\n",
    "    from sys import executable\n",
    "    from subprocess import run, STDOUT, PIPE\n",
    "    sdata = ''.join('{} {}\\n'.format(a,b) for a,b in edges)\n",
    "    pname = 'articulation-points.py'\n",
    "    res = run([executable, pname], stderr=STDOUT, stdout=PIPE, input=bytes(sdata,'utf8'))\n",
    "    return res.stdout.strip().decode()\n",
    "\n",
    "print(run_program(test_edges))\n",
    "\n",
    "prof_init()\n",
    "for test in all_tests[:100]:\n",
    "    nx_cuts = ' '.join(str(v) for v in nx_articulation_points(test))\n",
    "    my_cuts = run_program(test)\n",
    "    assert my_cuts == nx_cuts, 'my:[{}] != nx:[{}]'.format(my_cuts, nx_cuts)\n",
    "print('all OK %.3g' % prof_time())\n",
    "\n",
    "prof_init()\n",
    "for test in big_tests[:10]:\n",
    "    nx_cuts = ' '.join(str(v) for v in nx_articulation_points(test))\n",
    "    my_cuts = run_program(test)\n",
    "    assert my_cuts == nx_cuts, 'not same!'\n",
    "print('big OK %.3g' % prof_time())"
   ]
  },
  {
   "cell_type": "markdown",
   "metadata": {},
   "source": [
    "## Debugging"
   ]
  },
  {
   "cell_type": "code",
   "execution_count": 26,
   "metadata": {},
   "outputs": [],
   "source": [
    "if False:\n",
    "    graph = nx.from_edgelist(test)\n",
    "    dot = nx.nx_pydot.to_pydot(graph)\n",
    "    HTML(dot.create_svg(prog='dot').decode())"
   ]
  },
  {
   "cell_type": "code",
   "execution_count": null,
   "metadata": {},
   "outputs": [],
   "source": []
  }
 ],
 "metadata": {
  "kernelspec": {
   "display_name": "Python [default]",
   "language": "python",
   "name": "python3"
  },
  "language_info": {
   "codemirror_mode": {
    "name": "ipython",
    "version": 3
   },
   "file_extension": ".py",
   "mimetype": "text/x-python",
   "name": "python",
   "nbconvert_exporter": "python",
   "pygments_lexer": "ipython3",
   "version": "3.6.3"
  }
 },
 "nbformat": 4,
 "nbformat_minor": 2
}
