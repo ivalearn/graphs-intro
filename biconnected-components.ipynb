{
 "cells": [
  {
   "cell_type": "markdown",
   "metadata": {},
   "source": [
    "# Articulation points (Точки сочленения)\n",
    "\n",
    "## Алгоритм Хопкрофта-Тарьяна\n",
    "\n",
    "[Опишем алгоритм](https://stepik.org/lesson/12342/step/10) поиска [точек сочленения](https://en.wikipedia.org/wiki/Biconnected_component) в односвязном графе, линейный по количеству вершин и ребер в графе. Данный алгоритм был предложен в 1973 году Джоном Хопкрофтом и Робертом Тарьяном и базируется на алгоритме обхода графа в глубину.\n",
    "\n",
    "**1.**\n",
    "Пусть $G$ есть простой односвязный граф. В результате алгоритма поиска в глубину мы получаем дерево $T(G)$ обхода графа с корнем в вершине $x_0$ - вершине, с которой мы начинаем обход графа (см.рисунок). В результате обхода все ребра графа разбиваются на два класса - ребра, принадлежащие дереву обхода (ребра, помеченные синим цветом на рисунке), а также ребра, дереву не принадлежащие (ребра, помеченные черным цветом на рисунке) - так называемые обратные ребра.\n",
    "\n",
    "![Hopcroft_Tarjan](images/Hopcroft_Tarjan.svg)\n",
    "\n",
    "Достаточно очевидно, что корень $x_0$ дерева $T(G)$ является точкой сочленения тогда и только тогда, когда он имеет два или более потомка в дереве обхода (см. вершину $x_0$ на рисунке). Действительно, после удаления $x_0$ смежные с $x_0$ вершины, являющиеся потомками $x_0$ в дереве $T(G)$, оказываются в разных компонентах связности графа $G \\setminus x_0$. Для того, чтобы понять, в каком случае вершина $x \\neq x_0$ является точкой сочленения, рассмотрим подмножество $y_i$ потомков вершины $x$ в дереве $T(G)$ обхода графа $G$ (см. рисунок). Предположим, что хотя бы для одной вершины $y_i$ обратные ребра, исходящие из поддерева $T_i$ с корнем в вершине $y_i$, либо вовсе отсутствуют (вершина $y_2$ на рисунке), либо оканчиваются в вершине $x$ или в вершинах самого поддерева $T_i$ (вершина $z_1$ на рисунке). В этом случае при удалении $x$ граф $G$ разваливается как минимум на две компоненты связности, то есть $x$ является точкой сочленения. Если же в $G$ существовали бы обратные ребра, исходящие, например, из точек $z_2$ и $y_1$, и входящие в предки вершины $x$ (см. пунктирные ребра, помеченные красным цветом на рисунке), то вершина $x$ точкой сочленения бы не являлась.\n",
    "\n",
    "**2.**\n",
    "Описанные выше наблюдения можно положить в основу алгоритма поиска точек сочленения. Именно, будем обходить граф $G$ в глубину, помечая вершины графа в порядке этого обхода натуральными числами $k(x)$ из диапазона от $1$ до $n = \\left| V(G) \\right|$. Наряду с $k(x)$ введем для каждой вершины графа функцию $l(x)$ следующим образом. Для стартовой вершины $x_0$ с $k(x_0) = 1$ положим $l(x_0) = 1$. Для всех остальных вершин $l(x)$ определим следующим образом:\n",
    "$$\n",
    "  l(x)=\\min \\begin{cases}\n",
    "    k(x)   ,& \\\\\n",
    "    l(y_i) ,& \\text{где $y_i$ $-$ непосредственные потомки вершины $x$ в дереве $T(G)$} , \\\\\n",
    "    k(z_j) ,& \\text{где $z_j$ $-$ предки вершины $x$ в $T(G)$, соединенные с $x$ обратным ребром в $G$}.\n",
    "  \\end{cases}\n",
    "$$\n",
    "\n",
    "Вершина $x \\neq x_0$ является точкой сочленения в случае, когда хотя бы для одного из ее потомков $y_i$ значение $l(y_i)$ оказывается большим или равным номеру $k(x)$ вершины $x$:\n",
    "$$\n",
    "  \\mathbf{if}   \\quad \\exists \\, y_i \\colon \\; l(y_i) \\geqslant k(x) \\quad\n",
    "  \\mathbf{then} \\quad x \\neq x_0 \\text{ is a cut point.}\n",
    "$$\n",
    "\n",
    "Для корневой вершины $x_0$ достаточно подсчитать количество ее потомков в дереве $T(G)$. Если это количество больше единицы, то $x_0$ является точкой сочленения.\n",
    "\n",
    "![Hopcroft_Tarjan_numbers_2](images/Hopcroft_Tarjan_numbers_2.svg)\n",
    "\n",
    "**3.**\n",
    "Результаты работы описанного выше алгоритма для графа $G$ показаны на приведенном выше рисунке. Вершины этого графа помечены числами от $1$ до $12$ в порядке обхода этих вершин поиском в глубину. В скобках для каждой вершины $i$ стоит соответствующее ей число $l(i)$. Красным цветом на этом рисунке помечены точки сочленения графа $G$. Действительно, у вершины $7$ имеется потомок - вершина $8$, значение $l(8) = 8$ которой больше номера вершины $7$. Аналогичный факт справедлив для вершин $4$ и $3$ - у них имеются непосредственные потомки $y_i$ с $l(y_i)$, большими или равными номерам этих вершин. Наконец, у вершины $1$ имеются два потомка в дереве $T(G)$, так что $1$ есть точка сочленения $G$.\n",
    "\n",
    "### [Важное замечание](https://stepik.org/lesson/12342/step/9)\n",
    "\n",
    "Для правильной работы алгоритма  Хопкрофта-Тарьяна *необходимо*, чтобы остовное дерево $T$ графа было построено с помощью *обхода в глубину*.\n",
    "\n",
    "Такие деревья обладают важным свойством, от которого зависит коррекность алгоритма:\n",
    "\n",
    "  > __любое ребро графа, не являющееся ребром дерева (обратное ребро), соединяет вершину с её предком в дереве $T$.__\n",
    "\n",
    "Приведём пример некорректно построенного остовного дерева:\n",
    "\n",
    "![Incorrect If Not DFS Tree](images/Hopcroft_Tarjan--Incorrect_If_Not_DFS_Tree.png)\n",
    "\n",
    "Здесь вершины $y$ и $z$ соединены ребром, не входящим в дерево, однако это ребро соединяет вершины из разных поддеревьев $x$. В дереве, полученном обходом в глубину, такая ситуация была бы невозможна: при обработке первой из этих вершин, для определённости вершины $y$, мы бы прошли и в $z$, сделав ребро ${y,z}$ ребром остовного дерева.\n",
    "\n",
    "Как следствие, критерий для дерева на рисунке работает неверно. В частности, для вершины $v$ мы получаем, что ни одно из обратных рёбер, исходящих из её потомков, не оканчивается в предке $v$, однако $v$ при этом не является точкой сочленения.\n",
    "\n",
    "В остовном дереве $T$, полученном обходом в глубину, обратные рёбра, исходящие из вершин некоторого поддерева $T_1$ с корнем в вершине $u$, либо заканчиваются только в вершинах $T_1$, и тогда удаление $u$ действительно приводит к нарушению связности между $T_1$ и остальным графом, либо же найдется ребро, ведущее в предка $u$, и тогда при удалении $u$ в это поддерево всё равно можно добраться по такому обратному ребру. Это наблюдение при желании можно превратить в формальное доказательство корректности критерия, описанного на [лекции](https://stepik.org/lesson/12342/step/8), для таких деревьев."
   ]
  },
  {
   "cell_type": "code",
   "execution_count": 1,
   "metadata": {},
   "outputs": [],
   "source": [
    "%matplotlib inline\n",
    "import matplotlib.pyplot as plt\n",
    "import numpy as np\n",
    "import networkx as nx\n",
    "import numba\n",
    "import itertools\n",
    "import sys\n",
    "import random\n",
    "import threading\n",
    "from random import randint\n",
    "from collections import defaultdict, deque\n",
    "from sys import stdin"
   ]
  },
  {
   "cell_type": "code",
   "execution_count": 2,
   "metadata": {},
   "outputs": [],
   "source": [
    "# Profiler\n",
    "\n",
    "from time import clock\n",
    "\n",
    "prof_list = []\n",
    "\n",
    "def prof_init():\n",
    "    del prof_list[:]\n",
    "\n",
    "def prof_this(func):\n",
    "    def prof_wrap(*a, **kw):\n",
    "        t0 = clock()\n",
    "        ret = func(*a, **kw)\n",
    "        prof_list.append(clock() - t0)\n",
    "        return ret\n",
    "    return prof_wrap\n",
    "\n",
    "def prof_time():\n",
    "    if not len(prof_list):\n",
    "        prof_list.append(0.)\n",
    "    return sum(prof_list) / len(prof_list)"
   ]
  },
  {
   "cell_type": "markdown",
   "metadata": {},
   "source": [
    "## Prepare tests"
   ]
  },
  {
   "cell_type": "code",
   "execution_count": 3,
   "metadata": {},
   "outputs": [],
   "source": [
    "# should return \"2 4\":\n",
    "test_edges = [tuple(map(int, s.split())) for s in '0 1\\n1 2\\n2 0\\n3 2\\n4 3\\n4 2\\n5 4\\n'.splitlines()]\n",
    "\n",
    "# should return \"1\":\n",
    "hard_edges = [(0, 1), (0, 2), (1, 2), (1, 3), (1, 4), (3, 4)]"
   ]
  },
  {
   "cell_type": "code",
   "execution_count": 4,
   "metadata": {},
   "outputs": [],
   "source": [
    "def make_random_graph(max_nodes, min_nodes=4, max_edges=None, max_node_edges=4):\n",
    "    max_nodes = max(max_nodes, min_nodes)\n",
    "    while True:\n",
    "        num = randint(min_nodes, max_nodes)\n",
    "        deg_in = [randint(1, max_node_edges) for i in range(num)]\n",
    "        deg_out = deg_in[:]\n",
    "        random.shuffle(deg_out)\n",
    "        graph = nx.directed_configuration_model(in_degree_sequence=deg_in,\n",
    "                                                out_degree_sequence=deg_out)\n",
    "        edges = set()\n",
    "        for a,b,c in list(graph.edges):\n",
    "            if a != b:\n",
    "                edges.add((a,b) if a < b else (b,a))\n",
    "        if not edges:\n",
    "            continue\n",
    "        if max_edges and len(edges) > max_edges:\n",
    "            continue\n",
    "        graph = nx.Graph(list(edges))\n",
    "        if len(graph) and nx.is_connected(graph):\n",
    "            nodes = sorted(graph.nodes)\n",
    "            graph = nx.relabel_nodes(graph, {nodes[i]: i for i in range(len(nodes))})\n",
    "            return sorted(graph.edges)"
   ]
  },
  {
   "cell_type": "code",
   "execution_count": 5,
   "metadata": {},
   "outputs": [
    {
     "name": "stdout",
     "output_type": "stream",
     "text": [
      "(2 4)\n",
      "(1)\n"
     ]
    }
   ],
   "source": [
    "def print_points(result):\n",
    "    print('(%s)' % ' '.join(str(v) for v in sorted(result)))\n",
    "\n",
    "def nx_cut_points(edges):\n",
    "    return sorted(nx.articulation_points(nx.from_edgelist(edges)))\n",
    "\n",
    "print_points(nx_cut_points(test_edges))\n",
    "print_points(nx_cut_points(hard_edges))"
   ]
  },
  {
   "cell_type": "code",
   "execution_count": 6,
   "metadata": {},
   "outputs": [
    {
     "name": "stdout",
     "output_type": "stream",
     "text": [
      "267\n"
     ]
    }
   ],
   "source": [
    "num_tests = 1000\n",
    "num_nodes = 100\n",
    "all_tests = [make_random_graph(min_nodes=4, max_nodes=num_nodes) for _ in range(num_tests)]\n",
    "print(max(map(len, all_tests)))"
   ]
  },
  {
   "cell_type": "code",
   "execution_count": 7,
   "metadata": {},
   "outputs": [
    {
     "name": "stdout",
     "output_type": "stream",
     "text": [
      "14990\n"
     ]
    }
   ],
   "source": [
    "num_tests = 10\n",
    "num_nodes = 6000\n",
    "max_edges = 15000\n",
    "big_tests = [make_random_graph(min_nodes=num_nodes, max_nodes=num_nodes+10, max_edges=max_edges)\n",
    "             for _ in range(num_tests)]\n",
    "print(max(map(len, big_tests)))"
   ]
  },
  {
   "cell_type": "markdown",
   "metadata": {},
   "source": [
    "## Iterative (OK)"
   ]
  },
  {
   "cell_type": "code",
   "execution_count": 8,
   "metadata": {},
   "outputs": [
    {
     "name": "stdout",
     "output_type": "stream",
     "text": [
      "()\n",
      "(2 4)\n",
      "(1)\n"
     ]
    }
   ],
   "source": [
    "from sys import stdin\n",
    "from collections import defaultdict\n",
    "\n",
    "@prof_this\n",
    "def my_iterok_cut_points(edge_list):\n",
    "    adj = defaultdict(set)\n",
    "    nv = 0\n",
    "    for a, b in edge_list:\n",
    "        adj[a].add(b)\n",
    "        adj[b].add(a)\n",
    "        nv = max(nv, a+1, b+1)\n",
    "    node_list = adj.keys()\n",
    "    cuts = set()\n",
    "    visited = [False] * nv\n",
    "\n",
    "    for root in node_list:\n",
    "        if visited[root]:\n",
    "            continue\n",
    "        cur_val = 0\n",
    "        k_val = [None] * nv\n",
    "        l_val = [None] * nv\n",
    "\n",
    "        root_degree = 0\n",
    "        visited[root] = True\n",
    "        k_val[root] = l_val[root] = cur_val\n",
    "        cur_val += 1\n",
    "        stack = [(None, root, iter(adj[root]))]\n",
    "\n",
    "        while stack:\n",
    "            grand, parent, children = stack[-1]\n",
    "            for child in children:\n",
    "                if visited[child]:\n",
    "                    if child != grand and k_val[child] < k_val[parent]:  # back edge\n",
    "                        l_val[parent] = min(l_val[parent], k_val[child])\n",
    "                    continue\n",
    "                visited[child] = True\n",
    "                if parent == root:\n",
    "                    root_degree += 1\n",
    "                k_val[child] = l_val[child] = cur_val\n",
    "                cur_val += 1\n",
    "                stack.append((parent, child, iter(adj[child])))\n",
    "                break\n",
    "            else:\n",
    "                stack.pop()\n",
    "                if grand is not None and grand != root:\n",
    "                    l_val[grand] = min(l_val[grand], l_val[parent])\n",
    "                    if l_val[parent] >= k_val[grand] and grand != root:\n",
    "                        cuts.add(grand)\n",
    "\n",
    "        if root_degree > 1:\n",
    "            cuts.add(root)\n",
    "\n",
    "    return sorted(cuts)\n",
    "\n",
    "print_points(my_iterok_cut_points([]))\n",
    "print_points(my_iterok_cut_points(test_edges))  # should return \"2 4\"\n",
    "print_points(my_iterok_cut_points(hard_edges))  # should return \"1\"\n",
    "\n",
    "#edges = list(tuple(map(int, s.split())) for s in stdin)\n",
    "#print(*my_iterok_cut_points(edges))"
   ]
  },
  {
   "cell_type": "code",
   "execution_count": 9,
   "metadata": {},
   "outputs": [
    {
     "name": "stdout",
     "output_type": "stream",
     "text": [
      "all OK 0.00096\n",
      "big OK 0.126\n"
     ]
    }
   ],
   "source": [
    "prof_init()\n",
    "for test in all_tests:\n",
    "    nx_cuts = nx_cut_points(test)\n",
    "    my_cuts = my_iterok_cut_points(test)\n",
    "    assert my_cuts == nx_cuts, 'not same!'\n",
    "print('all OK %.3g' % prof_time())\n",
    "\n",
    "prof_init()\n",
    "for test in big_tests:\n",
    "    nx_cuts = nx_cut_points(test)\n",
    "    my_cuts = my_iterok_cut_points(test)\n",
    "    assert my_cuts == nx_cuts, 'not same!'\n",
    "print('big OK %.3g' % prof_time())"
   ]
  },
  {
   "cell_type": "markdown",
   "metadata": {},
   "source": [
    "## NetworkX\n",
    "\n",
    "The algorithm to find articulation points is implemented using a non-recursive depth-first-search (DFS) that keeps track of the highest level that back edges reach in the DFS tree.  A node $n$ is an articulation point *iff* there exists a subtree rooted at $n$ such that there is no back edge from any successor of $n$ that links to a predecessor of $n$ in the DFS tree.\n",
    "\n",
    "Hopcroft, J.; Tarjan, R. (1973).\n",
    "\"Efficient algorithms for graph manipulation\".\n",
    "Communications of the ACM 16: 372–378. doi:10.1145/362248.362272"
   ]
  },
  {
   "cell_type": "code",
   "execution_count": 10,
   "metadata": {},
   "outputs": [
    {
     "name": "stdout",
     "output_type": "stream",
     "text": [
      "()\n",
      "(2 4)\n",
      "(1)\n"
     ]
    }
   ],
   "source": [
    "from collections import defaultdict\n",
    "\n",
    "@prof_this\n",
    "def my_nx_cut_points(edge_list, debug=False):\n",
    "\n",
    "    def trace(sym, parent=None, child='-', pstep=[0]):\n",
    "        if debug:\n",
    "            pstep[0] += 1\n",
    "            print('%02d' % pstep[0],\n",
    "                  '[%s>%s]' % ('-' if parent is None else parent, child),\n",
    "                  '\"%s\"' % sym,\n",
    "                  ' '.join('%s=%s/%s' % (n, k_val.get(n,'-'), l_val.get(n,'-'))\n",
    "                           for n in sorted(adj.keys())),\n",
    "                  '(%s)' % ' '.join(map(str, sorted(cuts))))\n",
    "\n",
    "    def adj_iter(node):\n",
    "        if debug:\n",
    "            return iter(sorted(adj[node]))\n",
    "        else:\n",
    "            return iter(adj[node])\n",
    "\n",
    "    adj = defaultdict(set)\n",
    "    for a,b in edge_list:\n",
    "        adj[a].add(b)\n",
    "        adj[b].add(a)\n",
    "\n",
    "    # depth-first search algorithm to generate articulation points\n",
    "    visited = set()\n",
    "    cuts = set()\n",
    "\n",
    "    for root in sorted(adj.keys()):\n",
    "        if root in visited:\n",
    "            continue\n",
    "        k_val = {root: 0}  # \"time\" of first discovery of node during search\n",
    "        l_val = {root: 0}\n",
    "        root_degree = 0\n",
    "        visited.add(root)\n",
    "        stack = [(None, root, adj_iter(root))]\n",
    "        trace('s')\n",
    "        while stack:\n",
    "            grand, parent, children = stack[-1]\n",
    "            for child in children:\n",
    "                if child == grand:\n",
    "                    trace('x', parent, child)\n",
    "                    continue\n",
    "                if child in visited:\n",
    "                    if k_val[child] <= k_val[parent]:  # back edge\n",
    "                        l_val[parent] = min(l_val[parent], k_val[child])\n",
    "                        trace('b', parent, child)\n",
    "                    else:\n",
    "                        trace('v', parent, child)\n",
    "                else:\n",
    "                    l_val[child] = k_val[child] = len(k_val)\n",
    "                    visited.add(child)\n",
    "                    stack.append((parent, child, adj_iter(child)))\n",
    "                    if parent == root:\n",
    "                        root_degree += 1\n",
    "                        trace('r', grand, parent)\n",
    "                    else:\n",
    "                        trace('n', parent, child)\n",
    "                break\n",
    "            else:\n",
    "                stack.pop()\n",
    "                if len(stack) > 1:  # length > 1 so grand is not root\n",
    "                    if l_val[parent] >= k_val[grand]:\n",
    "                        cuts.add(grand)\n",
    "                    l_val[grand] = min(l_val[parent], l_val[grand])\n",
    "                    trace('<', grand, parent)\n",
    "                else:\n",
    "                    trace('^', grand, parent)\n",
    "        # root node is articulation point if it has more than 1 child\n",
    "        if root_degree > 1:\n",
    "            cuts.add(root)\n",
    "        trace('e')\n",
    "\n",
    "    return sorted(cuts)\n",
    "\n",
    "print_points(my_nx_cut_points([]))\n",
    "print_points(my_nx_cut_points(test_edges))\n",
    "print_points(my_nx_cut_points(hard_edges))\n",
    "\n",
    "#edges = list(tuple(map(int, s.split())) for s in sys.stdin)\n",
    "#print(*my_nx_cut_points(edges))"
   ]
  },
  {
   "cell_type": "code",
   "execution_count": 11,
   "metadata": {},
   "outputs": [
    {
     "name": "stdout",
     "output_type": "stream",
     "text": [
      "all OK 0.00141\n",
      "big OK 0.233\n"
     ]
    }
   ],
   "source": [
    "prof_init()\n",
    "for test in all_tests:\n",
    "    nx_cuts = nx_cut_points(test)\n",
    "    my_cuts = my_nx_cut_points(test)\n",
    "    assert my_cuts == nx_cuts, 'not same!'\n",
    "print('all OK %.3g' % prof_time())\n",
    "\n",
    "prof_init()\n",
    "for test in big_tests:\n",
    "    nx_cuts = nx_cut_points(test)\n",
    "    my_cuts = my_nx_cut_points(test)\n",
    "    assert my_cuts == nx_cuts, 'not same!'\n",
    "print('big OK %.3g' % prof_time())"
   ]
  },
  {
   "cell_type": "markdown",
   "metadata": {},
   "source": [
    "## Subprocess test"
   ]
  },
  {
   "cell_type": "code",
   "execution_count": 12,
   "metadata": {},
   "outputs": [
    {
     "name": "stdout",
     "output_type": "stream",
     "text": [
      "()\n",
      "(  2 4)\n",
      "(1)\n",
      "all OK 0.2\n",
      "big OK 0.506\n"
     ]
    }
   ],
   "source": [
    "@prof_this\n",
    "def run_program(edges):\n",
    "    from sys import executable\n",
    "    from subprocess import run, STDOUT, PIPE\n",
    "    sdata = ''.join('{} {}\\n'.format(a,b) for a,b in edges)\n",
    "    pname = 'articulation-points.py'\n",
    "    res = run([executable, pname], stderr=STDOUT, stdout=PIPE, input=bytes(sdata,'utf8'))\n",
    "    return res.stdout.decode().strip()\n",
    "\n",
    "print_points(run_program([]))\n",
    "print_points(run_program(test_edges))\n",
    "print_points(run_program(hard_edges))\n",
    "\n",
    "prof_init()\n",
    "for test in all_tests[:100]:\n",
    "    nx_cuts = ' '.join(str(v) for v in nx_cut_points(test))\n",
    "    my_cuts = run_program(test)\n",
    "    assert my_cuts == nx_cuts, 'my:[{}] != nx:[{}]'.format(my_cuts, nx_cuts)\n",
    "print('all OK %.3g' % prof_time())\n",
    "\n",
    "prof_init()\n",
    "for test in big_tests:\n",
    "    nx_cuts = ' '.join(str(v) for v in nx_cut_points(test))\n",
    "    my_cuts = run_program(test)\n",
    "    assert my_cuts == nx_cuts, 'not same!'\n",
    "print('big OK %.3g' % prof_time())"
   ]
  },
  {
   "cell_type": "markdown",
   "metadata": {},
   "source": [
    "------\n",
    "# Broken variants\n",
    "\n",
    "\n",
    "------"
   ]
  },
  {
   "cell_type": "markdown",
   "metadata": {},
   "source": [
    "## Recursive (stack hog)"
   ]
  },
  {
   "cell_type": "code",
   "execution_count": 13,
   "metadata": {},
   "outputs": [
    {
     "name": "stdout",
     "output_type": "stream",
     "text": [
      "()\n",
      "(2 4)\n",
      "(1)\n"
     ]
    }
   ],
   "source": [
    "@prof_this\n",
    "def my_recursive_cut_points(edge_list):\n",
    "    adj = defaultdict(set)\n",
    "    for a,b in edge_list:\n",
    "        adj[a].add(b)\n",
    "        adj[b].add(a)\n",
    "    adj = [sorted(adj[v]) for v in sorted(adj.keys())]\n",
    "    if not adj:\n",
    "        return []\n",
    "    #nv = max(a[-1] if a else 0 for a in adj) + 1\n",
    "    nv = max(a[-1] for a in adj) + 1\n",
    "    assert len(adj) == nv\n",
    "\n",
    "    visited = [False] * nv\n",
    "    cur_val = 0\n",
    "    k_of = [None] * nv\n",
    "    parent_of = [None] * nv\n",
    "    edges = set()\n",
    "    cuts = set()\n",
    "\n",
    "    def dfs(parent):\n",
    "        visited[parent] = True\n",
    "        nonlocal cur_val\n",
    "        k_of[parent] = k_parent = l_parent = cur_val\n",
    "        cur_val += 1\n",
    "        l_children = num_children = 0\n",
    "\n",
    "        for child in adj[parent]:\n",
    "            if visited[child]:\n",
    "                continue\n",
    "            parent_of[child] = parent\n",
    "            edges.add((child, parent))\n",
    "            edges.add((parent, child))\n",
    "            num_children += 1\n",
    "            l_child = dfs(child)\n",
    "            l_parent = min(l_parent, l_child)\n",
    "            l_children = max(l_children, l_child)\n",
    "\n",
    "        grand = parent_of[parent]\n",
    "        while grand is not None:\n",
    "            if grand in adj[parent] and (grand,parent) not in edges:  # back edge\n",
    "                l_parent = min(l_parent, k_of[grand])\n",
    "            grand = parent_of[grand]\n",
    "\n",
    "        if parent == 0 and num_children > 1:\n",
    "            cuts.add(parent)\n",
    "        elif parent != 0 and l_children >= k_parent:\n",
    "            cuts.add(parent)\n",
    "\n",
    "        return l_parent\n",
    "\n",
    "    dfs(0)\n",
    "\n",
    "    return sorted(cuts)\n",
    "\n",
    "print_points(my_recursive_cut_points([]))\n",
    "print_points(my_recursive_cut_points(test_edges))  # should return \"2 4\"\n",
    "print_points(my_recursive_cut_points(hard_edges))  # should return \"1\"\n",
    "\n",
    "#edges = list(tuple(map(int, s.split())) for s in sys.stdin)\n",
    "#print(*my_recursive_cut_points(edges))"
   ]
  },
  {
   "cell_type": "code",
   "execution_count": 14,
   "metadata": {},
   "outputs": [
    {
     "name": "stdout",
     "output_type": "stream",
     "text": [
      "all OK 0.00206\n"
     ]
    }
   ],
   "source": [
    "prof_init()\n",
    "for test in all_tests:\n",
    "    nx_cuts = nx_cut_points(test)\n",
    "    my_cuts = my_recursive_cut_points(test)\n",
    "    assert my_cuts == nx_cuts, 'not same!'\n",
    "print('all OK %.3g' % prof_time())"
   ]
  },
  {
   "cell_type": "markdown",
   "metadata": {},
   "source": [
    "### IMPORTANT! IMPORTANT!\n",
    "\n",
    "It's *not enough* to set recursion limit (at least, on Windows).\n",
    "You've got to increase your function's *stack size* as well.\n",
    "Since we can't change stack size in the main process, use a workaround.\n",
    "We increase `threading` stack size and run the function *in a thread*:\n",
    "\n",
    "    threading.stack_size(64Mb)\n",
    "    sys.setrecurstionlimit(10**5)\n",
    "    global_result = [None]\n",
    "    def wrapper(*args):\n",
    "        global_result[0] = recursive_func(*args)\n",
    "    thread = threading.Thread(target=wrapper, args=args)\n",
    "    thread.start()\n",
    "    thread.join()\n",
    "    result = global_result[0]"
   ]
  },
  {
   "cell_type": "code",
   "execution_count": 15,
   "metadata": {},
   "outputs": [
    {
     "name": "stdout",
     "output_type": "stream",
     "text": [
      "big OK 11.5\n"
     ]
    }
   ],
   "source": [
    "threading.stack_size(64*1024*1024)\n",
    "sys.setrecursionlimit(100100)\n",
    "\n",
    "wrapper_result = [None]\n",
    "def my_cut_points_wrapper(test):\n",
    "    wrapper_result[0] = None\n",
    "    wrapper_result[0] = my_recursive_cut_points(test)\n",
    "\n",
    "prof_init()\n",
    "for test in big_tests:\n",
    "    nx_cuts = nx_cut_points(test)\n",
    "    thread = threading.Thread(target=my_cut_points_wrapper, args=[test])\n",
    "    thread.start()\n",
    "    thread.join()\n",
    "    my_cuts = wrapper_result[0]\n",
    "    assert my_cuts == nx_cuts, 'not same!'\n",
    "print('big OK %.3g' % prof_time())"
   ]
  },
  {
   "cell_type": "markdown",
   "metadata": {},
   "source": [
    "## Iterative (memory hog)"
   ]
  },
  {
   "cell_type": "code",
   "execution_count": 16,
   "metadata": {},
   "outputs": [
    {
     "name": "stdout",
     "output_type": "stream",
     "text": [
      "()\n",
      "(2 4)\n",
      "(1)\n"
     ]
    }
   ],
   "source": [
    "from sys import stdin\n",
    "from collections import defaultdict\n",
    "\n",
    "@prof_this\n",
    "def my_itermem_cut_points(edge_list, debug=False):\n",
    "    adj = defaultdict(set)\n",
    "    nv = -1\n",
    "    for a, b in edge_list:\n",
    "        adj[a].add(b)\n",
    "        adj[b].add(a)\n",
    "        nv = max(nv, a, b)\n",
    "    nv += 1\n",
    "    if not adj:\n",
    "        return []\n",
    "    node_list = sorted(adj.keys())\n",
    "    if debug:\n",
    "        adj = [sorted(adj[_]) for _ in sorted(adj.keys())]\n",
    "        node_list = list(range(nv))\n",
    "        assert len(adj) == nv\n",
    "\n",
    "    cuts = set()\n",
    "    parent_of = [None] * nv\n",
    "    visited = [False] * nv\n",
    "    cur_val = 0\n",
    "    k_val = [None] * nv\n",
    "    l_val = [None] * nv\n",
    "    l_children = [0] * nv\n",
    "    grand_of = [None] * nv\n",
    "    back_of = [[] for _ in node_list]\n",
    "\n",
    "    for root in node_list:\n",
    "        if visited[root]:\n",
    "            continue\n",
    "\n",
    "        root_degree = 0\n",
    "        visited[root] = True\n",
    "        parent_of[root] = None\n",
    "        k_val[root] = l_val[root] = cur_val\n",
    "        cur_val += 1\n",
    "        stack = [(None, root, iter(adj[root]), defaultdict(set))]\n",
    "\n",
    "        while stack:\n",
    "            grand, parent, children, grandies = stack[-1]\n",
    "            for child in children:\n",
    "                if visited[child]:\n",
    "                    continue\n",
    "                visited[child] = True\n",
    "                parent_of[child] = parent\n",
    "                if parent == root:\n",
    "                    root_degree += 1\n",
    "                k_val[child] = l_val[child] = cur_val\n",
    "                cur_val += 1\n",
    "\n",
    "                for back in grandies[child]:\n",
    "                    back_of[child].append(back)\n",
    "\n",
    "                sub_grandies = grand_of[parent]\n",
    "                if sub_grandies is None:\n",
    "                    sub_grandies = grandies.copy()\n",
    "                    for node in adj[parent]:\n",
    "                        sub_grandies[node].add(parent)\n",
    "                    grand_of[parent] = sub_grandies\n",
    "\n",
    "                stack.append((parent, child, iter(adj[child]), sub_grandies))\n",
    "                break\n",
    "            else:\n",
    "                stack.pop()\n",
    "                grand_of[parent] = None\n",
    "                for back in back_of[parent]:\n",
    "                    l_val[parent] = min(l_val[parent], k_val[back])\n",
    "                if grand is not None:\n",
    "                    l_val[grand] = min(l_val[grand], l_val[parent])\n",
    "                    l_children[grand] = max(l_children[grand], l_val[parent])\n",
    "\n",
    "        for node in node_list:\n",
    "            if node != root and l_children[node] >= k_val[node]:\n",
    "                cuts.add(node)\n",
    "        if root_degree > 1:\n",
    "            cuts.add(root)\n",
    "\n",
    "    if debug:\n",
    "        print('elist ', sorted(edge_list))\n",
    "        print('adj   ', adj)\n",
    "        print('back  ', back_of)\n",
    "        print('paren', parent_of)\n",
    "        print('no    ', node_list)\n",
    "        print('k_val ', k_val)\n",
    "        print('l_val ', l_val)\n",
    "        print('l_chi ', l_children)\n",
    "        print('cuts  ', sorted(cuts))\n",
    "\n",
    "    return sorted(cuts)\n",
    "\n",
    "print_points(my_itermem_cut_points([]))\n",
    "print_points(my_itermem_cut_points(test_edges, debug=0))  # should return \"2 4\"\n",
    "print_points(my_itermem_cut_points(hard_edges, debug=0))  # should return \"1\"\n",
    "\n",
    "#edges = list(tuple(map(int, s.split())) for s in stdin)\n",
    "#print(*my_itermem_cut_points(edges))"
   ]
  },
  {
   "cell_type": "code",
   "execution_count": 17,
   "metadata": {},
   "outputs": [
    {
     "name": "stdout",
     "output_type": "stream",
     "text": [
      "all OK 0.00263\n",
      "big OK 8.77\n"
     ]
    }
   ],
   "source": [
    "prof_init()\n",
    "for test in all_tests:\n",
    "    nx_cuts = nx_cut_points(test)\n",
    "    my_cuts = my_itermem_cut_points(test)\n",
    "    assert my_cuts == nx_cuts, 'not same!'\n",
    "print('all OK %.3g' % prof_time())\n",
    "\n",
    "prof_init()\n",
    "for test in big_tests:\n",
    "    nx_cuts = nx_cut_points(test)\n",
    "    my_cuts = my_itermem_cut_points(test)\n",
    "    assert my_cuts == nx_cuts, 'not same!'\n",
    "print('big OK %.3g' % prof_time())"
   ]
  },
  {
   "cell_type": "markdown",
   "metadata": {},
   "source": [
    "## Non-recursive (cpu hog)"
   ]
  },
  {
   "cell_type": "code",
   "execution_count": 18,
   "metadata": {},
   "outputs": [
    {
     "name": "stdout",
     "output_type": "stream",
     "text": [
      "()\n",
      "(2 4)\n",
      "(1)\n"
     ]
    }
   ],
   "source": [
    "@prof_this\n",
    "def my_nonrec_cut_points(edge_list):\n",
    "    adj = defaultdict(set)\n",
    "    for a,b in edge_list:\n",
    "        adj[a].add(b)\n",
    "        adj[b].add(a)\n",
    "    adj = [adj[v] for v in sorted(adj.keys())]\n",
    "    if not adj:\n",
    "        return []\n",
    "    nv = len(adj)\n",
    "    assert len(adj) == max(max(a) for a in adj) + 1\n",
    "\n",
    "    visited = [False] * nv\n",
    "    k_no = [0]\n",
    "    k_val = [None] * nv\n",
    "    l_val = [None] * nv\n",
    "    parents = [None] * nv\n",
    "    l_children = [0] * nv\n",
    "    n_children = [0] * nv\n",
    "    edges = set()\n",
    "    cuts = []\n",
    "\n",
    "    k_val[0] = l_val[0] = 1\n",
    "    visited[0] = True\n",
    "    k_no = [1]\n",
    "    todo1 = [list(adj[v]) for v in range(nv)]\n",
    "    todo2 = [[] for v in range(nv)]\n",
    "    stack = [0]\n",
    "    v = 0\n",
    "\n",
    "    while v is not None or stack:\n",
    "        if v is None:\n",
    "            v = stack[-1]\n",
    "        while todo2[v]:\n",
    "            u = todo2[v].pop()\n",
    "            if l_val[u] < l_val[v]:\n",
    "                l_val[v] = l_val[u]\n",
    "            if l_val[u] > l_children[v]:\n",
    "                l_children[v] = l_val[u]\n",
    "        else:\n",
    "            if todo1[v]:\n",
    "                u = todo1[v].pop()\n",
    "                if visited[u]:\n",
    "                    continue\n",
    "                parents[u] = v\n",
    "                edges.add((v,u))\n",
    "                n_children[v] += 1\n",
    "                visited[u] = True\n",
    "                k_no[0] += 1\n",
    "                k_val[u] = l_val[u] = k_no[0]\n",
    "                todo2[v].append(u)\n",
    "                stack.append(u)\n",
    "                v = u\n",
    "            else:\n",
    "                v = stack.pop()\n",
    "                u = parents[v]\n",
    "                while u is not None:\n",
    "                    if (u in adj[v]) and k_val[u] < l_val[v] \\\n",
    "                            and ((u,v) not in edges) and ((v,u) not in edges):\n",
    "                        l_val[v] = k_val[u]\n",
    "                    u = parents[u]\n",
    "                v = None\n",
    "\n",
    "    for v in range(nv):\n",
    "        if (v == 0 and n_children[v] > 1) or (v > 0 and l_children[v] >= k_val[v]):\n",
    "            cuts.append(v)\n",
    "\n",
    "    return sorted(cuts)\n",
    "\n",
    "print_points(my_nonrec_cut_points([]))\n",
    "print_points(my_nonrec_cut_points(test_edges))  # should return \"2 4\"\n",
    "print_points(my_nonrec_cut_points(hard_edges))  # should return \"1\"\n",
    "\n",
    "#edges = list(tuple(map(int, s.split())) for s in sys.stdin)\n",
    "#print(*my_nonrec_cut_points(edges))"
   ]
  },
  {
   "cell_type": "code",
   "execution_count": 19,
   "metadata": {},
   "outputs": [
    {
     "name": "stdout",
     "output_type": "stream",
     "text": [
      "all OK 0.00242\n",
      "big OK 11.2\n"
     ]
    }
   ],
   "source": [
    "prof_init()\n",
    "for test in all_tests:\n",
    "    nx_cuts = nx_cut_points(test)\n",
    "    my_cuts = my_nonrec_cut_points(test)\n",
    "    assert my_cuts == nx_cuts, 'not same!'\n",
    "print('all OK %.3g' % prof_time())\n",
    "\n",
    "prof_init()\n",
    "for test in big_tests:\n",
    "    nx_cuts = nx_cut_points(test)\n",
    "    my_cuts = my_nonrec_cut_points(test)\n",
    "    assert my_cuts == nx_cuts, 'not same!'\n",
    "print('big OK %.3g' % prof_time())"
   ]
  }
 ],
 "metadata": {
  "kernelspec": {
   "display_name": "Python [default]",
   "language": "python",
   "name": "python3"
  },
  "language_info": {
   "codemirror_mode": {
    "name": "ipython",
    "version": 3
   },
   "file_extension": ".py",
   "mimetype": "text/x-python",
   "name": "python",
   "nbconvert_exporter": "python",
   "pygments_lexer": "ipython3",
   "version": "3.6.3"
  }
 },
 "nbformat": 4,
 "nbformat_minor": 2
}
