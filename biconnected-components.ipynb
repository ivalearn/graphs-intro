{
 "cells": [
  {
   "cell_type": "markdown",
   "metadata": {},
   "source": [
    "# Articulation points\n",
    "\n",
    "See [wikipedia](https://en.wikipedia.org/wiki/Biconnected_component)\n",
    "\n",
    "See algorithm at [link](https://stepik.org/lesson/12342/step/10?unit=2794)"
   ]
  },
  {
   "cell_type": "code",
   "execution_count": 1,
   "metadata": {},
   "outputs": [],
   "source": [
    "%matplotlib inline\n",
    "import matplotlib.pyplot as plt\n",
    "import numpy as np\n",
    "import networkx as nx\n",
    "import itertools\n",
    "import sys\n",
    "import random\n",
    "import time\n",
    "import threading\n",
    "from random import randint\n",
    "from collections import defaultdict"
   ]
  },
  {
   "cell_type": "code",
   "execution_count": 2,
   "metadata": {
    "collapsed": true
   },
   "outputs": [],
   "source": [
    "# Disable plot axes by default\n",
    "import matplotlib as mpl\n",
    "if True:\n",
    "    mpl.rc('axes.spines', top=False, bottom=False, left=False, right=False)\n",
    "    mpl.rc('xtick', top=False, bottom=False, labelsize=0)\n",
    "    mpl.rc('ytick', left=False, right=False, labelsize=0)"
   ]
  },
  {
   "cell_type": "code",
   "execution_count": 3,
   "metadata": {
    "collapsed": true
   },
   "outputs": [],
   "source": [
    "from IPython.display import Image, HTML\n",
    "\n",
    "def pydot_image(graph, prog='dot', width=None):\n",
    "    dot = nx.nx_pydot.to_pydot(graph)\n",
    "    if width:\n",
    "        return Image(dot.create_png(prog=prog), width=width)\n",
    "    else:\n",
    "        return HTML(dot.create_svg(prog=prog).decode())"
   ]
  },
  {
   "cell_type": "code",
   "execution_count": 4,
   "metadata": {
    "collapsed": true
   },
   "outputs": [],
   "source": [
    "test_edges = [tuple(map(int, s.split())) for s in '0 1\\n1 2\\n2 0\\n3 2\\n4 3\\n4 2\\n5 4\\n'.splitlines()]"
   ]
  },
  {
   "cell_type": "code",
   "execution_count": 6,
   "metadata": {
    "collapsed": true
   },
   "outputs": [],
   "source": [
    "def make_random_graph(max_nodes, min_nodes=4, max_edges=None, max_node_edges=4):\n",
    "    max_nodes = max(max_nodes, min_nodes)\n",
    "    while True:\n",
    "        num = randint(min_nodes, max_nodes)\n",
    "        deg_in = [randint(1, max_node_edges) for i in range(num)]\n",
    "        deg_out = deg_in[:]\n",
    "        random.shuffle(deg_out)\n",
    "        graph = nx.directed_configuration_model(in_degree_sequence=deg_in,\n",
    "                                                out_degree_sequence=deg_out)\n",
    "        edges = set()\n",
    "        for a,b,c in list(graph.edges):\n",
    "            if a != b:\n",
    "                edges.add((a,b) if a < b else (b,a))\n",
    "        if not edges:\n",
    "            continue\n",
    "        if max_edges and len(edges) > max_edges:\n",
    "            continue\n",
    "        graph = nx.Graph(list(edges))\n",
    "        if len(graph) and nx.is_connected(graph):\n",
    "            nodes = sorted(graph.nodes)\n",
    "            graph = nx.relabel_nodes(graph, {nodes[i]: i for i in range(len(nodes))})\n",
    "            return sorted(graph.edges)"
   ]
  },
  {
   "cell_type": "code",
   "execution_count": 7,
   "metadata": {},
   "outputs": [
    {
     "name": "stdout",
     "output_type": "stream",
     "text": [
      "2 4\n"
     ]
    }
   ],
   "source": [
    "def nx_articulation_points(edges):\n",
    "    return sorted(nx.articulation_points(nx.from_edgelist(edges)))\n",
    "\n",
    "cuts = nx_articulation_points(test_edges)\n",
    "print(' '.join(str(v) for v in cuts))"
   ]
  },
  {
   "cell_type": "markdown",
   "metadata": {},
   "source": [
    "## Prepare tests"
   ]
  },
  {
   "cell_type": "code",
   "execution_count": 21,
   "metadata": {},
   "outputs": [
    {
     "name": "stdout",
     "output_type": "stream",
     "text": [
      "271\n"
     ]
    }
   ],
   "source": [
    "all_tests = [make_random_graph(min_nodes=4, max_nodes=100) for _ in range(5000)]\n",
    "print(max(list(map(len, all_tests))))"
   ]
  },
  {
   "cell_type": "code",
   "execution_count": 8,
   "metadata": {},
   "outputs": [
    {
     "name": "stdout",
     "output_type": "stream",
     "text": [
      "9999\n"
     ]
    }
   ],
   "source": [
    "num_nodes = 4000\n",
    "num_graphs = 3\n",
    "max_edges = 10000\n",
    "big_tests = [make_random_graph(min_nodes=num_nodes, max_nodes=num_nodes+10, max_edges=max_edges)\n",
    "             for _ in range(num_graphs)]\n",
    "print(max(list(map(len, big_tests))))"
   ]
  },
  {
   "cell_type": "code",
   "execution_count": 20,
   "metadata": {},
   "outputs": [
    {
     "name": "stdout",
     "output_type": "stream",
     "text": [
      "15145\n"
     ]
    }
   ],
   "source": [
    "num_nodes = 6000\n",
    "num_graphs = 5\n",
    "max_edges = 20000\n",
    "big_tests = [make_random_graph(min_nodes=num_nodes, max_nodes=num_nodes+10, max_edges=max_edges)\n",
    "             for _ in range(num_graphs)]\n",
    "print(max(list(map(len, big_tests))))"
   ]
  },
  {
   "cell_type": "markdown",
   "metadata": {},
   "source": [
    "## Recursive"
   ]
  },
  {
   "cell_type": "code",
   "execution_count": null,
   "metadata": {},
   "outputs": [],
   "source": [
    "import sys\n",
    "from collections import defaultdict\n",
    "\n",
    "def my_recursive_articulation_points(edge_list):\n",
    "    adj = defaultdict(set)\n",
    "    for a,b in edge_list:\n",
    "        adj[a].add(b)\n",
    "        adj[b].add(a)\n",
    "    adj = [sorted(adj[v]) for v in sorted(adj.keys())]\n",
    "    if not adj:\n",
    "        return []\n",
    "    #nv = max(a[-1] if a else 0 for a in adj) + 1\n",
    "    nv = max(a[-1] for a in adj) + 1\n",
    "    assert len(adj) == nv\n",
    "\n",
    "    visited = [False] * nv\n",
    "    k_no = [0]\n",
    "    k_val = [None] * nv\n",
    "    parents = [None] * nv\n",
    "    edges = set()\n",
    "    cuts = set()\n",
    "\n",
    "    def dfs(v):\n",
    "        visited[v] = True\n",
    "        k_no[0] += 1\n",
    "        k_val[v] = k_cur = l_cur = k_no[0]\n",
    "        l_children = num_children = 0\n",
    "\n",
    "        for u in adj[v]:\n",
    "            if visited[u]:\n",
    "                continue\n",
    "            parents[u] = v\n",
    "            edges.add((u,v))\n",
    "            edges.add((v,u))\n",
    "            num_children += 1\n",
    "            l_child = dfs(u)\n",
    "            if l_child < l_cur:\n",
    "                l_cur = l_child\n",
    "            if l_child > l_children:\n",
    "                l_children = l_child\n",
    "\n",
    "        z = parents[v]\n",
    "        while z is not None:\n",
    "            if z in adj[v] and (z,v) not in edges:\n",
    "                k_z = k_val[z]\n",
    "                if k_z < l_cur:\n",
    "                    l_cur = k_z\n",
    "            z = parents[z]\n",
    "\n",
    "        if v == 0:\n",
    "            if num_children > 1:\n",
    "                cuts.add(v)\n",
    "        else:\n",
    "            if l_children >= k_cur:\n",
    "                cuts.add(v)\n",
    "\n",
    "        return l_cur\n",
    "\n",
    "    dfs(0)\n",
    "\n",
    "    return sorted(cuts)\n",
    "\n",
    "edges = test_edges\n",
    "#edges = list(tuple(map(int, s.split())) for s in sys.stdin)\n",
    "cuts = my_articulation_points(edges)\n",
    "print(' '.join(str(v) for v in cuts))"
   ]
  },
  {
   "cell_type": "code",
   "execution_count": null,
   "metadata": {},
   "outputs": [],
   "source": [
    "max_time = 0\n",
    "for test in all_tests:\n",
    "    nx_cuts = nx_articulation_points(test)\n",
    "    time1 = time.clock()\n",
    "    my_cuts = my_recursive_articulation_points(test)\n",
    "    time2 = time.clock()\n",
    "    max_time = max(max_time, time2-time1)\n",
    "    assert my_cuts == nx_cuts, 'not same!'\n",
    "print('OK %.3g' % max_time)"
   ]
  },
  {
   "cell_type": "code",
   "execution_count": null,
   "metadata": {},
   "outputs": [],
   "source": [
    "threading.stack_size(64*1024*1024)\n",
    "sys.setrecursionlimit(100100)\n",
    "wrapper_result = [None]\n",
    "def my_articulation_points_wrapper(test):\n",
    "    wrapper_result[0] = None\n",
    "    wrapper_result[0] = my_recursive_articulation_points(test)\n",
    "nx_max_time = my_max_time = 0\n",
    "for test in big_tests:\n",
    "    time1 = time.clock()\n",
    "    nx_cuts = nx_articulation_points(test)\n",
    "    time2 = time.clock()\n",
    "    nx_max_time = max(max_time, time2-time1)\n",
    "    thread = threading.Thread(target=my_articulation_points_wrapper, args=[test])\n",
    "    time1 = time.clock()\n",
    "    thread.start()\n",
    "    thread.join()\n",
    "    my_cuts = wrapper_result[0]\n",
    "    time2 = time.clock()\n",
    "    my_max_time = max(max_time, time2-time1)\n",
    "    assert my_cuts == nx_cuts, 'not same!'\n",
    "print('OK nx:%.3g my:%.3g' % (nx_max_time, my_max_time))"
   ]
  },
  {
   "cell_type": "markdown",
   "metadata": {},
   "source": [
    "## Non-recursive"
   ]
  },
  {
   "cell_type": "code",
   "execution_count": null,
   "metadata": {},
   "outputs": [],
   "source": [
    "import sys\n",
    "from collections import defaultdict, deque\n",
    "\n",
    "def my_nonrec_articulation_points(edge_list):\n",
    "    adj = defaultdict(set)\n",
    "    for a,b in edge_list:\n",
    "        adj[a].add(b)\n",
    "        adj[b].add(a)\n",
    "    adj = [adj[v] for v in sorted(adj.keys())]\n",
    "    if not adj:\n",
    "        return []\n",
    "    nv = len(adj)\n",
    "    assert len(adj) == max(max(a) for a in adj) + 1\n",
    "\n",
    "    visited = [False] * nv\n",
    "    k_no = [0]\n",
    "    k_val = [None] * nv\n",
    "    l_val = [None] * nv\n",
    "    parents = [None] * nv\n",
    "    l_children = [0] * nv\n",
    "    n_children = [0] * nv\n",
    "    edges = set()\n",
    "    cuts = []\n",
    "\n",
    "    k_val[0] = l_val[0] = 1\n",
    "    visited[0] = True\n",
    "    k_no = [1]\n",
    "    todo1 = [list(adj[v]) for v in range(nv)]\n",
    "    todo2 = [[] for v in range(nv)]\n",
    "    stack = [0]\n",
    "    v = 0\n",
    "\n",
    "    while v is not None or stack:\n",
    "        if v is None:\n",
    "            v = stack[-1]\n",
    "        while todo2[v]:\n",
    "            u = todo2[v].pop()\n",
    "            if l_val[u] < l_val[v]:\n",
    "                l_val[v] = l_val[u]\n",
    "            if l_val[u] > l_children[v]:\n",
    "                l_children[v] = l_val[u]\n",
    "        else:\n",
    "            if todo1[v]:\n",
    "                u = todo1[v].pop()\n",
    "                if visited[u]:\n",
    "                    continue\n",
    "                parents[u] = v\n",
    "                edges.add((v,u))\n",
    "                n_children[v] += 1\n",
    "                visited[u] = True\n",
    "                k_no[0] += 1\n",
    "                k_val[u] = l_val[u] = k_no[0]\n",
    "                todo2[v].append(u)\n",
    "                stack.append(u)\n",
    "                v = u\n",
    "            else:\n",
    "                v = stack.pop()\n",
    "                u = parents[v]\n",
    "                while u is not None:\n",
    "                    if (u in adj[v]) and k_val[u] < l_val[v] \\\n",
    "                            and ((u,v) not in edges) and ((v,u) not in edges):\n",
    "                        l_val[v] = k_val[u]\n",
    "                    u = parents[u]\n",
    "                v = None\n",
    "\n",
    "    for v in range(nv):\n",
    "        if (v == 0 and n_children[v] > 1) or (v > 0 and l_children[v] >= k_val[v]):\n",
    "            cuts.append(v)\n",
    "\n",
    "    return sorted(cuts)\n",
    "\n",
    "#edge_list = list(tuple(map(int, s.split())) for s in sys.stdin)\n",
    "edge_list = test_edges\n",
    "cuts = my_nonrec_articulation_points(edge_list)\n",
    "print(' '.join(str(v) for v in cuts))\n"
   ]
  },
  {
   "cell_type": "code",
   "execution_count": null,
   "metadata": {},
   "outputs": [],
   "source": [
    "max_time = 0\n",
    "for test in all_tests:\n",
    "    nx_cuts = nx_articulation_points(test)\n",
    "    time1 = time.clock()\n",
    "    my_cuts = my_nonrec_articulation_points(test)\n",
    "    time2 = time.clock()\n",
    "    max_time = max(max_time, time2-time1)\n",
    "    assert my_cuts == nx_cuts, 'not same!'\n",
    "print('OK %.3g' % max_time)"
   ]
  },
  {
   "cell_type": "code",
   "execution_count": null,
   "metadata": {},
   "outputs": [],
   "source": [
    "for i, test in enumerate(big_tests):\n",
    "    time1 = time.clock()\n",
    "    nx_cuts = nx_articulation_points(test)\n",
    "    time2 = time.clock()\n",
    "    nx_max_time = max(max_time, time2-time1)\n",
    "    time1 = time.clock()\n",
    "    nx_cuts = my_nonrec_articulation_points(test)\n",
    "    time2 = time.clock()\n",
    "    my_max_time = max(max_time, time2-time1)\n",
    "    if my_cuts != nx_cuts:\n",
    "        print('big_test[%d]: not same!' % i)\n",
    "print('OK nx:%.3g my:%.3g' % (nx_max_time, my_max_time))"
   ]
  },
  {
   "cell_type": "markdown",
   "metadata": {},
   "source": [
    "## From NetworkX"
   ]
  },
  {
   "cell_type": "code",
   "execution_count": 22,
   "metadata": {},
   "outputs": [
    {
     "name": "stdout",
     "output_type": "stream",
     "text": [
      "2 4\n"
     ]
    }
   ],
   "source": [
    "import sys\n",
    "from collections import defaultdict, deque\n",
    "\n",
    "def _my_nx_dfs(adj, components=True):\n",
    "    # depth-first search algorithm to generate articulation points and biconnected components\n",
    "    visited = set()\n",
    "    for start in sorted(adj.keys()):\n",
    "        if start in visited:\n",
    "            continue\n",
    "        discovery = {start:0} # \"time\" of first discovery of node during search\n",
    "        low = {start:0}\n",
    "        root_children = 0\n",
    "        visited.add(start)\n",
    "        edge_stack = []\n",
    "        stack = [(start, start, iter(adj[start]))]\n",
    "        while stack:\n",
    "            grandparent, parent, children = stack[-1]\n",
    "            try:\n",
    "                child = next(children)\n",
    "                if grandparent == child:\n",
    "                    continue\n",
    "                if child in visited:\n",
    "                    if discovery[child] <= discovery[parent]: # back edge\n",
    "                        low[parent] = min(low[parent],discovery[child])\n",
    "                        if components:\n",
    "                            edge_stack.append((parent,child))\n",
    "                else:\n",
    "                    low[child] = discovery[child] = len(discovery)\n",
    "                    visited.add(child)\n",
    "                    stack.append((parent, child, iter(adj[child])))\n",
    "                    if components:\n",
    "                        edge_stack.append((parent,child))\n",
    "            except StopIteration:\n",
    "                stack.pop()\n",
    "                if len(stack) > 1:\n",
    "                    if low[parent] >= discovery[grandparent]:\n",
    "                        if components:\n",
    "                            ind = edge_stack.index((grandparent,parent))\n",
    "                            yield edge_stack[ind:]\n",
    "                            edge_stack=edge_stack[:ind]\n",
    "                        else:\n",
    "                            yield grandparent\n",
    "                    low[grandparent] = min(low[parent], low[grandparent])\n",
    "                elif stack: # length 1 so grandparent is root\n",
    "                    root_children += 1\n",
    "                    if components:\n",
    "                        ind = edge_stack.index((grandparent,parent))\n",
    "                        yield edge_stack[ind:]\n",
    "        if not components:\n",
    "            # root node is articulation point if it has more than 1 child\n",
    "            if root_children > 1:\n",
    "                yield start\n",
    "\n",
    "def my_nx_articulation_points(edge_list):\n",
    "    adj = defaultdict(set)\n",
    "    for a,b in edge_list:\n",
    "        adj[a].add(b)\n",
    "        adj[b].add(a)\n",
    "    if not adj:\n",
    "        return []\n",
    "    return sorted(set(_my_nx_dfs(adj, components=False)))\n",
    "\n",
    "#edge_list = list(tuple(map(int, s.split())) for s in sys.stdin)\n",
    "edge_list = test_edges\n",
    "cuts = my_nx_articulation_points(edge_list)\n",
    "print(' '.join(str(v) for v in cuts))\n"
   ]
  },
  {
   "cell_type": "code",
   "execution_count": 23,
   "metadata": {},
   "outputs": [
    {
     "name": "stdout",
     "output_type": "stream",
     "text": [
      "OK 0.00558\n"
     ]
    }
   ],
   "source": [
    "max_time = 0\n",
    "for test in all_tests:\n",
    "    nx_cuts = nx_articulation_points(test)\n",
    "    time1 = time.clock()\n",
    "    my_cuts = my_nx_articulation_points(test)\n",
    "    time2 = time.clock()\n",
    "    max_time = max(max_time, time2-time1)\n",
    "    assert my_cuts == nx_cuts, 'not same!'\n",
    "print('OK %.3g' % max_time)"
   ]
  },
  {
   "cell_type": "code",
   "execution_count": 30,
   "metadata": {},
   "outputs": [
    {
     "name": "stdout",
     "output_type": "stream",
     "text": [
      "OK nx:0.27 my:0.163\n"
     ]
    }
   ],
   "source": [
    "for i, test in enumerate(big_tests):\n",
    "    time1 = time.clock()\n",
    "    nx_cuts = nx_articulation_points(test)\n",
    "    time2 = time.clock()\n",
    "    nx_max_time = max(max_time, time2-time1)\n",
    "\n",
    "    time1 = time.clock()\n",
    "    my_cuts = my_nx_articulation_points(test)\n",
    "    time2 = time.clock()\n",
    "    my_max_time = max(max_time, time2-time1)\n",
    "\n",
    "    if my_cuts != nx_cuts:\n",
    "        print('big_test[%d]: not same: %s != %s' % (i, nx_cuts, my_cuts))\n",
    "print('OK nx:%.3g my:%.3g' % (nx_max_time, my_max_time))"
   ]
  },
  {
   "cell_type": "code",
   "execution_count": 29,
   "metadata": {},
   "outputs": [
    {
     "name": "stdout",
     "output_type": "stream",
     "text": [
      "[4851]\n",
      "[4851]\n"
     ]
    }
   ],
   "source": [
    "test = big_tests[3]\n",
    "print(nx_articulation_points(test))\n",
    "print(my_nx_articulation_points(test))"
   ]
  },
  {
   "cell_type": "markdown",
   "metadata": {},
   "source": [
    "## Subprocess tests"
   ]
  },
  {
   "cell_type": "code",
   "execution_count": 31,
   "metadata": {},
   "outputs": [
    {
     "name": "stdout",
     "output_type": "stream",
     "text": [
      "2 4\n",
      "all OK 0.417\n",
      "big OK 0.569\n"
     ]
    }
   ],
   "source": [
    "def run_program(edges):\n",
    "    from sys import executable\n",
    "    from subprocess import run, STDOUT, PIPE\n",
    "    sdata = ''.join('{} {}\\n'.format(a,b) for a,b in edges)\n",
    "    pname = 'articulation-points.py'\n",
    "    res = run([executable, pname], stderr=STDOUT, stdout=PIPE, input=bytes(sdata,'utf8'))\n",
    "    return res.stdout.strip().decode()\n",
    "\n",
    "print(run_program(test_edges))\n",
    "\n",
    "max_time = 0\n",
    "for test in all_tests[:100]:\n",
    "    nx_cuts = ' '.join(str(v) for v in nx_articulation_points(test))\n",
    "    time1 = time.clock()\n",
    "    my_cuts = run_program(test)\n",
    "    time2 = time.clock()\n",
    "    max_time = max(max_time, time2-time1)\n",
    "    assert my_cuts == nx_cuts, 'my:[{}] != nx:[{}]'.format(my_cuts, nx_cuts)\n",
    "print('all OK %.3g' % max_time)\n",
    "\n",
    "for test in big_tests[:10]:\n",
    "    nx_cuts = ' '.join(str(v) for v in nx_articulation_points(test))\n",
    "    time1 = time.clock()\n",
    "    my_cuts = run_program(test)\n",
    "    time2 = time.clock()\n",
    "    max_time = max(max_time, time2-time1)\n",
    "    assert my_cuts == nx_cuts, 'not same!'\n",
    "print('big OK %.3g' % max_time)"
   ]
  },
  {
   "cell_type": "markdown",
   "metadata": {},
   "source": [
    "## Debugging"
   ]
  },
  {
   "cell_type": "code",
   "execution_count": null,
   "metadata": {},
   "outputs": [],
   "source": [
    "if False:\n",
    "    graph = nx.from_edgelist(test)\n",
    "    dot = nx.nx_pydot.to_pydot(graph)\n",
    "    HTML(dot.create_svg(prog='dot').decode())"
   ]
  },
  {
   "cell_type": "code",
   "execution_count": null,
   "metadata": {
    "collapsed": true
   },
   "outputs": [],
   "source": []
  }
 ],
 "metadata": {
  "kernelspec": {
   "display_name": "Python 3",
   "language": "python",
   "name": "python3"
  },
  "language_info": {
   "codemirror_mode": {
    "name": "ipython",
    "version": 3
   },
   "file_extension": ".py",
   "mimetype": "text/x-python",
   "name": "python",
   "nbconvert_exporter": "python",
   "pygments_lexer": "ipython3",
   "version": "3.6.3"
  }
 },
 "nbformat": 4,
 "nbformat_minor": 2
}
