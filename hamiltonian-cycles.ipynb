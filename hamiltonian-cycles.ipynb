{
 "cells": [
  {
   "cell_type": "code",
   "execution_count": 6,
   "metadata": {
    "collapsed": true
   },
   "outputs": [],
   "source": [
    "%matplotlib inline\n",
    "import matplotlib as mpl\n",
    "import matplotlib.pyplot as plt\n",
    "import numpy as np\n",
    "import networkx as nx\n",
    "from random import randint\n",
    "from IPython.display import Image, HTML"
   ]
  },
  {
   "cell_type": "code",
   "execution_count": 7,
   "metadata": {
    "collapsed": true
   },
   "outputs": [],
   "source": [
    "# Disable plot axes by default\n",
    "if True:\n",
    "    mpl.rc('axes.spines', top=False, bottom=False, left=False, right=False)\n",
    "    mpl.rc('xtick', top=False, bottom=False, labelsize=0)\n",
    "    mpl.rc('ytick', left=False, right=False, labelsize=0)"
   ]
  },
  {
   "cell_type": "markdown",
   "metadata": {},
   "source": [
    "# Hamiltonian cycles"
   ]
  },
  {
   "cell_type": "code",
   "execution_count": 8,
   "metadata": {
    "collapsed": true
   },
   "outputs": [],
   "source": [
    "def find_non_hamiltonian_node_subset(edges=[], strict=True):\n",
    "    g = nx.from_edgelist(edges)\n",
    "    nodes = sorted(list(g.nodes))\n",
    "    visited_subsets = set()\n",
    "    results = []\n",
    "\n",
    "    def check_set(s):\n",
    "        visited_subsets.add(s)\n",
    "        g_minus = g.copy()\n",
    "        g_minus.remove_nodes_from(s)\n",
    "        c = nx.number_connected_components(g_minus)\n",
    "        if (strict and c > len(s)) or (not strict and c >= len(s)):\n",
    "            if c > 1 and s not in results: \n",
    "                results.append(s)\n",
    "\n",
    "    def enter_subset(s):\n",
    "        if len(s) > len(nodes) or s in visited_subsets:\n",
    "            return\n",
    "        check_set(s)\n",
    "        for n in nodes:\n",
    "            enter_subset(s.union([n]))\n",
    "\n",
    "    enter_subset(frozenset())\n",
    "    return [sorted(s) for s in results]"
   ]
  },
  {
   "cell_type": "markdown",
   "metadata": {},
   "source": [
    "### TODO\n",
    "\n",
    "Как доказать что самый правый граф из задания на странице\n",
    "[link](https://stepik.org/lesson/11774/step/5)\n",
    "не имеет Гамильтонова цикла?\n",
    "\n",
    "![strange graph](hamilton-graphs/why-this-graph-isnot-hamiltonian.png)\n",
    "\n",
    "Алгоритм ниже показывает, что нельзя найти такое подмножество вершин, которое при удалении создавало бы компонент связности больше своего размера. :("
   ]
  },
  {
   "cell_type": "code",
   "execution_count": 25,
   "metadata": {},
   "outputs": [
    {
     "data": {
      "image/png": "[encoded data removed]",
      "text/plain": [
       "<matplotlib.figure.Figure at 0x545e96f98>"
      ]
     },
     "metadata": {},
     "output_type": "display_data"
    }
   ],
   "source": [
    "nhg = nx.read_graphml('hamilton-graphs/why-is-graph-isnot-hamiltonian.graphml')\n",
    "nhg = nhg.to_undirected()\n",
    "nhg = nx.relabel_nodes(nhg, {n: int(d['label']) for n,d in nhg.node.data()})\n",
    "nhg_pos = {n: (float(d['x']), -float(d['y'])) for n,d in nhg.node.data()}\n",
    "nx.draw_networkx(nhg, pos=nhg_pos, node_size=600, node_color='skyblue')"
   ]
  },
  {
   "cell_type": "code",
   "execution_count": 21,
   "metadata": {},
   "outputs": [
    {
     "data": {
      "text/plain": [
       "[]"
      ]
     },
     "execution_count": 21,
     "metadata": {},
     "output_type": "execute_result"
    }
   ],
   "source": [
    "find_non_hamiltonian_node_subset(strict=True, edges=[\n",
    "    (0,1),(0,2),(0,3),(1,2),(1,5),(2,4),\n",
    "    (3,7),(4,6),(5,8),(6,7),(6,8),(7,8)\n",
    "])"
   ]
  },
  {
   "cell_type": "markdown",
   "metadata": {},
   "source": [
    "## Примеры негамильтоновых графов\n",
    "\n",
    "![non-hamiltonian-1](hamilton-graphs/non-hamiltonian-example-1.png)\n",
    "\n",
    "![non-hamiltonian-2](hamilton-graphs/non-hamiltonian-example-2.png)"
   ]
  },
  {
   "cell_type": "markdown",
   "metadata": {},
   "source": [
    "## Более сложный негамильтонов граф\n",
    "\n",
    "<img alt=\"non-hamiltonian\" src=\"hamilton-graphs/non-hamiltonian-example-3.png\"\n",
    "     style=\"width:60%; min-width:200px;\">\n",
    "\n",
    "В ячейке ниже находится подмножество вершин, которое сильно разрывает граф (а значит, он не гамильтонов)."
   ]
  },
  {
   "cell_type": "code",
   "execution_count": 10,
   "metadata": {},
   "outputs": [
    {
     "data": {
      "text/plain": [
       "[[1, 3, 4, 5, 6]]"
      ]
     },
     "execution_count": 10,
     "metadata": {},
     "output_type": "execute_result"
    }
   ],
   "source": [
    "find_non_hamiltonian_node_subset(strict=True, edges=[\n",
    "    (0,1),(0,4),(0,3),(1,2),(1,8),(1,7),\n",
    "    (2,5),(2,3),(3,9),(3,10),(4,7),(4,9),\n",
    "    (5,8),(5,10),(6,7),(6,8),(6,9),(6,10)\n",
    "])"
   ]
  },
  {
   "cell_type": "markdown",
   "metadata": {},
   "source": [
    "# Задача\n",
    "\n",
    "![homework-hamiltonian-step10](hamilton-graphs/homework-hamiltonian-step10.png)\n",
    "\n",
    "([ссылка](https://stepik.org/lesson/11774/step/10))\n",
    "\n",
    "1. Доказать, что в графе есть гамильтонов путь.\n",
    "2. Проверить выполнение достаточного критерия существования гамильтонова цикла: $deg(x_1)+deg(x_n) \\geqslant n$\n",
    "3. Доказать отсутствие гамильтонова цикла.\n",
    " \n",
    "### Решение\n",
    "\n",
    "1) Простой Гамильтонов путь имеется, например: `6-3-0-1-4-5-2`\n",
    "\n",
    "2) Достаточное условие на этом пути не выполняется, так как:\n",
    "  - `длина пути` = 7 вершин\n",
    "  - `степень начальной вершины 6` = 4\n",
    "  - `степень конечной вершины 2` = 2\n",
    "  - но $2 + 4 < 7$\n",
    "\n",
    "3) Гамильтонов цикл в этом графе построить нельзя. Гамильтонов цикл должен включать три внутренних вершины (1,2,3). Вершина 1 имеет степень 2, и цикл обязан содержать оба её ребра, в том числе ребро $[0-1]$. Аналогично рассуждая для вершин 2 и 3, получаем, что цикл должен содержать рёбра $[0-2]$ и $[0-3]$. А значит, вершина 0 должна входить в цикл вместе с 3-мя инцидентными ей рёбрами. Но это невозможно, поскольку в Гамильтонов цикл вместе с любой вершиной могут входить только два ребра.\n"
   ]
  },
  {
   "cell_type": "markdown",
   "metadata": {},
   "source": [
    "# Свойство\n",
    "\n",
    "Пусть $P=x_1,\\dots,x_k$, $k>2$, есть наибольший по включению простой путь в графе $G$. Тогда этот путь можно превратить в простой цикл $C$ либо в случае, когда концы пути $P$ - вершины $x_1$ и $x_k$ - являются смежными, либо в случае, когда сумма степеней этих вершин больше или равна $k$:\n",
    "\n",
    "$$ deg(x_1)+deg(x_k) \\ge k $$\n",
    "\n",
    "### Доказательство\n",
    "\n",
    "Если $x_1$ и $x_k$ смежны, то просто добавляем к пути $P$ ребро $\\{x_k,x_1\\}$ и получаем простой цикл $C = P \\cup \\{x_k,x_1\\}$.\n",
    "\n",
    "Если они несмежны, то сделаем так.\n",
    "\n",
    "Сначала покажем, что вершины, не вошедшие в рассматриваемый путь, не смежны с его концами.\n",
    "Действительно, если бы это было так, то их можно было бы добавить в путь,\n",
    "но тогда исходный уже не был бы наибольшим по включению, противоречие.\n",
    "Тогда все вершины, выходящие из начала и конца пути ведут лишь в вершины,\n",
    "содержащиеся в рассматриваемом пути.\n",
    "\n",
    "Построим подграф $H$ графа $G$, в который включим только $k$ вершин, входящих в путь $P$, а также все рёбра из графа $G$, которые инцидентны этим вершинам (в том числе рёбра, входящие в путь $P$). В силу показанного выше при \"удалении\" вершин вне пути степени конечных вершин не изменятся.\n",
    "\n",
    "Размер графа $H$ равен $k$. Путь $P$ является Гамильтоновым в графе $H$. По доказанному на лекции критерию достаточности в графе $H$ можно построить Гамильтонов цикл $C$, включающий все вершины $x_1, \\dots, x_k$. Он же будет и циклом в графе $G$ (ведь он состоит только из вершин и рёбер графа $G$), хотя не обязательно Гамильтоновым."
   ]
  },
  {
   "cell_type": "markdown",
   "metadata": {
    "collapsed": true
   },
   "source": [
    "# Количество гамильтоновых циклов в полном графе $K_n$\n",
    " - число вариантов выбрать 1-ю вершину = $n$ $\\implies$ умножаем на $n$\n",
    " - но $n$ замкнутых циклов равнозначны $\\implies$ делим на тот же $n$\n",
    " - у первой вершины $n-1$ вариантов куда отправиться,\n",
    "   у 2-й вершины $n-2$ итд; итого $(n-1)!$ для каждой вершины\n",
    " - половина циклов - перевернутые варианты имеющихся\n",
    "   (например `1-2-3-4-1` и `1-4-3-2-1`), но граф неориентированный\n",
    "   $\\implies$ делим на 2\n",
    " - итого: $\\frac12(n-1)!$"
   ]
  },
  {
   "cell_type": "markdown",
   "metadata": {
    "collapsed": true
   },
   "source": [
    "# В турнире существует гамильтонов путь\n",
    "\n",
    "Турнир $T$ -- орграф, полученный из полного графа $K_n$ произвольной ориентацией его ребер.\n",
    "\n",
    "### Доказательство\n",
    "\n",
    "Это можно доказать по индукции.\n",
    "Как базу индукции берём турнир из **трёх** вершин.\n",
    "Тут всегда имеется одна вершина с двумя входящими рёбрами, другая с двумя исходящими,\n",
    "третья с одним входящим и одним исходящим.\n",
    "Первую поставим в начало пути, вторую в конец, третью в середину.\n",
    "\n",
    "![turnir 3](hamilton-graphs/turnir-ham-3.png)\n",
    "\n",
    "Теперь предположим, что индукция выполнена для турнира из $n$ вершин,\n",
    "то есть для них **уже** нашёлся Гамильтонов путь $[(v_1,v_2),(v_2,v_3),...,(v_{n-1},v_n)]$.\n",
    "Добавим к турниру вершину $v_{n+1}$.\n",
    "Так как это турнир, то она имеет с **каждой** из вершин $v_1,...,v_n$ входящее или исходящее ребро.\n",
    "Попробуем добавить её в путь так, чтобы он остался Гамильтоновым.\n",
    "Рассмотрим четыре варианта событий:\n",
    "\n",
    "1. Все инцидентные $v_{n+1}$ рёбра **входят** в неё.\n",
    "   Тогда просто добавим $(v_n,v_{n+1})$ в **конец** пути.\n",
    "2. Все инцидентные $v_{n+1}$ рёбра **выходят** из неё.\n",
    "   Тогда просто добавим $(v_{n+1},v_1)$ в **начало** пути.\n",
    "3. Из $v_{n+1}$ есть как входящие так и исходящие рёбра, причем $(v_{n+1},v_1)$ - исходящее.\n",
    "   Вновь добавим вершину в **начало** пути.\n",
    "4. Из $v_{n+1}$ есть как входящие так и исходящие рёбра, но $(v_1,v_{n+1})$ входящее.\n",
    "   Начнём просматривать рёбра между $v_{n+1}$ и последовательно $v_2,v_3,\\dots,v_n$\n",
    "   **в порядке Гамильтонова пути**, пока не найдём **первое исходящее** $(v_{n+1},v_i)$.\n",
    "   Но предыдущее просмотренное ребро $(v_{i-1},v_{n+1})$ было входящим.\n",
    "   Модифицируем Гамильтонов путь так: удалим ребро $(v_{i-1},v_i)$\n",
    "   и на его место вставим пару $(v_{i-1},v_{n+1}),(v_{n+1},v_i)$.\n",
    "   На рисунке показаны для примера только рёбра нового пути, а прочие опущены:\n",
    "\n",
    "![turnir n](hamilton-graphs/turnir-ham-n.png)\n",
    "\n",
    "Во всех случаях полученный путь опять будет Гамильтоновым.\n",
    "Радостно заключаем, что индукция работает для любого $n$."
   ]
  }
 ],
 "metadata": {
  "kernelspec": {
   "display_name": "Python 3",
   "language": "python",
   "name": "python3"
  },
  "language_info": {
   "codemirror_mode": {
    "name": "ipython",
    "version": 3
   },
   "file_extension": ".py",
   "mimetype": "text/x-python",
   "name": "python",
   "nbconvert_exporter": "python",
   "pygments_lexer": "ipython3",
   "version": "3.6.3"
  }
 },
 "nbformat": 4,
 "nbformat_minor": 2
}
