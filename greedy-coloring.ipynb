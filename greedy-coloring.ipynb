{
 "cells": [
  {
   "cell_type": "markdown",
   "metadata": {},
   "source": [
    "maximum degree: $\\Delta = \\max \\deg(v)$\n",
    "\n",
    "chromatic number: $\\mathcal{X}(G) \\leqslant \\Delta + 1$ (оценка жадного алгоритма)\n",
    "\n",
    "двудольные графы $B(m,n)$: $\\mathcal{X}=2$\n",
    "\n",
    "полные графы $K_n$: $\\Delta=n-1$, $\\mathcal{X}=n$\n",
    "\n",
    "циклы чётной длины $C_{2n}$: $\\Delta=2$, $\\mathcal{X}=2$\n",
    "\n",
    "циклы нечётной длины $C_{2n+1}$: $\\Delta=2$, $\\mathcal{X}=3$\n",
    "\n",
    "Теорема Брукса: $\\mathcal{X}(G) \\leqslant \\Delta$ для всех графов кроме полных и нечётных циклов"
   ]
  },
  {
   "cell_type": "code",
   "execution_count": 1,
   "metadata": {},
   "outputs": [],
   "source": [
    "from itertools import permutations\n",
    "\n",
    "def greedy_for_bipartite(wanted_num, max_results=float('inf')):\n",
    "    G = {1:[6,7,8], 2: [5,7,8], 3: [5,6,8], 4:[5,6,7],\n",
    "         5:[2,3,4], 6:[1,3,4], 7:[1,2,4], 8:[1,2,3]}\n",
    "    COLORS = set(G.keys()) \n",
    "    def color_it(order):\n",
    "        def get_neighb_colors(v, dict_colors):\n",
    "            return {dict_colors[n] for n in G[v] if dict_colors[n]!=None}\n",
    "        cur_colors = dict.fromkeys(G.keys(), None)\n",
    "        for v in order:\n",
    "            cur_colors[v] = min(COLORS - get_neighb_colors(v, cur_colors))\n",
    "        return set(cur_colors.values())\n",
    "    count = 0\n",
    "    for order in permutations(G.keys()):\n",
    "        if len(color_it(order)) == wanted_num:\n",
    "            print(order)\n",
    "            count += 1\n",
    "            if count >= max_results:\n",
    "                break"
   ]
  },
  {
   "cell_type": "code",
   "execution_count": 2,
   "metadata": {},
   "outputs": [
    {
     "name": "stdout",
     "output_type": "stream",
     "text": [
      "(1, 2, 3, 4, 5, 6, 7, 8)\n"
     ]
    }
   ],
   "source": [
    "greedy_for_bipartite(wanted_num=2, max_results=1)"
   ]
  },
  {
   "cell_type": "markdown",
   "metadata": {},
   "source": [
    "![](images/greedy-bipartite-4-4-best.png)"
   ]
  },
  {
   "cell_type": "code",
   "execution_count": 3,
   "metadata": {},
   "outputs": [
    {
     "name": "stdout",
     "output_type": "stream",
     "text": [
      "(1, 5, 2, 6, 3, 4, 7, 8)\n"
     ]
    }
   ],
   "source": [
    "greedy_for_bipartite(wanted_num=4, max_results=1)"
   ]
  },
  {
   "cell_type": "markdown",
   "metadata": {},
   "source": [
    "![](images/greedy-bipartite-4-4-worst.png)"
   ]
  },
  {
   "cell_type": "code",
   "execution_count": 4,
   "metadata": {
    "scrolled": true
   },
   "outputs": [
    {
     "name": "stdout",
     "output_type": "stream",
     "text": [
      "original graph: {1: [6, 7, 8], 2: [5, 7, 8], 3: [5, 6], 4: [5, 6, 7], 5: [2, 3, 4], 6: [1, 3, 4], 7: [1, 2, 4], 8: [1, 2]}\n",
      "this order makes greedy alorithm suck: (1, 5, 2, 6, 3, 4, 7, 8)\n",
      "additionally sort by reverse degree: [1, 5, 2, 6, 4, 7, 3, 8]\n",
      "degrees along new order are: [3, 3, 3, 3, 3, 3, 2, 2]\n",
      "new mapping: {1: 1, 5: 2, 2: 3, 6: 4, 4: 5, 7: 6, 3: 7, 8: 8}\n",
      "new graph: {1: [4, 6, 8], 3: [2, 6, 8], 7: [2, 4], 5: [2, 4, 6], 2: [3, 7, 5], 4: [1, 7, 5], 6: [1, 3, 5], 8: [1, 3]}\n",
      "order now is simple: [1, 2, 3, 4, 5, 6, 7, 8]\n",
      "degrees along it are: [3, 3, 3, 3, 3, 3, 2, 2]\n",
      "greedy alorithm hits this many colors: 4\n",
      "edges: 1 4 1 6 1 8 2 3 2 5 2 7 3 6 3 8 4 5 4 7 5 6\n"
     ]
    }
   ],
   "source": [
    "from itertools import permutations\n",
    "\n",
    "def find_bad_for_greedy():\n",
    "    def color_it(G, order):\n",
    "        COLORS = set(G.keys())\n",
    "        def get_neighb_colors(v, dict_colors):\n",
    "            return {dict_colors[n] for n in G[v] if dict_colors[n]!=None}\n",
    "        cur_colors = dict.fromkeys(G.keys(), None)\n",
    "        for v in order:\n",
    "            cur_colors[v] = min(COLORS - get_neighb_colors(v, cur_colors))\n",
    "        return set(cur_colors.values())\n",
    "\n",
    "    def num_colors(G, order):\n",
    "        return len(color_it(G, order))\n",
    "\n",
    "    G = {1:[6,7,8], 2:[5,7,8], 3:[5,6],   4:[5,6,7],\n",
    "         5:[2,3,4], 6:[1,3,4], 7:[1,2,4], 8:[1,2]}\n",
    "    for order in permutations(G.keys()):\n",
    "        if num_colors(G, order) == 4 and 8 == order[-1]:\n",
    "            break\n",
    "    else:\n",
    "        return 'failed'\n",
    "\n",
    "    print('original graph:', G)\n",
    "    print('this order makes greedy alorithm suck:', order)\n",
    "    order = sorted(order, key=lambda n: len(G[n]), reverse=True)\n",
    "    print('additionally sort by reverse degree:', order)\n",
    "    print('degrees along new order are:', [len(G[n]) for n in order])\n",
    "\n",
    "    remap = {order[i]: i+1 for i in range(len(order))}\n",
    "    print('new mapping:', remap)\n",
    "    G = {remap[k]: [remap[b] for b in adj] for k, adj in G.items()}\n",
    "    print('new graph:', G)\n",
    "\n",
    "    order = sorted(G.keys())\n",
    "    print('order now is simple:', order)\n",
    "    print('degrees along it are:', [len(G[n]) for n in order])\n",
    "    print('greedy alorithm hits this many colors:', num_colors(G, order))\n",
    "\n",
    "    edges = sorted(set((a,b) for a in G.keys() for b in G[a]))\n",
    "    halves = sorted(set((min(a,b),max(a,b)) for a,b in edges))\n",
    "    print('edges:', ' '.join('%s %s' % e for e in halves))\n",
    "    return halves\n",
    "\n",
    "edges = find_bad_for_greedy()"
   ]
  },
  {
   "cell_type": "code",
   "execution_count": 5,
   "metadata": {},
   "outputs": [
    {
     "data": {
      "image/png": "[encoded data removed]",
      "text/plain": [
       "<IPython.core.display.Image object>"
      ]
     },
     "execution_count": 5,
     "metadata": {},
     "output_type": "execute_result"
    }
   ],
   "source": [
    "%matplotlib inline\n",
    "import networkx as nx\n",
    "from IPython.display import Image\n",
    "G = nx.from_edgelist(edges)\n",
    "dot = nx.drawing.nx_pydot.to_pydot(G)\n",
    "Image(dot.create_png(prog='dot'))"
   ]
  },
  {
   "cell_type": "code",
   "execution_count": 6,
   "metadata": {},
   "outputs": [
    {
     "data": {
      "image/png": "[encoded data removed]",
      "text/plain": [
       "<IPython.core.display.Image object>"
      ]
     },
     "execution_count": 6,
     "metadata": {},
     "output_type": "execute_result"
    }
   ],
   "source": [
    "%matplotlib inline\n",
    "import networkx as nx\n",
    "from IPython.display import Image\n",
    "G.remove_nodes_from([7,8])\n",
    "dot = nx.drawing.nx_pydot.to_pydot(G)\n",
    "Image(dot.create_png(prog='dot'))"
   ]
  }
 ],
 "metadata": {
  "kernelspec": {
   "display_name": "Python [default]",
   "language": "python",
   "name": "python3"
  },
  "language_info": {
   "codemirror_mode": {
    "name": "ipython",
    "version": 3
   },
   "file_extension": ".py",
   "mimetype": "text/x-python",
   "name": "python",
   "nbconvert_exporter": "python",
   "pygments_lexer": "ipython3",
   "version": "3.6.3"
  }
 },
 "nbformat": 4,
 "nbformat_minor": 2
}
