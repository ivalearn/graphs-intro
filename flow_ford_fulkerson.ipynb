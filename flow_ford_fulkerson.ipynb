{
 "cells": [
  {
   "cell_type": "markdown",
   "metadata": {},
   "source": [
    "# Алгоритм Форда-Фалкерсона"
   ]
  },
  {
   "cell_type": "code",
   "execution_count": 1,
   "metadata": {},
   "outputs": [],
   "source": [
    "%matplotlib inline\n",
    "import networkx as nx\n",
    "import sys\n",
    "import math\n",
    "from collections import defaultdict, deque"
   ]
  },
  {
   "cell_type": "code",
   "execution_count": 2,
   "metadata": {},
   "outputs": [],
   "source": [
    "# Disable plot axes by default\n",
    "import matplotlib as mpl\n",
    "if True:\n",
    "    mpl.rc('axes.spines', top=False, bottom=False, left=False, right=False)\n",
    "    mpl.rc('xtick', top=False, bottom=False, labelsize=0)\n",
    "    mpl.rc('ytick', left=False, right=False, labelsize=0)"
   ]
  },
  {
   "cell_type": "code",
   "execution_count": 3,
   "metadata": {
    "collapsed": true
   },
   "outputs": [],
   "source": [
    "from IPython.display import Image, HTML\n",
    "\n",
    "def pydot_image(graph, prog='dot', width=None):\n",
    "    dot = nx.nx_pydot.to_pydot(graph)\n",
    "    if width:\n",
    "        return Image(dot.create_png(prog=prog), width=width)\n",
    "    else:\n",
    "        return HTML(dot.create_svg(prog=prog).decode())"
   ]
  },
  {
   "cell_type": "markdown",
   "metadata": {},
   "source": [
    "## Prepare tests"
   ]
  },
  {
   "cell_type": "code",
   "execution_count": 4,
   "metadata": {
    "collapsed": true
   },
   "outputs": [],
   "source": [
    "test_input = \"4 5\\n0 1 3\\n1 2 1\\n0 2 1\\n1 3 1\\n2 3 3\\n\""
   ]
  },
  {
   "cell_type": "code",
   "execution_count": 5,
   "metadata": {},
   "outputs": [
    {
     "name": "stdout",
     "output_type": "stream",
     "text": [
      "3\n"
     ]
    }
   ],
   "source": [
    "def to_lines(input_str):\n",
    "    return (line for line in test_input.splitlines())\n",
    "\n",
    "def nx_max_flow(input_lines):\n",
    "    num_verts, num_edges = map(int, next(input_lines).split())\n",
    "    G = nx.DiGraph()\n",
    "    for line in input_lines:\n",
    "        a, b, cap = map(int, line.split())\n",
    "        G.add_edge(a, b, capacity=cap)\n",
    "    return nx.maximum_flow_value(G, 0, num_verts-1)\n",
    "\n",
    "print(nx_max_flow(to_lines(test_input)))"
   ]
  },
  {
   "cell_type": "code",
   "execution_count": 6,
   "metadata": {
    "collapsed": true
   },
   "outputs": [],
   "source": [
    "from random import shuffle, randint\n",
    "\n",
    "def random_network(max_nodes, min_nodes=4, max_node_edges=4, max_capacity=20, as_graph=False):\n",
    "    max_nodes = max(max_nodes, min_nodes)\n",
    "    while True:\n",
    "        num = randint(min_nodes, max_nodes)\n",
    "        deg_in = [randint(1, max_node_edges) for i in range(num)]\n",
    "        deg_out = deg_in[:]\n",
    "        shuffle(deg_out)\n",
    "        graph = nx.directed_configuration_model(in_degree_sequence=deg_in,\n",
    "                                                out_degree_sequence=deg_out)\n",
    "        edges = set((a,b) for a,b,c in sorted(graph.edges) if a!=b)\n",
    "        graph = nx.DiGraph(list(edges))\n",
    "        nodes = sorted(graph.nodes)\n",
    "        graph = nx.relabel_nodes(graph, {nodes[i]: i for i in range(len(nodes))})\n",
    "        start, end = 0, len(nodes)-1\n",
    "        graph.remove_edges_from(list(graph.in_edges(start)) + list(graph.out_edges(end)))\n",
    "        if nx.is_weakly_connected(graph):\n",
    "            break\n",
    "    for a,b in graph.edges:\n",
    "        cap = randint(1, max_capacity)\n",
    "        graph.edges[a,b]['capacity'] = cap\n",
    "        graph.edges[a,b]['label'] = str(cap)\n",
    "    if as_graph:\n",
    "        return graph\n",
    "    else:\n",
    "        lines = '%s %s\\n' % (len(graph.nodes), len(graph.edges))\n",
    "        lines += ''.join('%s %s %s\\n' % (a, b, graph.edges[a,b]['capacity'])\n",
    "                         for a,b in sorted(graph.edges))\n",
    "        return lines"
   ]
  },
  {
   "cell_type": "code",
   "execution_count": 7,
   "metadata": {},
   "outputs": [],
   "source": [
    "all_tests = [random_network(100) for _ in range(1000)]\n",
    "big_tests = [random_network(1000) for _ in range(100)]"
   ]
  },
  {
   "cell_type": "markdown",
   "metadata": {},
   "source": [
    "## Algorithm"
   ]
  },
  {
   "cell_type": "code",
   "execution_count": 8,
   "metadata": {},
   "outputs": [
    {
     "data": {
      "text/plain": [
       "3"
      ]
     },
     "execution_count": 8,
     "metadata": {},
     "output_type": "execute_result"
    }
   ],
   "source": [
    "import sys\n",
    "import math\n",
    "from collections import defaultdict, deque\n",
    "\n",
    "# поиск максимального потока в сети алгоритмом Форда-Фолкерсона\n",
    "def ff_max_flow(input_lines):\n",
    "    num_verts, num_edges = map(int, next(input_lines).split())\n",
    "    start, end = 0, num_verts-1\n",
    "\n",
    "    # преобразуем входные данные в массивы связности и массив ограничений\n",
    "    adjacency, back_edges = defaultdict(set), defaultdict(set)\n",
    "    capacity, flow = {}, {}\n",
    "    start = end = 0\n",
    "    for line in input_lines:\n",
    "        a, b, cap = map(int, line.split())\n",
    "        adjacency[a].add(b)\n",
    "        back_edges[b].add(a)\n",
    "        end = max(end, a, b)\n",
    "        capacity[(a,b)] = cap\n",
    "        flow[(a,b)] = 0\n",
    "\n",
    "    def find_improveable_path():\n",
    "        # путь Форда-Фалкерсона ищем поиском в ширину\n",
    "        queue = deque([start])  # очередь следующего уровня поиска\n",
    "        visited = set()         # множество уже пройденных вершин\n",
    "        paths = {}              # здесь собираем найденные рёбра\n",
    "        while queue:\n",
    "            a = queue.popleft()\n",
    "            if a in visited:\n",
    "                continue\n",
    "            visited.add(a)\n",
    "            if a == end:  # нашли путь, если смогли дойти до конечной вершины\n",
    "                return paths\n",
    "            for b in adjacency[a]:\n",
    "                # ищем прямые рёбра, в которые ещё можно добавить поток\n",
    "                delta = capacity[(a,b)] - flow[(a,b)]\n",
    "                if delta > 0:\n",
    "                    if b not in paths:  # учитаываем только 1-й найденный (поиск в ширину)\n",
    "                        paths[b] = (a, delta, 1)\n",
    "                    queue.append(b)\n",
    "            for b in back_edges[a]:\n",
    "                # ищем обратные рёбра, из которых ещё можно убрать поток\n",
    "                delta = flow[(b,a)]\n",
    "                if delta > 0:\n",
    "                    if a not in paths:  # учитаываем только 1-й найденный (поиск в ширину)\n",
    "                        paths[a] = (b, delta, -1)\n",
    "                    queue.append(b)\n",
    "        return None  # путь не найден\n",
    "\n",
    "    paths = find_improveable_path()\n",
    "    while paths:\n",
    "        # пройдём по пути в первый раз и найдём минимальную коррекцию\n",
    "        delta_min = math.inf\n",
    "        b = end\n",
    "        while b != start:\n",
    "            a, delta, sign = paths[b]\n",
    "            delta_min = min(delta_min, delta)\n",
    "            b = a\n",
    "\n",
    "        # пройдём по пути во второй раз и скорректируем потоки\n",
    "        b = end\n",
    "        while b != start:\n",
    "            a, delta, sign = paths[b]\n",
    "            flow[(a,b)] += delta_min * sign\n",
    "            b = a\n",
    "\n",
    "        # продолжаем искать путь Форда-Фалкерсона, пока возможно\n",
    "        paths = find_improveable_path()\n",
    "\n",
    "    # наилучший поток равен сумме потоков в начале (или в конце)\n",
    "    max_flow = sum(flow[(a,b)] for a,b in flow.keys() if a==start)\n",
    "    return max_flow\n",
    "\n",
    "ff_max_flow(to_lines(test_input))\n",
    "#print(ff_max_flow(line for line in sys.stdin))"
   ]
  },
  {
   "cell_type": "markdown",
   "metadata": {},
   "source": [
    "## Run tests"
   ]
  },
  {
   "cell_type": "code",
   "execution_count": 9,
   "metadata": {},
   "outputs": [
    {
     "name": "stdout",
     "output_type": "stream",
     "text": [
      "967 µs ± 38.7 µs per loop (mean ± std. dev. of 7 runs, 1000 loops each)\n",
      "212 µs ± 22.2 µs per loop (mean ± std. dev. of 7 runs, 10000 loops each)\n"
     ]
    }
   ],
   "source": [
    "# compare execution time with networkx\n",
    "%timeit nx_max_flow(to_lines(test_input))\n",
    "%timeit ff_max_flow(to_lines(test_input))"
   ]
  },
  {
   "cell_type": "code",
   "execution_count": 10,
   "metadata": {},
   "outputs": [
    {
     "name": "stdout",
     "output_type": "stream",
     "text": [
      "all ok\n",
      "big ok\n"
     ]
    }
   ],
   "source": [
    "for test in all_tests:\n",
    "    assert nx_max_flow(to_lines(test)) == ff_max_flow(to_lines(test))\n",
    "print('all ok')\n",
    "\n",
    "for test in big_tests:\n",
    "    assert nx_max_flow(to_lines(test)) == ff_max_flow(to_lines(test))\n",
    "print('big ok')"
   ]
  },
  {
   "cell_type": "code",
   "execution_count": 11,
   "metadata": {},
   "outputs": [
    {
     "name": "stdout",
     "output_type": "stream",
     "text": [
      "994 ms ± 102 ms per loop (mean ± std. dev. of 7 runs, 1 loop each)\n",
      "204 ms ± 19.9 ms per loop (mean ± std. dev. of 7 runs, 1 loop each)\n",
      "94.6 ms ± 356 µs per loop (mean ± std. dev. of 7 runs, 10 loops each)\n",
      "20.1 ms ± 999 µs per loop (mean ± std. dev. of 7 runs, 100 loops each)\n"
     ]
    }
   ],
   "source": [
    "%timeit [nx_max_flow(to_lines(test)) for test in all_tests]\n",
    "%timeit [ff_max_flow(to_lines(test)) for test in all_tests]\n",
    "%timeit [nx_max_flow(to_lines(test)) for test in big_tests]\n",
    "%timeit [ff_max_flow(to_lines(test)) for test in big_tests]"
   ]
  },
  {
   "cell_type": "markdown",
   "metadata": {},
   "source": [
    "## Visualize networks"
   ]
  },
  {
   "cell_type": "code",
   "execution_count": 12,
   "metadata": {},
   "outputs": [
    {
     "data": {
      "image/png": "[encoded data removed]",
      "text/plain": [
       "<matplotlib.figure.Figure at 0x8f98ec2a58>"
      ]
     },
     "metadata": {},
     "output_type": "display_data"
    }
   ],
   "source": [
    "g = random_network(10, as_graph=True)\n",
    "layout = nx.circular_layout(g)\n",
    "edge_labels = {(a,b): d['label'] for a,b,d in g.edges.data()}\n",
    "_ = nx.draw_networkx(g, pos=layout, node_color='lightgray', node_size=800)\n",
    "_ = nx.draw_networkx_edge_labels(g, pos=layout, edge_labels=edge_labels, label_pos=0.25)"
   ]
  },
  {
   "cell_type": "code",
   "execution_count": 13,
   "metadata": {},
   "outputs": [
    {
     "data": {
      "text/html": [
       "<?xml version=\"1.0\" encoding=\"UTF-8\" standalone=\"no\"?>\r\n",
       "<!DOCTYPE svg PUBLIC \"-//W3C//DTD SVG 1.1//EN\"\r\n",
       " \"http://www.w3.org/Graphics/SVG/1.1/DTD/svg11.dtd\">\r\n",
       "<!-- Generated by graphviz version 2.38.0 (20140413.2041)\r\n",
       " -->\r\n",
       "<!-- Title: %3 Pages: 1 -->\r\n",
       "<svg width=\"511pt\" height=\"399pt\"\r\n",
       " viewBox=\"0.00 0.00 511.08 399.48\" xmlns=\"http://www.w3.org/2000/svg\" xmlns:xlink=\"http://www.w3.org/1999/xlink\">\r\n",
       "<g id=\"graph0\" class=\"graph\" transform=\"scale(1 1) rotate(0) translate(4 395.48)\">\r\n",
       "<title>%3</title>\r\n",
       "<polygon fill=\"white\" stroke=\"none\" points=\"-4,4 -4,-395.48 507.079,-395.48 507.079,4 -4,4\"/>\r\n",
       "<!-- 4 -->\r\n",
       "<g id=\"node1\" class=\"node\"><title>4</title>\r\n",
       "<ellipse fill=\"none\" stroke=\"black\" cx=\"106.356\" cy=\"-352.042\" rx=\"27\" ry=\"18\"/>\r\n",
       "<text text-anchor=\"middle\" x=\"106.356\" y=\"-348.342\" font-family=\"Times New Roman,serif\" font-size=\"14.00\">4</text>\r\n",
       "</g>\r\n",
       "<!-- 7 -->\r\n",
       "<g id=\"node2\" class=\"node\"><title>7</title>\r\n",
       "<ellipse fill=\"none\" stroke=\"black\" cx=\"334.854\" cy=\"-79.7284\" rx=\"27\" ry=\"18\"/>\r\n",
       "<text text-anchor=\"middle\" x=\"334.854\" y=\"-76.0284\" font-family=\"Times New Roman,serif\" font-size=\"14.00\">7</text>\r\n",
       "</g>\r\n",
       "<!-- 4&#45;&gt;7 -->\r\n",
       "<g id=\"edge1\" class=\"edge\"><title>4&#45;&gt;7</title>\r\n",
       "<path fill=\"none\" stroke=\"black\" d=\"M119.629,-336.224C158.042,-290.445 269.478,-157.641 315.064,-103.314\"/>\r\n",
       "<polygon fill=\"black\" stroke=\"black\" points=\"317.798,-105.5 321.545,-95.5898 312.436,-101 317.798,-105.5\"/>\r\n",
       "<text text-anchor=\"middle\" x=\"210.347\" y=\"-223.569\" font-family=\"Times New Roman,serif\" font-size=\"14.00\">18</text>\r\n",
       "</g>\r\n",
       "<!-- 1 -->\r\n",
       "<g id=\"node6\" class=\"node\"><title>1</title>\r\n",
       "<ellipse fill=\"none\" stroke=\"black\" cx=\"27\" cy=\"-257.468\" rx=\"27\" ry=\"18\"/>\r\n",
       "<text text-anchor=\"middle\" x=\"27\" y=\"-253.768\" font-family=\"Times New Roman,serif\" font-size=\"14.00\">1</text>\r\n",
       "</g>\r\n",
       "<!-- 4&#45;&gt;1 -->\r\n",
       "<g id=\"edge2\" class=\"edge\"><title>4&#45;&gt;1</title>\r\n",
       "<path fill=\"none\" stroke=\"black\" d=\"M92.8947,-335.998C80.2781,-320.963 61.2606,-298.298 46.8937,-281.177\"/>\r\n",
       "<polygon fill=\"black\" stroke=\"black\" points=\"49.372,-278.685 40.2629,-273.274 44.0097,-283.185 49.372,-278.685\"/>\r\n",
       "<text text-anchor=\"middle\" x=\"62.8942\" y=\"-312.388\" font-family=\"Times New Roman,serif\" font-size=\"14.00\">13</text>\r\n",
       "</g>\r\n",
       "<!-- 2 -->\r\n",
       "<g id=\"node5\" class=\"node\"><title>2</title>\r\n",
       "<ellipse fill=\"none\" stroke=\"black\" cx=\"227.938\" cy=\"-18\" rx=\"27\" ry=\"18\"/>\r\n",
       "<text text-anchor=\"middle\" x=\"227.938\" y=\"-14.3\" font-family=\"Times New Roman,serif\" font-size=\"14.00\">2</text>\r\n",
       "</g>\r\n",
       "<!-- 7&#45;&gt;2 -->\r\n",
       "<g id=\"edge3\" class=\"edge\"><title>7&#45;&gt;2</title>\r\n",
       "<path fill=\"none\" stroke=\"black\" d=\"M314.24,-67.8265C298.117,-58.5184 275.488,-45.4534 257.447,-35.037\"/>\r\n",
       "<polygon fill=\"black\" stroke=\"black\" points=\"258.899,-31.8343 248.489,-29.8653 255.399,-37.8965 258.899,-31.8343\"/>\r\n",
       "<text text-anchor=\"middle\" x=\"278.843\" y=\"-55.2318\" font-family=\"Times New Roman,serif\" font-size=\"14.00\">18</text>\r\n",
       "</g>\r\n",
       "<!-- 7&#45;&gt;1 -->\r\n",
       "<g id=\"edge4\" class=\"edge\"><title>7&#45;&gt;1</title>\r\n",
       "<path fill=\"none\" stroke=\"black\" d=\"M311.626,-88.925C255.291,-116.851 111.914,-199.462 52.9165,-237.787\"/>\r\n",
       "<polygon fill=\"black\" stroke=\"black\" points=\"50.9407,-234.897 44.5209,-243.326 54.7955,-240.74 50.9407,-234.897\"/>\r\n",
       "<text text-anchor=\"middle\" x=\"175.271\" y=\"-152.156\" font-family=\"Times New Roman,serif\" font-size=\"14.00\">11</text>\r\n",
       "</g>\r\n",
       "<!-- 5 -->\r\n",
       "<g id=\"node3\" class=\"node\"><title>5</title>\r\n",
       "<ellipse fill=\"none\" stroke=\"black\" cx=\"377.079\" cy=\"-195.74\" rx=\"27\" ry=\"18\"/>\r\n",
       "<text text-anchor=\"middle\" x=\"377.079\" y=\"-192.04\" font-family=\"Times New Roman,serif\" font-size=\"14.00\">5</text>\r\n",
       "</g>\r\n",
       "<!-- 6 -->\r\n",
       "<g id=\"node4\" class=\"node\"><title>6</title>\r\n",
       "<ellipse fill=\"none\" stroke=\"black\" cx=\"227.938\" cy=\"-373.48\" rx=\"27\" ry=\"18\"/>\r\n",
       "<text text-anchor=\"middle\" x=\"227.938\" y=\"-369.78\" font-family=\"Times New Roman,serif\" font-size=\"14.00\">6</text>\r\n",
       "</g>\r\n",
       "<!-- 5&#45;&gt;6 -->\r\n",
       "<g id=\"edge5\" class=\"edge\"><title>5&#45;&gt;6</title>\r\n",
       "<path fill=\"none\" stroke=\"black\" d=\"M363.844,-211.513C337.532,-242.871 278.53,-313.185 247.643,-349.996\"/>\r\n",
       "<polygon fill=\"black\" stroke=\"black\" points=\"244.89,-347.831 241.143,-357.742 250.252,-352.331 244.89,-347.831\"/>\r\n",
       "<text text-anchor=\"middle\" x=\"298.743\" y=\"-284.554\" font-family=\"Times New Roman,serif\" font-size=\"14.00\">12</text>\r\n",
       "</g>\r\n",
       "<!-- 8 -->\r\n",
       "<g id=\"node7\" class=\"node\"><title>8</title>\r\n",
       "<ellipse fill=\"none\" stroke=\"black\" cx=\"334.854\" cy=\"-311.751\" rx=\"27\" ry=\"18\"/>\r\n",
       "<text text-anchor=\"middle\" x=\"334.854\" y=\"-308.051\" font-family=\"Times New Roman,serif\" font-size=\"14.00\">8</text>\r\n",
       "</g>\r\n",
       "<!-- 5&#45;&gt;8 -->\r\n",
       "<g id=\"edge6\" class=\"edge\"><title>5&#45;&gt;8</title>\r\n",
       "<path fill=\"none\" stroke=\"black\" d=\"M370.666,-213.359C363.784,-232.268 352.764,-262.544 344.765,-284.522\"/>\r\n",
       "<polygon fill=\"black\" stroke=\"black\" points=\"341.459,-283.372 341.328,-293.966 348.037,-285.766 341.459,-283.372\"/>\r\n",
       "<text text-anchor=\"middle\" x=\"354.215\" y=\"-252.741\" font-family=\"Times New Roman,serif\" font-size=\"14.00\">7</text>\r\n",
       "</g>\r\n",
       "<!-- 6&#45;&gt;4 -->\r\n",
       "<g id=\"edge8\" class=\"edge\"><title>6&#45;&gt;4</title>\r\n",
       "<path fill=\"none\" stroke=\"black\" d=\"M201.556,-368.828C184.35,-365.794 161.659,-361.793 142.746,-358.458\"/>\r\n",
       "<polygon fill=\"black\" stroke=\"black\" points=\"143.142,-354.974 132.686,-356.684 141.927,-361.868 143.142,-354.974\"/>\r\n",
       "<text text-anchor=\"middle\" x=\"165.151\" y=\"-367.443\" font-family=\"Times New Roman,serif\" font-size=\"14.00\">19</text>\r\n",
       "</g>\r\n",
       "<!-- 6&#45;&gt;1 -->\r\n",
       "<g id=\"edge10\" class=\"edge\"><title>6&#45;&gt;1</title>\r\n",
       "<path fill=\"none\" stroke=\"black\" d=\"M211.451,-359.211C178.376,-336.438 103.593,-292.916 60.0611,-270.769\"/>\r\n",
       "<polygon fill=\"black\" stroke=\"black\" points=\"61.5232,-267.587 51.0123,-266.256 58.3989,-273.851 61.5232,-267.587\"/>\r\n",
       "<text text-anchor=\"middle\" x=\"132.256\" y=\"-318.79\" font-family=\"Times New Roman,serif\" font-size=\"14.00\">2</text>\r\n",
       "</g>\r\n",
       "<!-- 6&#45;&gt;8 -->\r\n",
       "<g id=\"edge9\" class=\"edge\"><title>6&#45;&gt;8</title>\r\n",
       "<path fill=\"none\" stroke=\"black\" d=\"M252.617,-365.663C270.192,-357.176 293.633,-343.785 311.015,-332.375\"/>\r\n",
       "<polygon fill=\"black\" stroke=\"black\" points=\"313.179,-335.137 319.489,-326.626 309.249,-329.344 313.179,-335.137\"/>\r\n",
       "<text text-anchor=\"middle\" x=\"274.816\" y=\"-352.819\" font-family=\"Times New Roman,serif\" font-size=\"14.00\">19</text>\r\n",
       "</g>\r\n",
       "<!-- 3 -->\r\n",
       "<g id=\"node10\" class=\"node\"><title>3</title>\r\n",
       "<ellipse fill=\"none\" stroke=\"black\" cx=\"106.356\" cy=\"-39.438\" rx=\"27\" ry=\"18\"/>\r\n",
       "<text text-anchor=\"middle\" x=\"106.356\" y=\"-35.738\" font-family=\"Times New Roman,serif\" font-size=\"14.00\">3</text>\r\n",
       "</g>\r\n",
       "<!-- 6&#45;&gt;3 -->\r\n",
       "<g id=\"edge7\" class=\"edge\"><title>6&#45;&gt;3</title>\r\n",
       "<path fill=\"none\" stroke=\"black\" d=\"M221.401,-355.52C201.316,-300.336 140.406,-132.989 116.316,-66.8023\"/>\r\n",
       "<polygon fill=\"black\" stroke=\"black\" points=\"119.487,-65.2808 112.778,-57.081 112.909,-67.675 119.487,-65.2808\"/>\r\n",
       "<text text-anchor=\"middle\" x=\"165.359\" y=\"-214.961\" font-family=\"Times New Roman,serif\" font-size=\"14.00\">5</text>\r\n",
       "</g>\r\n",
       "<!-- 2&#45;&gt;1 -->\r\n",
       "<g id=\"edge11\" class=\"edge\"><title>2&#45;&gt;1</title>\r\n",
       "<path fill=\"none\" stroke=\"black\" d=\"M214.754,-33.7122C180.336,-74.7295 87.6216,-185.222 46.7789,-233.897\"/>\r\n",
       "<polygon fill=\"black\" stroke=\"black\" points=\"43.9794,-231.788 40.2326,-241.698 49.3417,-236.287 43.9794,-231.788\"/>\r\n",
       "<text text-anchor=\"middle\" x=\"127.266\" y=\"-137.604\" font-family=\"Times New Roman,serif\" font-size=\"14.00\">1</text>\r\n",
       "</g>\r\n",
       "<!-- 1&#45;&gt;7 -->\r\n",
       "<g id=\"edge15\" class=\"edge\"><title>1&#45;&gt;7</title>\r\n",
       "<path fill=\"none\" stroke=\"black\" d=\"M50.2281,-248.272C106.563,-220.346 249.94,-137.735 308.938,-99.4095\"/>\r\n",
       "<polygon fill=\"black\" stroke=\"black\" points=\"310.914,-102.299 317.333,-93.8707 307.059,-96.4561 310.914,-102.299\"/>\r\n",
       "<text text-anchor=\"middle\" x=\"176.083\" y=\"-177.641\" font-family=\"Times New Roman,serif\" font-size=\"14.00\">5</text>\r\n",
       "</g>\r\n",
       "<!-- 1&#45;&gt;6 -->\r\n",
       "<g id=\"edge12\" class=\"edge\"><title>1&#45;&gt;6</title>\r\n",
       "<path fill=\"none\" stroke=\"black\" d=\"M43.4869,-271.736C76.5614,-294.51 151.345,-338.032 194.877,-360.179\"/>\r\n",
       "<polygon fill=\"black\" stroke=\"black\" points=\"193.414,-363.361 203.925,-364.692 196.539,-357.096 193.414,-363.361\"/>\r\n",
       "<text text-anchor=\"middle\" x=\"115.682\" y=\"-319.758\" font-family=\"Times New Roman,serif\" font-size=\"14.00\">5</text>\r\n",
       "</g>\r\n",
       "<!-- 1&#45;&gt;8 -->\r\n",
       "<g id=\"edge14\" class=\"edge\"><title>1&#45;&gt;8</title>\r\n",
       "<path fill=\"none\" stroke=\"black\" d=\"M53.2475,-262.096C108.229,-271.791 235.594,-294.249 298.44,-305.33\"/>\r\n",
       "<polygon fill=\"black\" stroke=\"black\" points=\"298.217,-308.845 308.673,-307.135 299.433,-301.951 298.217,-308.845\"/>\r\n",
       "<text text-anchor=\"middle\" x=\"168.844\" y=\"-287.513\" font-family=\"Times New Roman,serif\" font-size=\"14.00\">18</text>\r\n",
       "</g>\r\n",
       "<!-- 9 -->\r\n",
       "<g id=\"node8\" class=\"node\"><title>9</title>\r\n",
       "<ellipse fill=\"none\" stroke=\"black\" cx=\"27\" cy=\"-134.011\" rx=\"27\" ry=\"18\"/>\r\n",
       "<text text-anchor=\"middle\" x=\"27\" y=\"-130.311\" font-family=\"Times New Roman,serif\" font-size=\"14.00\">9</text>\r\n",
       "</g>\r\n",
       "<!-- 1&#45;&gt;9 -->\r\n",
       "<g id=\"edge13\" class=\"edge\"><title>1&#45;&gt;9</title>\r\n",
       "<path fill=\"none\" stroke=\"black\" d=\"M27,-239.252C27,-219.01 27,-186.068 27,-162.43\"/>\r\n",
       "<polygon fill=\"black\" stroke=\"black\" points=\"30.5001,-162.303 27,-152.303 23.5001,-162.303 30.5001,-162.303\"/>\r\n",
       "<text text-anchor=\"middle\" x=\"20\" y=\"-204.641\" font-family=\"Times New Roman,serif\" font-size=\"14.00\">13</text>\r\n",
       "</g>\r\n",
       "<!-- 8&#45;&gt;4 -->\r\n",
       "<g id=\"edge17\" class=\"edge\"><title>8&#45;&gt;4</title>\r\n",
       "<path fill=\"none\" stroke=\"black\" d=\"M308.643,-316.373C267.774,-323.579 188.771,-337.51 142.516,-345.666\"/>\r\n",
       "<polygon fill=\"black\" stroke=\"black\" points=\"141.854,-342.228 132.613,-347.412 143.069,-349.122 141.854,-342.228\"/>\r\n",
       "<text text-anchor=\"middle\" x=\"218.579\" y=\"-334.819\" font-family=\"Times New Roman,serif\" font-size=\"14.00\">18</text>\r\n",
       "</g>\r\n",
       "<!-- 8&#45;&gt;6 -->\r\n",
       "<g id=\"edge16\" class=\"edge\"><title>8&#45;&gt;6</title>\r\n",
       "<path fill=\"none\" stroke=\"black\" d=\"M310.175,-319.567C292.6,-328.055 269.159,-341.446 251.777,-352.855\"/>\r\n",
       "<polygon fill=\"black\" stroke=\"black\" points=\"249.613,-350.094 243.303,-358.605 253.543,-355.887 249.613,-350.094\"/>\r\n",
       "<text text-anchor=\"middle\" x=\"277.476\" y=\"-325.011\" font-family=\"Times New Roman,serif\" font-size=\"14.00\">2</text>\r\n",
       "</g>\r\n",
       "<!-- 0 -->\r\n",
       "<g id=\"node9\" class=\"node\"><title>0</title>\r\n",
       "<ellipse fill=\"none\" stroke=\"black\" cx=\"476.079\" cy=\"-195.74\" rx=\"27\" ry=\"18\"/>\r\n",
       "<text text-anchor=\"middle\" x=\"476.079\" y=\"-192.04\" font-family=\"Times New Roman,serif\" font-size=\"14.00\">0</text>\r\n",
       "</g>\r\n",
       "<!-- 0&#45;&gt;5 -->\r\n",
       "<g id=\"edge18\" class=\"edge\"><title>0&#45;&gt;5</title>\r\n",
       "<path fill=\"none\" stroke=\"black\" d=\"M449.027,-195.74C438.332,-195.74 425.863,-195.74 414.339,-195.74\"/>\r\n",
       "<polygon fill=\"black\" stroke=\"black\" points=\"414.099,-192.24 404.099,-195.74 414.098,-199.24 414.099,-192.24\"/>\r\n",
       "<text text-anchor=\"middle\" x=\"424.683\" y=\"-199.54\" font-family=\"Times New Roman,serif\" font-size=\"14.00\">16</text>\r\n",
       "</g>\r\n",
       "<!-- 3&#45;&gt;4 -->\r\n",
       "<g id=\"edge21\" class=\"edge\"><title>3&#45;&gt;4</title>\r\n",
       "<path fill=\"none\" stroke=\"black\" d=\"M106.356,-57.5961C106.356,-109.825 106.356,-260.726 106.356,-323.804\"/>\r\n",
       "<polygon fill=\"black\" stroke=\"black\" points=\"102.857,-323.833 106.356,-333.833 109.857,-323.833 102.857,-323.833\"/>\r\n",
       "<text text-anchor=\"middle\" x=\"99.3565\" y=\"-194.5\" font-family=\"Times New Roman,serif\" font-size=\"14.00\">19</text>\r\n",
       "</g>\r\n",
       "<!-- 3&#45;&gt;2 -->\r\n",
       "<g id=\"edge19\" class=\"edge\"><title>3&#45;&gt;2</title>\r\n",
       "<path fill=\"none\" stroke=\"black\" d=\"M132.738,-34.7863C149.945,-31.7523 172.635,-27.7513 191.548,-24.4164\"/>\r\n",
       "<polygon fill=\"black\" stroke=\"black\" points=\"192.368,-27.826 201.608,-22.6427 191.152,-20.9324 192.368,-27.826\"/>\r\n",
       "<text text-anchor=\"middle\" x=\"155.143\" y=\"-33.4014\" font-family=\"Times New Roman,serif\" font-size=\"14.00\">13</text>\r\n",
       "</g>\r\n",
       "<!-- 3&#45;&gt;9 -->\r\n",
       "<g id=\"edge20\" class=\"edge\"><title>3&#45;&gt;9</title>\r\n",
       "<path fill=\"none\" stroke=\"black\" d=\"M92.8947,-55.4811C80.2781,-70.517 61.2606,-93.1812 46.8937,-110.303\"/>\r\n",
       "<polygon fill=\"black\" stroke=\"black\" points=\"44.0097,-108.295 40.2629,-118.205 49.372,-112.795 44.0097,-108.295\"/>\r\n",
       "<text text-anchor=\"middle\" x=\"66.3942\" y=\"-86.6921\" font-family=\"Times New Roman,serif\" font-size=\"14.00\">7</text>\r\n",
       "</g>\r\n",
       "</g>\r\n",
       "</svg>\r\n"
      ],
      "text/plain": [
       "<IPython.core.display.HTML object>"
      ]
     },
     "execution_count": 13,
     "metadata": {},
     "output_type": "execute_result"
    }
   ],
   "source": [
    "pydot_image(g, 'circo')"
   ]
  }
 ],
 "metadata": {
  "kernelspec": {
   "display_name": "Python [conda root]",
   "language": "python",
   "name": "conda-root-py"
  },
  "language_info": {
   "codemirror_mode": {
    "name": "ipython",
    "version": 3
   },
   "file_extension": ".py",
   "mimetype": "text/x-python",
   "name": "python",
   "nbconvert_exporter": "python",
   "pygments_lexer": "ipython3",
   "version": "3.6.3"
  }
 },
 "nbformat": 4,
 "nbformat_minor": 2
}
