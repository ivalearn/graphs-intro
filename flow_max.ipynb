{
 "cells": [
  {
   "cell_type": "markdown",
   "metadata": {},
   "source": [
    "# Алгоритм Форда-Фалкерсона"
   ]
  },
  {
   "cell_type": "code",
   "execution_count": 1,
   "metadata": {},
   "outputs": [],
   "source": [
    "%matplotlib inline\n",
    "import networkx as nx\n",
    "import sys\n",
    "import math\n",
    "from collections import defaultdict, deque"
   ]
  },
  {
   "cell_type": "code",
   "execution_count": 2,
   "metadata": {},
   "outputs": [],
   "source": [
    "# Disable plot axes by default\n",
    "import matplotlib as mpl\n",
    "if True:\n",
    "    mpl.rc('axes.spines', top=False, bottom=False, left=False, right=False)\n",
    "    mpl.rc('xtick', top=False, bottom=False, labelsize=0)\n",
    "    mpl.rc('ytick', left=False, right=False, labelsize=0)"
   ]
  },
  {
   "cell_type": "code",
   "execution_count": 3,
   "metadata": {},
   "outputs": [],
   "source": [
    "from IPython.display import Image, HTML\n",
    "\n",
    "def pydot_image(graph, prog='dot', width=None):\n",
    "    dot = nx.nx_pydot.to_pydot(graph)\n",
    "    if width:\n",
    "        return Image(dot.create_png(prog=prog), width=width)\n",
    "    else:\n",
    "        return HTML(dot.create_svg(prog=prog).decode())"
   ]
  },
  {
   "cell_type": "markdown",
   "metadata": {},
   "source": [
    "## Prepare tests"
   ]
  },
  {
   "cell_type": "code",
   "execution_count": 4,
   "metadata": {},
   "outputs": [],
   "source": [
    "test_input = \"4 5\\n0 1 3\\n1 2 1\\n0 2 1\\n1 3 1\\n2 3 3\\n\""
   ]
  },
  {
   "cell_type": "code",
   "execution_count": 5,
   "metadata": {},
   "outputs": [
    {
     "name": "stdout",
     "output_type": "stream",
     "text": [
      "3\n"
     ]
    }
   ],
   "source": [
    "def to_lines(input_str):\n",
    "    return (line for line in test_input.splitlines())\n",
    "\n",
    "def nx_max_flow(input_lines):\n",
    "    num_verts, num_edges = map(int, next(input_lines).split())\n",
    "    G = nx.DiGraph()\n",
    "    for line in input_lines:\n",
    "        a, b, cap = map(int, line.split())\n",
    "        G.add_edge(a, b, capacity=cap)\n",
    "    return nx.maximum_flow_value(G, 0, num_verts-1)\n",
    "\n",
    "print(nx_max_flow(to_lines(test_input)))"
   ]
  },
  {
   "cell_type": "code",
   "execution_count": 6,
   "metadata": {},
   "outputs": [],
   "source": [
    "from random import shuffle, randint\n",
    "\n",
    "def random_network(max_nodes, min_nodes=4, max_node_edges=4, max_capacity=20, as_graph=False):\n",
    "    max_nodes = max(max_nodes, min_nodes)\n",
    "    while True:\n",
    "        num = randint(min_nodes, max_nodes)\n",
    "        deg_in = [randint(1, max_node_edges) for i in range(num)]\n",
    "        deg_out = deg_in[:]\n",
    "        shuffle(deg_out)\n",
    "        graph = nx.directed_configuration_model(in_degree_sequence=deg_in,\n",
    "                                                out_degree_sequence=deg_out)\n",
    "        edges = set((a,b) for a,b,c in sorted(graph.edges) if a!=b)\n",
    "        graph = nx.DiGraph(list(edges))\n",
    "        nodes = sorted(graph.nodes)\n",
    "        graph = nx.relabel_nodes(graph, {nodes[i]: i for i in range(len(nodes))})\n",
    "        start, end = 0, len(nodes)-1\n",
    "        graph.remove_edges_from(list(graph.in_edges(start)) + list(graph.out_edges(end)))\n",
    "        if nx.is_weakly_connected(graph):\n",
    "            break\n",
    "    for a,b in graph.edges:\n",
    "        cap = randint(1, max_capacity)\n",
    "        graph.edges[a,b]['capacity'] = cap\n",
    "        graph.edges[a,b]['label'] = str(cap)\n",
    "    if as_graph:\n",
    "        return graph\n",
    "    else:\n",
    "        lines = '%s %s\\n' % (len(graph.nodes), len(graph.edges))\n",
    "        lines += ''.join('%s %s %s\\n' % (a, b, graph.edges[a,b]['capacity'])\n",
    "                         for a,b in sorted(graph.edges))\n",
    "        return lines"
   ]
  },
  {
   "cell_type": "code",
   "execution_count": 7,
   "metadata": {},
   "outputs": [],
   "source": [
    "all_tests = [random_network(100) for _ in range(1000)]\n",
    "big_tests = [random_network(1000) for _ in range(100)]"
   ]
  },
  {
   "cell_type": "markdown",
   "metadata": {},
   "source": [
    "## Ford-Fulkerson algorithm"
   ]
  },
  {
   "cell_type": "code",
   "execution_count": 8,
   "metadata": {},
   "outputs": [
    {
     "data": {
      "text/plain": [
       "3"
      ]
     },
     "execution_count": 8,
     "metadata": {},
     "output_type": "execute_result"
    }
   ],
   "source": [
    "import sys\n",
    "import math\n",
    "from collections import defaultdict, deque\n",
    "\n",
    "# поиск максимального потока в сети алгоритмом Форда-Фолкерсона\n",
    "def ff_max_flow(input_lines):\n",
    "    num_verts, num_edges = map(int, next(input_lines).split())\n",
    "    start, end = 0, num_verts-1\n",
    "\n",
    "    # преобразуем входные данные в массивы связности и массив ограничений\n",
    "    adjacency, back_edges = defaultdict(set), defaultdict(set)\n",
    "    capacity, flow = {}, {}\n",
    "    start = end = 0\n",
    "    for line in input_lines:\n",
    "        a, b, cap = map(int, line.split())\n",
    "        adjacency[a].add(b)\n",
    "        back_edges[b].add(a)\n",
    "        end = max(end, a, b)\n",
    "        capacity[(a,b)] = cap\n",
    "        flow[(a,b)] = 0\n",
    "\n",
    "    def find_improveable_path():\n",
    "        # путь Форда-Фалкерсона ищем поиском в ширину\n",
    "        queue = deque([start])  # очередь следующего уровня поиска\n",
    "        visited = set()         # множество уже пройденных вершин\n",
    "        paths = {}              # здесь собираем найденные рёбра\n",
    "        while queue:\n",
    "            a = queue.popleft()\n",
    "            if a in visited:\n",
    "                continue\n",
    "            visited.add(a)\n",
    "            if a == end:  # нашли путь, если смогли дойти до конечной вершины\n",
    "                return paths\n",
    "            for b in adjacency[a]:\n",
    "                # ищем прямые рёбра, в которые ещё можно добавить поток\n",
    "                delta = capacity[(a,b)] - flow[(a,b)]\n",
    "                if delta > 0:\n",
    "                    if b not in paths:  # учитаываем только 1-й найденный (поиск в ширину)\n",
    "                        paths[b] = (a, delta, 1)\n",
    "                    queue.append(b)\n",
    "            for b in back_edges[a]:\n",
    "                # ищем обратные рёбра, из которых ещё можно убрать поток\n",
    "                delta = flow[(b,a)]\n",
    "                if delta > 0:\n",
    "                    if a not in paths:  # учитаываем только 1-й найденный (поиск в ширину)\n",
    "                        paths[a] = (b, delta, -1)\n",
    "                    queue.append(b)\n",
    "        return None  # путь не найден\n",
    "\n",
    "    paths = find_improveable_path()\n",
    "    while paths:\n",
    "        # пройдём по пути в первый раз и найдём минимальную коррекцию\n",
    "        delta_min = math.inf\n",
    "        b = end\n",
    "        while b != start:\n",
    "            a, delta, sign = paths[b]\n",
    "            delta_min = min(delta_min, delta)\n",
    "            b = a\n",
    "\n",
    "        # пройдём по пути во второй раз и скорректируем потоки\n",
    "        b = end\n",
    "        while b != start:\n",
    "            a, delta, sign = paths[b]\n",
    "            flow[(a,b)] += delta_min * sign\n",
    "            b = a\n",
    "\n",
    "        # продолжаем искать путь Форда-Фалкерсона, пока возможно\n",
    "        paths = find_improveable_path()\n",
    "\n",
    "    # наилучший поток равен сумме потоков в начале (или в конце)\n",
    "    max_flow = sum(flow[(a,b)] for a,b in flow.keys() if a==start)\n",
    "    return max_flow\n",
    "\n",
    "ff_max_flow(to_lines(test_input))\n",
    "#print(ff_max_flow(line for line in sys.stdin))"
   ]
  },
  {
   "cell_type": "code",
   "execution_count": 9,
   "metadata": {},
   "outputs": [
    {
     "name": "stdout",
     "output_type": "stream",
     "text": [
      "all ok\n",
      "big ok\n"
     ]
    }
   ],
   "source": [
    "for test in all_tests:\n",
    "    assert nx_max_flow(to_lines(test)) == ff_max_flow(to_lines(test))\n",
    "print('all ok')\n",
    "\n",
    "for test in big_tests:\n",
    "    assert nx_max_flow(to_lines(test)) == ff_max_flow(to_lines(test))\n",
    "print('big ok')"
   ]
  },
  {
   "cell_type": "code",
   "execution_count": 10,
   "metadata": {},
   "outputs": [
    {
     "name": "stdout",
     "output_type": "stream",
     "text": [
      "1.04 s ± 92.1 ms per loop (mean ± std. dev. of 7 runs, 1 loop each)\n",
      "236 ms ± 34.2 ms per loop (mean ± std. dev. of 7 runs, 10 loops each)\n",
      "104 ms ± 4.8 ms per loop (mean ± std. dev. of 7 runs, 10 loops each)\n",
      "20.9 ms ± 609 µs per loop (mean ± std. dev. of 7 runs, 10 loops each)\n"
     ]
    }
   ],
   "source": [
    "%timeit [nx_max_flow(to_lines(test)) for test in all_tests]\n",
    "%timeit [ff_max_flow(to_lines(test)) for test in all_tests]\n",
    "%timeit [nx_max_flow(to_lines(test)) for test in big_tests]\n",
    "%timeit [ff_max_flow(to_lines(test)) for test in big_tests]"
   ]
  },
  {
   "cell_type": "markdown",
   "metadata": {},
   "source": [
    "## Edmonds-Karp algorithm\n",
    "\n",
    "Просто для сравнения, модификация алгоритма Эдмондса-Корпа, в которой рёбра удаляются по мере исчерпания остаточной пропускной способности, ускорила работу алгоритма в среднем в два раза. Проверялось на тестовом наборе из 1000 случайных связных сетей размером до 100 вершин."
   ]
  },
  {
   "cell_type": "code",
   "execution_count": 11,
   "metadata": {},
   "outputs": [
    {
     "data": {
      "text/plain": [
       "3"
      ]
     },
     "execution_count": 11,
     "metadata": {},
     "output_type": "execute_result"
    }
   ],
   "source": [
    "import sys\n",
    "import math\n",
    "from collections import defaultdict, deque\n",
    "\n",
    "# алгоритм эдмондса-карпа поиска пропускной способности сети\n",
    "def ek_max_flow(input_lines):\n",
    "    # словарь словарей \"r\" хранит ненулевые остатки пропускной способности\n",
    "    # для каждого ребра из вершины \"a\" в вершину \"b\" в ячейке r[a][b]\n",
    "    # хранится остаток пропускной способности ребра. при увеличении потока\n",
    "    # через ребро остаток уменьшается. рёбра, в которых пропускная способность\n",
    "    # упала до нуля, удаляются аллгоритмом.\n",
    "    r = defaultdict(dict)\n",
    "    # номер начальной вершины всегда 0\n",
    "    next(input_lines)  # пропускаем строку с числом вершин (вычислим автоматически)\n",
    "    t = 0\n",
    "    for line in input_lines:\n",
    "        # a - вершина начала ребра, b - конец ребра, с - пропускная способность\n",
    "        a, b, c = map(int, line.split())\n",
    "        if a != b and c > 0:  # добавляем только рёбра с ненулевой пропускной способностью\n",
    "            r[a][b] = c\n",
    "        t = max(t, a, b)  # номер конечной вершины - наибольший среди найденных\n",
    "\n",
    "    f = 0  # накопленное значение потока в конечной вершине\n",
    "    while 1:\n",
    "        # поиском в щирину ищем кратчайший путь из начальной вершины в конечную\n",
    "        q = deque([0])  # очередь просмотра вершин сети\n",
    "        v = set([0])    # множество уже просмотренных вершин\n",
    "        p = {}   # накопленный путь в виде словаря: p[конец_ребра] -> начало_ребра\n",
    "        while q:\n",
    "            a = q.popleft()\n",
    "            if a == t:  # достигли конечной вершины?\n",
    "                break\n",
    "            for b in r[a]:  # пройдём в все рёбра, где осталась пропускная способность\n",
    "                if b not in v:  # ещё не просматривали?\n",
    "                    p[b] = a\n",
    "                    v.add(b)\n",
    "                    q.append(b)\n",
    "        else:         # \"else\": цикл закончился без break'a, то есть конца мы не достигли\n",
    "            return f  # значит, больше путей нет. возвращаем накопленную сумму потока\n",
    "\n",
    "        # найдём минимум остатка пропускной способности среди рёбер вдоль найденного пути\n",
    "        d = math.inf\n",
    "        b = t     # проходим путь от конечной вершины\n",
    "        while b:  # до начальной вершины с номером 0 (т.е. пока b>0)\n",
    "            a = p[b]\n",
    "            d = min(d, r[a][b])\n",
    "            b = a\n",
    "\n",
    "        # теперь модифицируем граф остатков\n",
    "        b = t    # повторно проходим путь от конца в начало\n",
    "        while b:\n",
    "            a = p[b]\n",
    "            r[a][b] -= d     # вычитаем найденный минимум из остатка пропускной способности\n",
    "            if not r[a][b]:  # удаляем рёбра, в которых пропускная способность исчерпана\n",
    "                del r[a][b]\n",
    "            if b == t:  # значение потока вычисляем по конечной вершине\n",
    "                f += d  # из остатка вычли, к потоку добавляем\n",
    "            b = a\n",
    "\n",
    "ek_max_flow(to_lines(test_input))\n",
    "#print(ek_max_flow(line for line in sys.stdin))"
   ]
  },
  {
   "cell_type": "code",
   "execution_count": 12,
   "metadata": {},
   "outputs": [
    {
     "name": "stdout",
     "output_type": "stream",
     "text": [
      "all ok\n",
      "big ok\n"
     ]
    }
   ],
   "source": [
    "for test in all_tests:\n",
    "    assert nx_max_flow(to_lines(test)) == ek_max_flow(to_lines(test))\n",
    "print('all ok')\n",
    "\n",
    "for test in big_tests:\n",
    "    assert nx_max_flow(to_lines(test)) == ek_max_flow(to_lines(test))\n",
    "print('big ok')"
   ]
  },
  {
   "cell_type": "code",
   "execution_count": 13,
   "metadata": {},
   "outputs": [
    {
     "name": "stdout",
     "output_type": "stream",
     "text": [
      "1.05 s ± 27.1 ms per loop (mean ± std. dev. of 7 runs, 5 loops each)\n",
      "138 ms ± 9.19 ms per loop (mean ± std. dev. of 7 runs, 5 loops each)\n",
      "105 ms ± 12.3 ms per loop (mean ± std. dev. of 7 runs, 5 loops each)\n",
      "12.3 ms ± 637 µs per loop (mean ± std. dev. of 7 runs, 5 loops each)\n"
     ]
    }
   ],
   "source": [
    "%timeit -n5 [nx_max_flow(to_lines(test)) for test in all_tests]\n",
    "%timeit -n5 [ek_max_flow(to_lines(test)) for test in all_tests]\n",
    "%timeit -n5 [nx_max_flow(to_lines(test)) for test in big_tests]\n",
    "%timeit -n5 [ek_max_flow(to_lines(test)) for test in big_tests]"
   ]
  },
  {
   "cell_type": "markdown",
   "metadata": {},
   "source": [
    "## Visualize networks"
   ]
  },
  {
   "cell_type": "code",
   "execution_count": 14,
   "metadata": {},
   "outputs": [
    {
     "data": {
      "image/png": "[encoded data removed]",
      "text/plain": [
       "<matplotlib.figure.Figure at 0x24af271e80>"
      ]
     },
     "metadata": {},
     "output_type": "display_data"
    }
   ],
   "source": [
    "g = random_network(10, as_graph=True)\n",
    "layout = nx.circular_layout(g)\n",
    "edge_labels = {(a,b): d['label'] for a,b,d in g.edges.data()}\n",
    "_ = nx.draw_networkx(g, pos=layout, node_color='lightgray', node_size=800)\n",
    "_ = nx.draw_networkx_edge_labels(g, pos=layout, edge_labels=edge_labels, label_pos=0.25)"
   ]
  },
  {
   "cell_type": "code",
   "execution_count": 15,
   "metadata": {},
   "outputs": [
    {
     "data": {
      "text/html": [
       "<?xml version=\"1.0\" encoding=\"UTF-8\" standalone=\"no\"?>\r\n",
       "<!DOCTYPE svg PUBLIC \"-//W3C//DTD SVG 1.1//EN\"\r\n",
       " \"http://www.w3.org/Graphics/SVG/1.1/DTD/svg11.dtd\">\r\n",
       "<!-- Generated by graphviz version 2.38.0 (20140413.2041)\r\n",
       " -->\r\n",
       "<!-- Title: %3 Pages: 1 -->\r\n",
       "<svg width=\"402pt\" height=\"424pt\"\r\n",
       " viewBox=\"0.00 0.00 401.64 423.88\" xmlns=\"http://www.w3.org/2000/svg\" xmlns:xlink=\"http://www.w3.org/1999/xlink\">\r\n",
       "<g id=\"graph0\" class=\"graph\" transform=\"scale(1 1) rotate(0) translate(4 419.875)\">\r\n",
       "<title>%3</title>\r\n",
       "<polygon fill=\"white\" stroke=\"none\" points=\"-4,4 -4,-419.875 397.642,-419.875 397.642,4 -4,4\"/>\r\n",
       "<!-- 6 -->\r\n",
       "<g id=\"node1\" class=\"node\"><title>6</title>\r\n",
       "<ellipse fill=\"none\" stroke=\"black\" cx=\"207.482\" cy=\"-103.737\" rx=\"27\" ry=\"18\"/>\r\n",
       "<text text-anchor=\"middle\" x=\"207.482\" y=\"-100.037\" font-family=\"Times New Roman,serif\" font-size=\"14.00\">6</text>\r\n",
       "</g>\r\n",
       "<!-- 4 -->\r\n",
       "<g id=\"node2\" class=\"node\"><title>4</title>\r\n",
       "<ellipse fill=\"none\" stroke=\"black\" cx=\"87.1606\" cy=\"-103.737\" rx=\"27\" ry=\"18\"/>\r\n",
       "<text text-anchor=\"middle\" x=\"87.1606\" y=\"-100.037\" font-family=\"Times New Roman,serif\" font-size=\"14.00\">4</text>\r\n",
       "</g>\r\n",
       "<!-- 6&#45;&gt;4 -->\r\n",
       "<g id=\"edge1\" class=\"edge\"><title>6&#45;&gt;4</title>\r\n",
       "<path fill=\"none\" stroke=\"black\" d=\"M181.67,-98.0792C164.541,-96.8491 141.825,-96.6576 122.956,-97.5048\"/>\r\n",
       "<polygon fill=\"black\" stroke=\"black\" points=\"122.712,-94.0129 112.93,-98.0823 123.115,-101.001 122.712,-94.0129\"/>\r\n",
       "<text text-anchor=\"middle\" x=\"145.313\" y=\"-86.592\" font-family=\"Times New Roman,serif\" font-size=\"14.00\">17</text>\r\n",
       "</g>\r\n",
       "<!-- 9 -->\r\n",
       "<g id=\"node3\" class=\"node\"><title>9</title>\r\n",
       "<ellipse fill=\"none\" stroke=\"black\" cx=\"256.982\" cy=\"-18\" rx=\"27\" ry=\"18\"/>\r\n",
       "<text text-anchor=\"middle\" x=\"256.982\" y=\"-14.3\" font-family=\"Times New Roman,serif\" font-size=\"14.00\">9</text>\r\n",
       "</g>\r\n",
       "<!-- 6&#45;&gt;9 -->\r\n",
       "<g id=\"edge2\" class=\"edge\"><title>6&#45;&gt;9</title>\r\n",
       "<path fill=\"none\" stroke=\"black\" d=\"M217.261,-86.7977C224.38,-74.4678 234.145,-57.5537 242.212,-43.5822\"/>\r\n",
       "<polygon fill=\"black\" stroke=\"black\" points=\"245.253,-45.3139 247.222,-34.9036 239.191,-41.8138 245.253,-45.3139\"/>\r\n",
       "<text text-anchor=\"middle\" x=\"226.237\" y=\"-68.99\" font-family=\"Times New Roman,serif\" font-size=\"14.00\">9</text>\r\n",
       "</g>\r\n",
       "<!-- 4&#45;&gt;6 -->\r\n",
       "<g id=\"edge3\" class=\"edge\"><title>4&#45;&gt;6</title>\r\n",
       "<path fill=\"none\" stroke=\"black\" d=\"M112.972,-109.394C130.102,-110.624 152.817,-110.815 171.686,-109.968\"/>\r\n",
       "<polygon fill=\"black\" stroke=\"black\" points=\"171.93,-113.46 181.712,-109.391 171.528,-106.472 171.93,-113.46\"/>\r\n",
       "<text text-anchor=\"middle\" x=\"138.829\" y=\"-113.481\" font-family=\"Times New Roman,serif\" font-size=\"14.00\">7</text>\r\n",
       "</g>\r\n",
       "<!-- 2 -->\r\n",
       "<g id=\"node4\" class=\"node\"><title>2</title>\r\n",
       "<ellipse fill=\"none\" stroke=\"black\" cx=\"267.642\" cy=\"-207.938\" rx=\"27\" ry=\"18\"/>\r\n",
       "<text text-anchor=\"middle\" x=\"267.642\" y=\"-204.238\" font-family=\"Times New Roman,serif\" font-size=\"14.00\">2</text>\r\n",
       "</g>\r\n",
       "<!-- 2&#45;&gt;6 -->\r\n",
       "<g id=\"edge4\" class=\"edge\"><title>2&#45;&gt;6</title>\r\n",
       "<path fill=\"none\" stroke=\"black\" d=\"M257.708,-190.731C248.071,-174.04 233.329,-148.506 222.306,-129.412\"/>\r\n",
       "<polygon fill=\"black\" stroke=\"black\" points=\"225.262,-127.533 217.231,-120.623 219.2,-131.033 225.262,-127.533\"/>\r\n",
       "<text text-anchor=\"middle\" x=\"236.507\" y=\"-163.872\" font-family=\"Times New Roman,serif\" font-size=\"14.00\">6</text>\r\n",
       "</g>\r\n",
       "<!-- 3 -->\r\n",
       "<g id=\"node7\" class=\"node\"><title>3</title>\r\n",
       "<ellipse fill=\"none\" stroke=\"black\" cx=\"207.482\" cy=\"-312.139\" rx=\"27\" ry=\"18\"/>\r\n",
       "<text text-anchor=\"middle\" x=\"207.482\" y=\"-308.439\" font-family=\"Times New Roman,serif\" font-size=\"14.00\">3</text>\r\n",
       "</g>\r\n",
       "<!-- 2&#45;&gt;3 -->\r\n",
       "<g id=\"edge5\" class=\"edge\"><title>2&#45;&gt;3</title>\r\n",
       "<path fill=\"none\" stroke=\"black\" d=\"M257.708,-225.144C248.071,-241.836 233.329,-267.369 222.306,-286.463\"/>\r\n",
       "<polygon fill=\"black\" stroke=\"black\" points=\"219.2,-284.842 217.231,-295.252 225.262,-288.342 219.2,-284.842\"/>\r\n",
       "<text text-anchor=\"middle\" x=\"233.007\" y=\"-259.604\" font-family=\"Times New Roman,serif\" font-size=\"14.00\">12</text>\r\n",
       "</g>\r\n",
       "<!-- 5 -->\r\n",
       "<g id=\"node10\" class=\"node\"><title>5</title>\r\n",
       "<ellipse fill=\"none\" stroke=\"black\" cx=\"366.642\" cy=\"-207.938\" rx=\"27\" ry=\"18\"/>\r\n",
       "<text text-anchor=\"middle\" x=\"366.642\" y=\"-204.238\" font-family=\"Times New Roman,serif\" font-size=\"14.00\">5</text>\r\n",
       "</g>\r\n",
       "<!-- 2&#45;&gt;5 -->\r\n",
       "<g id=\"edge6\" class=\"edge\"><title>2&#45;&gt;5</title>\r\n",
       "<path fill=\"none\" stroke=\"black\" d=\"M294.694,-207.938C305.39,-207.938 317.858,-207.938 329.383,-207.938\"/>\r\n",
       "<polygon fill=\"black\" stroke=\"black\" points=\"329.623,-211.438 339.623,-207.938 329.623,-204.438 329.623,-211.438\"/>\r\n",
       "<text text-anchor=\"middle\" x=\"305.039\" y=\"-211.738\" font-family=\"Times New Roman,serif\" font-size=\"14.00\">16</text>\r\n",
       "</g>\r\n",
       "<!-- 7 -->\r\n",
       "<g id=\"node5\" class=\"node\"><title>7</title>\r\n",
       "<ellipse fill=\"none\" stroke=\"black\" cx=\"256.982\" cy=\"-397.875\" rx=\"27\" ry=\"18\"/>\r\n",
       "<text text-anchor=\"middle\" x=\"256.982\" y=\"-394.175\" font-family=\"Times New Roman,serif\" font-size=\"14.00\">7</text>\r\n",
       "</g>\r\n",
       "<!-- 7&#45;&gt;3 -->\r\n",
       "<g id=\"edge7\" class=\"edge\"><title>7&#45;&gt;3</title>\r\n",
       "<path fill=\"none\" stroke=\"black\" d=\"M252.736,-379.889C247.042,-367.056 237.422,-349.732 228.424,-335.792\"/>\r\n",
       "<polygon fill=\"black\" stroke=\"black\" points=\"231.132,-333.547 222.648,-327.201 225.323,-337.453 231.132,-333.547\"/>\r\n",
       "<text text-anchor=\"middle\" x=\"237.08\" y=\"-361.641\" font-family=\"Times New Roman,serif\" font-size=\"14.00\">3</text>\r\n",
       "</g>\r\n",
       "<!-- 0 -->\r\n",
       "<g id=\"node6\" class=\"node\"><title>0</title>\r\n",
       "<ellipse fill=\"none\" stroke=\"black\" cx=\"37.6606\" cy=\"-18\" rx=\"27\" ry=\"18\"/>\r\n",
       "<text text-anchor=\"middle\" x=\"37.6606\" y=\"-14.3\" font-family=\"Times New Roman,serif\" font-size=\"14.00\">0</text>\r\n",
       "</g>\r\n",
       "<!-- 0&#45;&gt;4 -->\r\n",
       "<g id=\"edge8\" class=\"edge\"><title>0&#45;&gt;4</title>\r\n",
       "<path fill=\"none\" stroke=\"black\" d=\"M47.4402,-34.9388C54.5589,-47.2687 64.3242,-64.1828 72.3907,-78.1543\"/>\r\n",
       "<polygon fill=\"black\" stroke=\"black\" points=\"69.3701,-79.9227 77.4013,-86.8329 75.4323,-76.4226 69.3701,-79.9227\"/>\r\n",
       "<text text-anchor=\"middle\" x=\"52.9154\" y=\"-60.3466\" font-family=\"Times New Roman,serif\" font-size=\"14.00\">20</text>\r\n",
       "</g>\r\n",
       "<!-- 3&#45;&gt;7 -->\r\n",
       "<g id=\"edge11\" class=\"edge\"><title>3&#45;&gt;7</title>\r\n",
       "<path fill=\"none\" stroke=\"black\" d=\"M211.728,-330.125C217.421,-342.958 227.041,-360.282 236.039,-374.222\"/>\r\n",
       "<polygon fill=\"black\" stroke=\"black\" points=\"233.331,-376.467 241.816,-382.813 239.14,-372.561 233.331,-376.467\"/>\r\n",
       "<text text-anchor=\"middle\" x=\"216.884\" y=\"-355.974\" font-family=\"Times New Roman,serif\" font-size=\"14.00\">17</text>\r\n",
       "</g>\r\n",
       "<!-- 8 -->\r\n",
       "<g id=\"node8\" class=\"node\"><title>8</title>\r\n",
       "<ellipse fill=\"none\" stroke=\"black\" cx=\"27\" cy=\"-207.938\" rx=\"27\" ry=\"18\"/>\r\n",
       "<text text-anchor=\"middle\" x=\"27\" y=\"-204.238\" font-family=\"Times New Roman,serif\" font-size=\"14.00\">8</text>\r\n",
       "</g>\r\n",
       "<!-- 3&#45;&gt;8 -->\r\n",
       "<g id=\"edge10\" class=\"edge\"><title>3&#45;&gt;8</title>\r\n",
       "<path fill=\"none\" stroke=\"black\" d=\"M186.778,-300.186C154.684,-281.656 92.8139,-245.935 56.1946,-224.793\"/>\r\n",
       "<polygon fill=\"black\" stroke=\"black\" points=\"57.8724,-221.72 47.4621,-219.751 54.3723,-227.783 57.8724,-221.72\"/>\r\n",
       "<text text-anchor=\"middle\" x=\"114.486\" y=\"-266.289\" font-family=\"Times New Roman,serif\" font-size=\"14.00\">15</text>\r\n",
       "</g>\r\n",
       "<!-- 1 -->\r\n",
       "<g id=\"node9\" class=\"node\"><title>1</title>\r\n",
       "<ellipse fill=\"none\" stroke=\"black\" cx=\"87.1606\" cy=\"-312.139\" rx=\"27\" ry=\"18\"/>\r\n",
       "<text text-anchor=\"middle\" x=\"87.1606\" y=\"-308.439\" font-family=\"Times New Roman,serif\" font-size=\"14.00\">1</text>\r\n",
       "</g>\r\n",
       "<!-- 3&#45;&gt;1 -->\r\n",
       "<g id=\"edge9\" class=\"edge\"><title>3&#45;&gt;1</title>\r\n",
       "<path fill=\"none\" stroke=\"black\" d=\"M180.479,-312.139C164.03,-312.139 142.772,-312.139 124.7,-312.139\"/>\r\n",
       "<polygon fill=\"black\" stroke=\"black\" points=\"124.489,-308.639 114.489,-312.139 124.489,-315.639 124.489,-308.639\"/>\r\n",
       "<text text-anchor=\"middle\" x=\"145.59\" y=\"-315.939\" font-family=\"Times New Roman,serif\" font-size=\"14.00\">20</text>\r\n",
       "</g>\r\n",
       "<!-- 8&#45;&gt;6 -->\r\n",
       "<g id=\"edge12\" class=\"edge\"><title>8&#45;&gt;6</title>\r\n",
       "<path fill=\"none\" stroke=\"black\" d=\"M47.7035,-195.984C79.798,-177.455 141.668,-141.734 178.287,-120.592\"/>\r\n",
       "<polygon fill=\"black\" stroke=\"black\" points=\"180.109,-123.581 187.02,-115.55 176.609,-117.519 180.109,-123.581\"/>\r\n",
       "<text text-anchor=\"middle\" x=\"109.495\" y=\"-162.088\" font-family=\"Times New Roman,serif\" font-size=\"14.00\">5</text>\r\n",
       "</g>\r\n",
       "<!-- 8&#45;&gt;4 -->\r\n",
       "<g id=\"edge13\" class=\"edge\"><title>8&#45;&gt;4</title>\r\n",
       "<path fill=\"none\" stroke=\"black\" d=\"M36.9343,-190.731C46.5709,-174.04 61.3129,-148.506 72.3368,-129.412\"/>\r\n",
       "<polygon fill=\"black\" stroke=\"black\" points=\"75.4422,-131.033 77.4111,-120.623 69.38,-127.533 75.4422,-131.033\"/>\r\n",
       "<text text-anchor=\"middle\" x=\"47.6355\" y=\"-163.872\" font-family=\"Times New Roman,serif\" font-size=\"14.00\">11</text>\r\n",
       "</g>\r\n",
       "<!-- 1&#45;&gt;8 -->\r\n",
       "<g id=\"edge14\" class=\"edge\"><title>1&#45;&gt;8</title>\r\n",
       "<path fill=\"none\" stroke=\"black\" d=\"M77.2263,-294.932C67.5896,-278.241 52.8477,-252.707 41.8238,-233.613\"/>\r\n",
       "<polygon fill=\"black\" stroke=\"black\" points=\"44.7806,-231.734 36.7494,-224.824 38.7184,-235.234 44.7806,-231.734\"/>\r\n",
       "<text text-anchor=\"middle\" x=\"52.525\" y=\"-268.073\" font-family=\"Times New Roman,serif\" font-size=\"14.00\">11</text>\r\n",
       "</g>\r\n",
       "</g>\r\n",
       "</svg>\r\n"
      ],
      "text/plain": [
       "<IPython.core.display.HTML object>"
      ]
     },
     "execution_count": 15,
     "metadata": {},
     "output_type": "execute_result"
    }
   ],
   "source": [
    "pydot_image(g, 'circo')"
   ]
  }
 ],
 "metadata": {
  "kernelspec": {
   "display_name": "Python [conda root]",
   "language": "python",
   "name": "conda-root-py"
  },
  "language_info": {
   "codemirror_mode": {
    "name": "ipython",
    "version": 3
   },
   "file_extension": ".py",
   "mimetype": "text/x-python",
   "name": "python",
   "nbconvert_exporter": "python",
   "pygments_lexer": "ipython3",
   "version": "3.6.3"
  }
 },
 "nbformat": 4,
 "nbformat_minor": 2
}
