{
 "cells": [
  {
   "cell_type": "code",
   "execution_count": 137,
   "metadata": {
    "collapsed": true
   },
   "outputs": [],
   "source": [
    "%reset -sf"
   ]
  },
  {
   "cell_type": "code",
   "execution_count": 138,
   "metadata": {
    "collapsed": true
   },
   "outputs": [],
   "source": [
    "# метод 0 - используем networkx для подсчета компонент\n",
    "import networkx as nx\n",
    "def method0(nv, edges):\n",
    "    g = nx.Graph()\n",
    "    g.add_nodes_from(range(nv))\n",
    "    g.add_edges_from(edges)\n",
    "    verts = [list(adj.keys()) for node, adj in g.adjacency()]\n",
    "    nc = len(list(nx.connected_components(g)))\n",
    "    return nc, verts"
   ]
  },
  {
   "cell_type": "code",
   "execution_count": 203,
   "metadata": {},
   "outputs": [],
   "source": [
    "# метод 1 - вызываем тестируемую программу\n",
    "def method1(nv, edges):\n",
    "    rdata = [(nv, len(edges))] + [(a+1,b+1) for a,b in edges]\n",
    "    sdata = '\\n'.join('%s %s' % (a,b) for a, b in rdata) + '\\n'\n",
    "    pname = 'count-comps.py'\n",
    "    from sys import executable\n",
    "    from subprocess import run, STDOUT, PIPE\n",
    "    res = run([executable, pname], stderr=STDOUT, stdout=PIPE, input=bytes(sdata,'utf8'))\n",
    "    nc = int(res.stdout.strip().split()[0])\n",
    "    return nc, str(res.stdout, 'utf8')"
   ]
  },
  {
   "cell_type": "code",
   "execution_count": 204,
   "metadata": {},
   "outputs": [],
   "source": [
    "# метод 2 - dfs()\n",
    "def method2(nv, edges):\n",
    "    verts = [[] for _ in range(nv)]\n",
    "    for a, b in edges:\n",
    "        verts[a].append(b)\n",
    "        verts[b].append(a)\n",
    "\n",
    "    visited = [False] * nv\n",
    "    nc = 0\n",
    "        \n",
    "    def dfs(v):\n",
    "        visited[v] = True\n",
    "        for w in verts[v]:\n",
    "            if not visited[w]:\n",
    "                dfs(w)\n",
    "\n",
    "    for i in range(len(visited)):\n",
    "        if not visited[i]:\n",
    "            nc += 1\n",
    "            dfs(i)\n",
    "    return nc, verts"
   ]
  },
  {
   "cell_type": "code",
   "execution_count": 205,
   "metadata": {
    "collapsed": true
   },
   "outputs": [],
   "source": [
    "sdata1 = '''4 2\n",
    "1 2\n",
    "3 2\n",
    "'''\n",
    "sdata2 = '''4 3\n",
    "1 2\n",
    "3 2\n",
    "4 3\n",
    "'''\n",
    "\n",
    "sdata3 = '''6 0\n",
    "6 6\n",
    "1 1\n",
    "2 2\n",
    "3 3\n",
    "4 4\n",
    "5 1\n",
    "1 5\n",
    "3 2\n",
    "4 3\n",
    "2 1\n",
    "'''\n",
    "\n",
    "sdata4 = '''0 0\n",
    "1 1\n",
    "1 1\n",
    "1 1\n",
    "1 1\n",
    "'''"
   ]
  },
  {
   "cell_type": "code",
   "execution_count": 206,
   "metadata": {},
   "outputs": [
    {
     "name": "stdout",
     "output_type": "stream",
     "text": [
      "ok\n"
     ]
    }
   ],
   "source": [
    "# проверка на небольшом наборе тестовых данных\n",
    "for case, sdata in enumerate([sdata1, sdata2, sdata3, sdata4]):\n",
    "    rdata = [[int(x) for x in s.split()] for s in sdata.splitlines()]\n",
    "    nv, ne = rdata[0]\n",
    "    edges = rdata[1:]\n",
    "\n",
    "    ne = len(edges)\n",
    "    if edges and nv <= 0:\n",
    "        nv = max([max(a,b) for a,b in edges])\n",
    "    assert(all([1<=a<=nv and 1<=b<=nv for a,b in edges]))\n",
    "    edges = [(a-1, b-1) for a,b in edges]\n",
    "\n",
    "    nc0, _ = method0(nv, edges)\n",
    "    nc1, _ = method1(nv, edges)\n",
    "    assert nc1 == nc0\n",
    "    nc2, _ = method2(nv, edges)\n",
    "    assert nc2 == nc0\n",
    "print('ok')"
   ]
  },
  {
   "cell_type": "code",
   "execution_count": 209,
   "metadata": {},
   "outputs": [],
   "source": [
    "# проверка на большом массиве случайных графов\n",
    "import networkx as nx\n",
    "from random import randint\n",
    "max_nodes = 100\n",
    "max_graphs = 1000\n",
    "sub_program = 0\n",
    "rand_graphs = [nx.gnm_random_graph(randint(1,max_nodes),randint(1,max_nodes))\n",
    "               for _ in range(max_graphs)]"
   ]
  },
  {
   "cell_type": "code",
   "execution_count": 210,
   "metadata": {},
   "outputs": [
    {
     "name": "stdout",
     "output_type": "stream",
     "text": [
      "ok\n"
     ]
    }
   ],
   "source": [
    "for case, g in enumerate(rand_graphs):\n",
    "    nv = len(g.nodes)\n",
    "    edges = list(g.edges)\n",
    "    nc0, verts0 = method0(nv, edges)\n",
    "    if sub_program:\n",
    "        nc1, verts1 = method1(nv, edges)\n",
    "        assert nc1 == nc0\n",
    "    nc2, verts2 = method2(nv, edges)\n",
    "    assert nc2 == nc0\n",
    "print('ok')"
   ]
  },
  {
   "cell_type": "code",
   "execution_count": null,
   "metadata": {
    "collapsed": true
   },
   "outputs": [],
   "source": []
  }
 ],
 "metadata": {
  "kernelspec": {
   "display_name": "Python 3",
   "language": "python",
   "name": "python3"
  },
  "language_info": {
   "codemirror_mode": {
    "name": "ipython",
    "version": 3
   },
   "file_extension": ".py",
   "mimetype": "text/x-python",
   "name": "python",
   "nbconvert_exporter": "python",
   "pygments_lexer": "ipython3",
   "version": "3.6.3"
  }
 },
 "nbformat": 4,
 "nbformat_minor": 2
}
