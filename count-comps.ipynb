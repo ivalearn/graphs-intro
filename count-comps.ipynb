{
 "cells": [
  {
   "cell_type": "code",
   "execution_count": 1,
   "metadata": {
    "collapsed": true
   },
   "outputs": [],
   "source": [
    "import networkx as nx\n",
    "import numpy as np\n",
    "from numba.decorators import jit\n",
    "from random import randint"
   ]
  },
  {
   "cell_type": "code",
   "execution_count": 2,
   "metadata": {
    "collapsed": true
   },
   "outputs": [],
   "source": [
    "# метод 0 - используем networkx для подсчета компонент\n",
    "def method0(nv, edges):\n",
    "    g = nx.Graph()\n",
    "    g.add_nodes_from(range(nv))\n",
    "    g.add_edges_from(edges)\n",
    "    return nx.number_connected_components(g)"
   ]
  },
  {
   "cell_type": "code",
   "execution_count": 3,
   "metadata": {
    "collapsed": true
   },
   "outputs": [],
   "source": [
    "# метод 1 - вызываем тестируемую программу\n",
    "def method1(nv, edges):\n",
    "    rdata = [(nv, len(edges))] + [(a+1,b+1) for a,b in edges]\n",
    "    sdata = '\\n'.join('%s %s' % (a,b) for a, b in rdata) + '\\n'\n",
    "    pname = 'count-comps.py'\n",
    "    from sys import executable\n",
    "    from subprocess import run, STDOUT, PIPE\n",
    "    res = run([executable, pname], stderr=STDOUT, stdout=PIPE, input=bytes(sdata,'utf8'))\n",
    "    nc = int(res.stdout.strip().split()[0])\n",
    "    return nc"
   ]
  },
  {
   "cell_type": "code",
   "execution_count": 4,
   "metadata": {
    "collapsed": true
   },
   "outputs": [],
   "source": [
    "# метод 2 - recursion and lists\n",
    "def method2(nv, edges):\n",
    "    verts = [[] for _ in range(nv)]\n",
    "    for a, b in edges:\n",
    "        verts[a].append(b)\n",
    "        verts[b].append(a)\n",
    "\n",
    "    visited = [False] * nv\n",
    "    nc = 0\n",
    "        \n",
    "    def dfs(v):\n",
    "        visited[v] = True\n",
    "        for w in verts[v]:\n",
    "            if not visited[w]:\n",
    "                dfs(w)\n",
    "\n",
    "    for i in range(nv):\n",
    "        if not visited[i]:\n",
    "            nc += 1\n",
    "            dfs(i)\n",
    "    \n",
    "    return nc"
   ]
  },
  {
   "cell_type": "code",
   "execution_count": 5,
   "metadata": {
    "collapsed": true
   },
   "outputs": [],
   "source": [
    "# method3 - without recursion, using sets\n",
    "def method3(nv, edges):\n",
    "    adj = [set() for _ in range(nv)]\n",
    "    for a, b in edges:\n",
    "        adj[a].add(b)\n",
    "        adj[b].add(a)\n",
    "\n",
    "    visited = [False] * nv\n",
    "    nc = 0\n",
    "\n",
    "    for i in range(nv):\n",
    "        if visited[i]:\n",
    "            continue\n",
    "        nc += 1\n",
    "        visited[i] = True\n",
    "        stack = [i]\n",
    "        while stack:\n",
    "            v = stack.pop()\n",
    "            for w in adj[v]:\n",
    "                if not visited[w]:\n",
    "                    visited[w] = True\n",
    "                    stack.append(w)\n",
    "\n",
    "    return nc"
   ]
  },
  {
   "cell_type": "code",
   "execution_count": 6,
   "metadata": {},
   "outputs": [
    {
     "name": "stdout",
     "output_type": "stream",
     "text": [
      "ok\n"
     ]
    }
   ],
   "source": [
    "# method4 - using numpy\n",
    "@jit\n",
    "def method4(nv, edges):\n",
    "    adj = np.zeros([nv,nv], dtype=np.bool8)\n",
    "    for a, b in edges:\n",
    "        adj[a,b] = adj[b,a] = True\n",
    "\n",
    "    visited = np.zeros([nv], dtype=np.bool8)\n",
    "    stack = np.zeros([nv], dtype=np.int32)\n",
    "    nc = 0\n",
    "\n",
    "    for i in range(nv):\n",
    "        if visited[i]:\n",
    "            continue\n",
    "        nc += 1\n",
    "        visited[i] = True\n",
    "        ns = 0\n",
    "        v = i\n",
    "        while True:\n",
    "            for w in range(nv):\n",
    "                if adj[v,w] and not visited[w]:\n",
    "                    visited[w] = True\n",
    "                    stack[ns] = w\n",
    "                    ns += 1\n",
    "            if not ns:\n",
    "                break\n",
    "            ns -= 1\n",
    "            v = stack[ns]\n",
    "\n",
    "    return nc\n",
    "\n",
    "# pre-compile:\n",
    "_ = method4(5, [(i,i) for i in range(5)])\n",
    "print('ok')"
   ]
  },
  {
   "cell_type": "code",
   "execution_count": 7,
   "metadata": {
    "collapsed": true
   },
   "outputs": [],
   "source": [
    "sdata1 = '''4 2\n",
    "1 2\n",
    "3 2\n",
    "'''\n",
    "sdata2 = '''4 3\n",
    "1 2\n",
    "3 2\n",
    "4 3\n",
    "'''\n",
    "\n",
    "sdata3 = '''6 0\n",
    "6 6\n",
    "1 1\n",
    "2 2\n",
    "3 3\n",
    "4 4\n",
    "5 1\n",
    "1 5\n",
    "3 2\n",
    "4 3\n",
    "2 1\n",
    "'''\n",
    "\n",
    "sdata4 = '''0 0\n",
    "1 1\n",
    "1 1\n",
    "1 1\n",
    "1 1\n",
    "'''"
   ]
  },
  {
   "cell_type": "code",
   "execution_count": 8,
   "metadata": {},
   "outputs": [
    {
     "name": "stdout",
     "output_type": "stream",
     "text": [
      "ok\n"
     ]
    }
   ],
   "source": [
    "# проверка на небольшом наборе тестовых данных\n",
    "for case, sdata in enumerate([sdata1, sdata2, sdata3, sdata4]):\n",
    "    rdata = [[int(x) for x in s.split()] for s in sdata.splitlines()]\n",
    "    nv, ne = rdata[0]\n",
    "    edges = rdata[1:]\n",
    "\n",
    "    ne = len(edges)\n",
    "    if edges and nv <= 0:\n",
    "        nv = max([max(a,b) for a,b in edges])\n",
    "    assert(all([1<=a<=nv and 1<=b<=nv for a,b in edges]))\n",
    "    edges = [(a-1, b-1) for a,b in edges]\n",
    "\n",
    "    nc0 = method0(nv, edges)\n",
    "\n",
    "    nc = method1(nv, edges)\n",
    "    assert nc == nc0\n",
    "\n",
    "    nc = method2(nv, edges)\n",
    "    assert nc == nc0\n",
    "\n",
    "    nc = method3(nv, edges)\n",
    "    assert nc == nc0\n",
    "\n",
    "    nc = method4(nv, edges)\n",
    "    assert nc == nc0\n",
    "\n",
    "print('ok')"
   ]
  },
  {
   "cell_type": "code",
   "execution_count": 9,
   "metadata": {
    "collapsed": true
   },
   "outputs": [],
   "source": [
    "# проверка на большом массиве случайных графов\n",
    "max_nodes = 100\n",
    "max_graphs = 10000\n",
    "\n",
    "_rand_graphs = (nx.gnm_random_graph(randint(1,max_nodes), randint(1,max_nodes))\n",
    "                for _ in range(max_graphs))\n",
    "_all_args = ((len(g.nodes), list(g.edges)) for g in _rand_graphs)\n",
    "all_tests = [(args, method0(*args)) for args in _all_args]"
   ]
  },
  {
   "cell_type": "code",
   "execution_count": 76,
   "metadata": {},
   "outputs": [
    {
     "name": "stdout",
     "output_type": "stream",
     "text": [
      "2.05 s ± 0 ns per loop (mean ± std. dev. of 1 run, 1 loop each)\n",
      "ok1\n",
      "1.61 s ± 0 ns per loop (mean ± std. dev. of 1 run, 1 loop each)\n",
      "ok2\n",
      "2.23 s ± 0 ns per loop (mean ± std. dev. of 1 run, 1 loop each)\n",
      "ok3\n",
      "1.03 s ± 0 ns per loop (mean ± std. dev. of 1 run, 1 loop each)\n",
      "ok4\n"
     ]
    }
   ],
   "source": [
    "%timeit -n1 -r1 assert all(method1(*args) == ret for args, ret in all_tests[:10])\n",
    "print('ok1')\n",
    "\n",
    "%timeit -n1 -r1 assert all(method2(*args) == ret for args, ret in all_tests)\n",
    "print('ok2')\n",
    "\n",
    "%timeit -n1 -r1 assert all(method3(*args) == ret for args, ret in all_tests)\n",
    "print('ok3')\n",
    "\n",
    "%timeit -n1 -r1 assert all(method4(*args) == ret for args, ret in all_tests)\n",
    "print('ok4')"
   ]
  },
  {
   "cell_type": "code",
   "execution_count": null,
   "metadata": {
    "collapsed": true
   },
   "outputs": [],
   "source": []
  }
 ],
 "metadata": {
  "kernelspec": {
   "display_name": "Python 3",
   "language": "python",
   "name": "python3"
  },
  "language_info": {
   "codemirror_mode": {
    "name": "ipython",
    "version": 3
   },
   "file_extension": ".py",
   "mimetype": "text/x-python",
   "name": "python",
   "nbconvert_exporter": "python",
   "pygments_lexer": "ipython3",
   "version": "3.6.3"
  }
 },
 "nbformat": 4,
 "nbformat_minor": 2
}
