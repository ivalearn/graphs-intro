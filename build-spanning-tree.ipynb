{
 "cells": [
  {
   "cell_type": "code",
   "execution_count": 1,
   "metadata": {
    "collapsed": true
   },
   "outputs": [],
   "source": [
    "%matplotlib inline\n",
    "import matplotlib.pyplot as plt\n",
    "import networkx as nx\n",
    "import numpy as np\n",
    "from numba.decorators import jit\n",
    "from random import randint\n",
    "import itertools"
   ]
  },
  {
   "cell_type": "code",
   "execution_count": 13,
   "metadata": {
    "collapsed": true
   },
   "outputs": [],
   "source": [
    "def get_undirected_edges(g):\n",
    "    return tuple(sorted(tuple(sorted(e)) for e in g.edges))\n",
    "\n",
    "def has_cycles(g):\n",
    "    try:\n",
    "        c = nx.algorithms.cycles.find_cycle(g)\n",
    "        return len(c) > 0\n",
    "    except nx.NetworkXNoCycle:\n",
    "        return False\n",
    "\n",
    "def edges_not_from(t, g):\n",
    "    t_edges = set(get_undirected_edges(t))\n",
    "    g_edges = set(get_undirected_edges(g))\n",
    "    return sorted(t_edges - g_edges)\n",
    "\n",
    "def assert_is_spanning_tree_of(t, g):\n",
    "    assert nx.is_connected(g)\n",
    "    #assert has_cycles(g)\n",
    "    assert t.nodes == g.nodes\n",
    "    assert nx.is_connected(t)\n",
    "    assert not has_cycles(t)\n",
    "    assert not edges_not_from(t, g)\n",
    "\n",
    "def is_spanning_tree_of(t, g):\n",
    "    try:\n",
    "        assert_is_spanning_tree_of(t, g)\n",
    "        return True\n",
    "    except AssertionError:\n",
    "        return False"
   ]
  },
  {
   "cell_type": "code",
   "execution_count": 14,
   "metadata": {
    "collapsed": true
   },
   "outputs": [],
   "source": [
    "def make_random_graph(num_nodes, edge_prob=0.25, connected=False, cyclic=False):\n",
    "    while True:\n",
    "        g = nx.generators.random_graphs.fast_gnp_random_graph(num_nodes, edge_prob)\n",
    "        if connected and not nx.is_connected(g):\n",
    "            continue\n",
    "        if cyclic and not has_cycles(g):\n",
    "            continue\n",
    "        return g"
   ]
  },
  {
   "cell_type": "markdown",
   "metadata": {},
   "source": [
    "## Find a spanning tree\n",
    "\n",
    "алгоритм поиска (в глубину) остовного дерева для простого связного графа:\n",
    "1. красим все вершины (N штук) и рёбра синим\n",
    "2. начинаем с произвольной вершины\n",
    "3. красим текущую вершину красным\n",
    "4. ищем смежные синие вершины, соединённые с текущей через синие рёбра\n",
    "5. если есть, красим ребро красным и рекурсивно перемещаемся в такую\n",
    "6. продолжаем, пока остались синие вершины\n",
    "7. по окончании синие рёбра отбрасываем (это рёбра циклов);\n",
    "   красные вершины (N штук) и рёбра (N-1 штук) - это остовный граф"
   ]
  },
  {
   "cell_type": "code",
   "execution_count": 91,
   "metadata": {
    "collapsed": true
   },
   "outputs": [],
   "source": [
    "def make_spanning_tree_stack(G, root=0):\n",
    "    adj = [list(x.keys()) for x in G.adj.values()]\n",
    "    verts = set([root])\n",
    "    edges = set()\n",
    "    stack = [root]\n",
    "    while stack:\n",
    "        v = stack.pop()\n",
    "        for w in adj[v]:\n",
    "            e = (v,w) if v < w else (w,v)\n",
    "            if w in verts or e in edges:\n",
    "                continue\n",
    "            edges.add(e)\n",
    "            verts.add(w)\n",
    "            stack.append(w)\n",
    "    return nx.from_edgelist(edges)\n",
    "\n",
    "def make_spanning_tree_recursive(G, root=0):\n",
    "    adj = [list(x.keys()) for x in G.adj.values()]\n",
    "    verts = set()\n",
    "    edges = set()\n",
    "    def dfs(v):\n",
    "        verts.add(v)\n",
    "        for w in adj[v]:\n",
    "            e = (v,w) if v < w else (w,v)\n",
    "            if w in verts or e in edges:\n",
    "                continue\n",
    "            edges.add(e)\n",
    "            dfs(w)\n",
    "    dfs(root)\n",
    "    return nx.from_edgelist(edges)"
   ]
  },
  {
   "cell_type": "code",
   "execution_count": 92,
   "metadata": {},
   "outputs": [],
   "source": [
    "# test on many random samples\n",
    "num_test = 1000\n",
    "max_size = 10\n",
    "for i in range(num_test):\n",
    "    RG = make_random_graph(randint(3, max_size), connected=True, cyclic=True)\n",
    "    STn = make_spanning_tree_stack(RG)\n",
    "    STr = make_spanning_tree_recursive(RG)\n",
    "    assert_is_spanning_tree_of(STn, RG)\n",
    "    assert_is_spanning_tree_of(STr, RG)"
   ]
  },
  {
   "cell_type": "markdown",
   "metadata": {},
   "source": [
    "## Some visual example"
   ]
  },
  {
   "cell_type": "code",
   "execution_count": 93,
   "metadata": {},
   "outputs": [
    {
     "data": {
      "text/plain": [
       "(True, True)"
      ]
     },
     "execution_count": 93,
     "metadata": {},
     "output_type": "execute_result"
    }
   ],
   "source": [
    "G = make_random_graph(10, connected=True, cyclic=True)\n",
    "H = nx.minimum_spanning_tree(G)\n",
    "T = make_spanning_tree_recursive(G)\n",
    "is_spanning_tree_of(H, G), is_spanning_tree_of(T, G)"
   ]
  },
  {
   "cell_type": "code",
   "execution_count": 94,
   "metadata": {},
   "outputs": [
    {
     "data": {
      "image/png": "[encoded data removed]",
      "text/plain": [
       "<matplotlib.figure.Figure at 0x69a2437278>"
      ]
     },
     "metadata": {},
     "output_type": "display_data"
    }
   ],
   "source": [
    "#G=RG; T=STr; H=STn;\n",
    "pos = nx.nx_pydot.pydot_layout(G, prog='neato')\n",
    "nx.draw_networkx_edges(G, pos=pos, width=1, edge_color='pink')\n",
    "nx.draw_networkx_edges(H, pos=pos, width=7, edge_color='orange')\n",
    "nx.draw_networkx_edges(T, pos=pos, width=2, edge_color='black')\n",
    "nx.draw_networkx(G, pos=pos, width=0, with_labels=True, node_color='skyblue')"
   ]
  }
 ],
 "metadata": {
  "kernelspec": {
   "display_name": "Python 3",
   "language": "python",
   "name": "python3"
  },
  "language_info": {
   "codemirror_mode": {
    "name": "ipython",
    "version": 3
   },
   "file_extension": ".py",
   "mimetype": "text/x-python",
   "name": "python",
   "nbconvert_exporter": "python",
   "pygments_lexer": "ipython3",
   "version": "3.6.3"
  }
 },
 "nbformat": 4,
 "nbformat_minor": 2
}
