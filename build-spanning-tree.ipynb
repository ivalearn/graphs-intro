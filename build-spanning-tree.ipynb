{
 "cells": [
  {
   "cell_type": "code",
   "execution_count": 3,
   "metadata": {},
   "outputs": [],
   "source": [
    "%matplotlib inline\n",
    "from IPython.display import Image, HTML\n",
    "import matplotlib.pyplot as plt\n",
    "import networkx as nx\n",
    "import numpy as np\n",
    "from numba.decorators import jit\n",
    "import random\n",
    "from random import randint\n",
    "from itertools import chain, repeat\n",
    "from queue import deque"
   ]
  },
  {
   "cell_type": "code",
   "execution_count": 4,
   "metadata": {},
   "outputs": [],
   "source": [
    "# Disable plot axes by default\n",
    "import matplotlib as mpl\n",
    "if True:\n",
    "    mpl.rc('axes.spines', top=False, bottom=False, left=False, right=False)\n",
    "    mpl.rc('xtick', top=False, bottom=False, labelsize=0)\n",
    "    mpl.rc('ytick', left=False, right=False, labelsize=0)"
   ]
  },
  {
   "cell_type": "code",
   "execution_count": 5,
   "metadata": {},
   "outputs": [],
   "source": [
    "def get_undirected_edges(g):\n",
    "    return tuple(sorted(tuple(sorted(e)) for e in g.edges))\n",
    "\n",
    "def has_cycles(g):\n",
    "    try:\n",
    "        c = nx.algorithms.cycles.find_cycle(g)\n",
    "        return len(c) > 0\n",
    "    except nx.NetworkXNoCycle:\n",
    "        return False\n",
    "\n",
    "def edges_not_from(t, g):\n",
    "    t_edges = set(get_undirected_edges(t))\n",
    "    g_edges = set(get_undirected_edges(g))\n",
    "    return sorted(t_edges - g_edges)\n",
    "\n",
    "def assert_is_spanning_tree_of(t, g):\n",
    "    assert nx.is_connected(g)\n",
    "    #assert has_cycles(g)\n",
    "    assert t.nodes == g.nodes\n",
    "    assert nx.is_connected(t)\n",
    "    assert not has_cycles(t)\n",
    "    assert not edges_not_from(t, g)\n",
    "\n",
    "def is_spanning_tree_of(t, g):\n",
    "    try:\n",
    "        assert_is_spanning_tree_of(t, g)\n",
    "        return True\n",
    "    except AssertionError:\n",
    "        return False"
   ]
  },
  {
   "cell_type": "code",
   "execution_count": 6,
   "metadata": {},
   "outputs": [],
   "source": [
    "def make_random_graph(num_nodes, edge_prob=0.25, connected=False, cyclic=False):\n",
    "    while True:\n",
    "        g = nx.generators.random_graphs.fast_gnp_random_graph(num_nodes, edge_prob)\n",
    "        if connected and not nx.is_connected(g):\n",
    "            continue\n",
    "        if cyclic and not has_cycles(g):\n",
    "            continue\n",
    "        return g"
   ]
  },
  {
   "cell_type": "markdown",
   "metadata": {},
   "source": [
    "## Find a spanning tree\n",
    "\n",
    "алгоритм поиска (в глубину) остовного дерева для простого связного графа:\n",
    "\n",
    "1. начинаем с произвольной вершины\n",
    "2. красим текущую вершину красным\n",
    "3. ищем смежные неокрашенные вершины, соединённые с текущей через неокрашенные рёбра\n",
    "5. если есть, красим ребро красным и рекурсивно перемещаемся\n",
    "6. продолжаем, пока остались неокрашенные вершины\n",
    "7. по окончании неокрашенные рёбра отбрасываем (это рёбра циклов)\n",
    "\n",
    "красные вершины (N штук) и рёбра (N-1 штук) - это остовный граф"
   ]
  },
  {
   "cell_type": "code",
   "execution_count": 17,
   "metadata": {},
   "outputs": [],
   "source": [
    "def deep_spanning_tree_recursive(G, root=0):\n",
    "    adj = [list(x.keys()) for x in G.adj.values()]\n",
    "    verts = set()\n",
    "    edges = set()\n",
    "    def dfs(v):\n",
    "        verts.add(v)\n",
    "        for w in adj[v]:\n",
    "            if w in verts:\n",
    "                continue\n",
    "            edges.add((v,w) if v < w else (w,v))\n",
    "            dfs(w)\n",
    "    dfs(root)\n",
    "    return nx.from_edgelist(edges)"
   ]
  },
  {
   "cell_type": "code",
   "execution_count": 18,
   "metadata": {},
   "outputs": [
    {
     "name": "stdout",
     "output_type": "stream",
     "text": [
      "13.2 s ± 0 ns per loop (mean ± std. dev. of 1 run, 1 loop each)\n"
     ]
    }
   ],
   "source": [
    "%%timeit -n1 -r1\n",
    "# test on many random samples\n",
    "random.seed(1234)\n",
    "num_test = 1000\n",
    "max_size = 100\n",
    "for i in range(num_test):\n",
    "    RG = make_random_graph(randint(3, max_size), connected=True, cyclic=True)\n",
    "    ST = deep_spanning_tree_recursive(RG)\n",
    "    assert_is_spanning_tree_of(ST, RG)"
   ]
  },
  {
   "cell_type": "markdown",
   "metadata": {},
   "source": [
    "### Iterative version"
   ]
  },
  {
   "cell_type": "code",
   "execution_count": 19,
   "metadata": {},
   "outputs": [],
   "source": [
    "def deep_spanning_tree_iter(G, root=0):\n",
    "    adj = [list(x.keys()) for x in G.adj.values()]\n",
    "    verts = set()\n",
    "    edges = set()\n",
    "    stack = []\n",
    "    verts.add(root)\n",
    "    stack.append((root, iter(adj[root])))\n",
    "    while stack:\n",
    "        v, adj_iter = stack[-1]\n",
    "        for w in adj_iter:\n",
    "            if w in verts:\n",
    "                continue\n",
    "            edges.add((v,w) if v < w else (w,v))\n",
    "            verts.add(w)\n",
    "            stack.append((w, iter(adj[w])))\n",
    "            break\n",
    "        else:\n",
    "            stack.pop()\n",
    "    return nx.from_edgelist(edges)"
   ]
  },
  {
   "cell_type": "code",
   "execution_count": 20,
   "metadata": {},
   "outputs": [
    {
     "name": "stdout",
     "output_type": "stream",
     "text": [
      "13.7 s ± 0 ns per loop (mean ± std. dev. of 1 run, 1 loop each)\n"
     ]
    }
   ],
   "source": [
    "%%timeit -n1 -r1\n",
    "random.seed(1234)\n",
    "num_test = 1000\n",
    "max_size = 100\n",
    "for i in range(num_test):\n",
    "    RG = make_random_graph(randint(3, max_size), connected=True, cyclic=True)\n",
    "    ST = deep_spanning_tree_iter(RG)\n",
    "    assert_is_spanning_tree_of(ST, RG)"
   ]
  },
  {
   "cell_type": "markdown",
   "metadata": {},
   "source": [
    "## Some visual example"
   ]
  },
  {
   "cell_type": "code",
   "execution_count": 21,
   "metadata": {},
   "outputs": [
    {
     "data": {
      "text/plain": [
       "(True, True)"
      ]
     },
     "execution_count": 21,
     "metadata": {},
     "output_type": "execute_result"
    }
   ],
   "source": [
    "G = make_random_graph(10, connected=True, cyclic=True)\n",
    "H = nx.minimum_spanning_tree(G)\n",
    "T = deep_spanning_tree_recursive(G)\n",
    "is_spanning_tree_of(H, G), is_spanning_tree_of(T, G)"
   ]
  },
  {
   "cell_type": "code",
   "execution_count": 22,
   "metadata": {},
   "outputs": [
    {
     "data": {
      "image/png": "[encoded data removed]",
      "text/plain": [
       "<matplotlib.figure.Figure at 0xcd8dc94dd8>"
      ]
     },
     "metadata": {},
     "output_type": "display_data"
    }
   ],
   "source": [
    "pos = nx.nx_pydot.pydot_layout(G, prog='neato')\n",
    "nx.draw_networkx_edges(G, pos=pos, width=1, edge_color='pink')\n",
    "nx.draw_networkx_edges(H, pos=pos, width=7, edge_color='orange')\n",
    "nx.draw_networkx_edges(T, pos=pos, width=2, edge_color='black')\n",
    "nx.draw_networkx(G, pos=pos, width=0, node_color='skyblue')"
   ]
  },
  {
   "cell_type": "code",
   "execution_count": 23,
   "metadata": {},
   "outputs": [
    {
     "data": {
      "text/plain": [
       "(True, True)"
      ]
     },
     "execution_count": 23,
     "metadata": {},
     "output_type": "execute_result"
    }
   ],
   "source": [
    "S = deep_spanning_tree_iter(G)\n",
    "is_spanning_tree_of(H, G), is_spanning_tree_of(S, G)"
   ]
  },
  {
   "cell_type": "code",
   "execution_count": 24,
   "metadata": {},
   "outputs": [
    {
     "data": {
      "image/png": "[encoded data removed]",
      "text/plain": [
       "<matplotlib.figure.Figure at 0xcd99a00a58>"
      ]
     },
     "metadata": {},
     "output_type": "display_data"
    }
   ],
   "source": [
    "nx.draw_networkx_edges(G, pos=pos, width=1, edge_color='orange')\n",
    "nx.draw_networkx_edges(T, pos=pos, width=7, edge_color='lightgreen')\n",
    "nx.draw_networkx_edges(S, pos=pos, width=2, edge_color='darkblue')\n",
    "nx.draw_networkx(G, pos=pos, width=0, node_color='skyblue')"
   ]
  },
  {
   "cell_type": "markdown",
   "metadata": {},
   "source": [
    "## Wide-first spanning tree\n",
    "\n",
    "Свойство: расстояние между вершиными такого дерева и корнем совпадает с их расстоянием в исходном графе."
   ]
  },
  {
   "cell_type": "code",
   "execution_count": null,
   "metadata": {},
   "outputs": [],
   "source": [
    "def wide_spanning_tree(G, root=0, as_list=False):\n",
    "    adj = {v: list(G.adj[v]) for v in G.adj}\n",
    "    queue = deque()\n",
    "    verts = set()\n",
    "    edges = list()\n",
    "    verts.add(root)\n",
    "    queue.appendleft(root)\n",
    "    while queue:\n",
    "        v = queue.pop()\n",
    "        for w in adj[v]:\n",
    "            if w in verts:\n",
    "                continue\n",
    "            verts.add(w)\n",
    "            edges.append((v,w))\n",
    "            queue.appendleft(w)\n",
    "    if as_list:\n",
    "        return edges\n",
    "    return nx.from_edgelist(edges)"
   ]
  },
  {
   "cell_type": "code",
   "execution_count": null,
   "metadata": {},
   "outputs": [],
   "source": [
    "G = nx.from_edgelist([(6,5),(6,7),(6,8),\n",
    "                      (8,9),(8,10),\n",
    "                      (5,4),\n",
    "                      (4,1),(4,2),(4,3),\n",
    "                      (5,7),(4,8),(9,10)])\n",
    "pos = nx.nx_pydot.pydot_layout(G.to_directed(), prog='dot')\n",
    "nx.draw_networkx(G, pos=pos, node_color='skyblue')"
   ]
  },
  {
   "cell_type": "code",
   "execution_count": null,
   "metadata": {},
   "outputs": [],
   "source": [
    "wide_spanning_tree(G, root=6, as_list=True)"
   ]
  },
  {
   "cell_type": "code",
   "execution_count": null,
   "metadata": {},
   "outputs": [],
   "source": [
    "T = wide_spanning_tree(G, root=6)\n",
    "pos = nx.nx_pydot.pydot_layout(T.to_directed(), prog='dot')\n",
    "nx.draw_networkx(G, pos=pos, width=2, edge_color='green')\n",
    "nx.draw_networkx(T, pos=pos, width=3, edge_color='black')\n",
    "nx.draw_networkx(G, pos=pos, width=0, node_color='skyblue')"
   ]
  },
  {
   "cell_type": "code",
   "execution_count": null,
   "metadata": {},
   "outputs": [],
   "source": [
    "G = make_random_graph(10, connected=True, cyclic=True)\n",
    "T = wide_spanning_tree(G)\n",
    "pos = nx.nx_pydot.pydot_layout(T.to_directed(), prog='dot')\n",
    "is_spanning_tree_of(T, G)"
   ]
  },
  {
   "cell_type": "code",
   "execution_count": null,
   "metadata": {},
   "outputs": [],
   "source": [
    "nx.draw_networkx_edges(G, pos=pos, width=2, edge_color='green')\n",
    "nx.draw_networkx_edges(T, pos=pos, width=3, edge_color='black')\n",
    "nx.draw_networkx(G, pos=pos, width=0, node_color='skyblue')"
   ]
  },
  {
   "cell_type": "code",
   "execution_count": null,
   "metadata": {},
   "outputs": [],
   "source": [
    "%%timeit -n1 -r1\n",
    "# test on many random samples\n",
    "random.seed(1234)\n",
    "num_test = 1000\n",
    "max_size = 100\n",
    "for i in range(num_test):\n",
    "    RG = make_random_graph(randint(3, max_size), connected=True, cyclic=True)\n",
    "    ST = wide_spanning_tree(RG)\n",
    "    assert_is_spanning_tree_of(ST, RG)"
   ]
  },
  {
   "cell_type": "markdown",
   "metadata": {},
   "source": [
    "## Расстояния между корнем и вершинами графа"
   ]
  },
  {
   "cell_type": "code",
   "execution_count": null,
   "metadata": {},
   "outputs": [],
   "source": [
    "def depth_from_root(G, root=0):\n",
    "    nv = len(G.nodes)\n",
    "    adj = [list(G.adj[v]) for v in G.adj]\n",
    "    depth = [0] * nv\n",
    "    queue = deque()\n",
    "    verts = set()\n",
    "    verts.add(root)\n",
    "    queue.appendleft(root)\n",
    "    while queue:\n",
    "        v = queue.pop()\n",
    "        for w in adj[v]:\n",
    "            if w in verts:\n",
    "                continue\n",
    "            depth[w] = depth[v] + 1\n",
    "            verts.add(w)\n",
    "            queue.appendleft(w)\n",
    "    return depth"
   ]
  },
  {
   "cell_type": "code",
   "execution_count": null,
   "metadata": {},
   "outputs": [],
   "source": [
    "size = 12\n",
    "G = make_random_graph(size, connected=True, cyclic=True)\n",
    "depth = depth_from_root(G)\n",
    "mapping = {v: '%d:%d' % (v, depth[v]) for v in G.nodes }\n",
    "G = nx.relabel_nodes(G, mapping)\n",
    "pos = nx.nx_pydot.pydot_layout(G.to_directed(), prog='neato')\n",
    "colormap = ['yellow', 'skyblue', 'lightgrey'] + ['pink'] * size\n",
    "colors = [colormap[depth[i]] for i in range(size)]\n",
    "nx.draw_networkx(G, pos=pos, node_size=700, node_color=colors)\n",
    "#dot = nx.drawing.nx_pydot.to_pydot(G)\n",
    "#HTML(dot.create_svg(prog='neato').decode())"
   ]
  },
  {
   "cell_type": "code",
   "execution_count": null,
   "metadata": {},
   "outputs": [],
   "source": [
    "%%timeit -r1 -n1\n",
    "# test on many random samples\n",
    "#random.seed(1234)\n",
    "num_test = 1000\n",
    "max_size = 100\n",
    "for i in range(num_test):\n",
    "    G = make_random_graph(randint(3, max_size), connected=True, cyclic=True)\n",
    "    depth = depth_from_root(G)\n",
    "    for v in G.nodes:\n",
    "        assert depth[v] == nx.shortest_path_length(G, source=0, target=v)"
   ]
  },
  {
   "cell_type": "markdown",
   "metadata": {},
   "source": [
    "### Test via simulated `sys.stdin`"
   ]
  },
  {
   "cell_type": "code",
   "execution_count": null,
   "metadata": {},
   "outputs": [],
   "source": [
    "stdin = '6 7\\n0 1\\n1 2\\n2 0\\n3 2\\n4 3\\n4 2\\n5 4\\n'\n",
    "lineno = 0\n",
    "def my_input():\n",
    "    global lineno\n",
    "    line = stdin.splitlines()[lineno]\n",
    "    lineno += 1\n",
    "    return line.strip()\n",
    "\n",
    "from queue import deque\n",
    "\n",
    "nv, ne = map(int, my_input().split())\n",
    "adj = [set() for _ in range(nv)]\n",
    "for v, w in (map(int, my_input().split()) for _ in range(ne)):\n",
    "    adj[v].add(w)\n",
    "    adj[w].add(v)\n",
    "\n",
    "depth = [0] * nv\n",
    "queue = deque([0])\n",
    "verts = set([0])\n",
    "\n",
    "while queue:\n",
    "    v = queue.pop()\n",
    "    for w in (w for w in adj[v] if w not in verts):\n",
    "        depth[w] = depth[v] + 1\n",
    "        verts.add(w)\n",
    "        queue.appendleft(w)\n",
    "\n",
    "print(' '.join(map(str, depth)))\n",
    "\n",
    "# expect: 0 1 1 2 2 3"
   ]
  }
 ],
 "metadata": {
  "kernelspec": {
   "display_name": "Python [default]",
   "language": "python",
   "name": "python3"
  },
  "language_info": {
   "codemirror_mode": {
    "name": "ipython",
    "version": 3
   },
   "file_extension": ".py",
   "mimetype": "text/x-python",
   "name": "python",
   "nbconvert_exporter": "python",
   "pygments_lexer": "ipython3",
   "version": "3.6.3"
  }
 },
 "nbformat": 4,
 "nbformat_minor": 2
}
