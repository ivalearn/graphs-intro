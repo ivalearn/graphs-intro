{
 "cells": [
  {
   "cell_type": "code",
   "execution_count": 1,
   "metadata": {},
   "outputs": [
    {
     "name": "stdout",
     "output_type": "stream",
     "text": [
      "2.0\n"
     ]
    }
   ],
   "source": [
    "%matplotlib inline\n",
    "import networkx as nx\n",
    "import sys\n",
    "import math\n",
    "import random\n",
    "from random import randint\n",
    "from collections import defaultdict, deque\n",
    "print(nx.__version__)"
   ]
  },
  {
   "cell_type": "code",
   "execution_count": 2,
   "metadata": {},
   "outputs": [],
   "source": [
    "# Disable plot axes by default\n",
    "import matplotlib as mpl\n",
    "if True:\n",
    "    mpl.rc('axes.spines', top=False, bottom=False, left=False, right=False)\n",
    "    mpl.rc('xtick', top=False, bottom=False, labelsize=0)\n",
    "    mpl.rc('ytick', left=False, right=False, labelsize=0)"
   ]
  },
  {
   "cell_type": "code",
   "execution_count": 3,
   "metadata": {},
   "outputs": [],
   "source": [
    "from IPython.display import Image, HTML\n",
    "\n",
    "def pydot_image(graph, prog='dot', width=None):\n",
    "    dot = nx.nx_pydot.to_pydot(graph)\n",
    "    if width:\n",
    "        return Image(dot.create_png(prog=prog), width=width)\n",
    "    else:\n",
    "        return HTML(dot.create_svg(prog=prog).decode())"
   ]
  },
  {
   "cell_type": "markdown",
   "metadata": {},
   "source": [
    "# Минимальное вершинное покрытие в двудольном графе.\n",
    "\n",
    "На вход подается описание двудольного графа, в котором доли уже выделены явно. Первая строка содержит три натуральных числа: v1<100v1<100 — число вершин первой доли, v2<100v2<100 — число вершин второй доли, e≤v1∗v2e≤v1∗v2 — число рёбер. Подразумевается, что первая доля состоит из вершин с номерами от 00 до v1−1v1−1, вторая — из вершин с номерами от v1v1 до v1+v2−1v1+v2−1. Следующие ee строк описывают рёбра: каждая из этих строк содержит два числа: 0≤ui<v10≤ui<v1 и v1≤wi<v1+v2v1≤wi<v1+v2, что означает, что между вершинами uiui и wiwi есть ребро.\n",
    "\n",
    "Скопируйте описание графа из входа на выход и выведите единственную дополнительную строку — список номеров вершин, составляющих минимальное вершинное покрытие. Если таких покрытий несколько, выведите любое."
   ]
  },
  {
   "cell_type": "code",
   "execution_count": 4,
   "metadata": {},
   "outputs": [],
   "source": [
    "test_input = \"2 2 3\\n0 2\\n0 3\\n1 3\\n\""
   ]
  },
  {
   "cell_type": "code",
   "execution_count": 5,
   "metadata": {},
   "outputs": [],
   "source": [
    "def random_bipartite(max_left=10, max_right=20, min_edges=10, max_edges=100):\n",
    "    from networkx import Graph, is_connected, relabel_nodes\n",
    "    from networkx.algorithms.bipartite.generators import gnmk_random_graph\n",
    "    from networkx.algorithms.bipartite import sets as bipartite_sets\n",
    "    from random import randint\n",
    "    while True:\n",
    "        n = randint(1, max_left)\n",
    "        m = randint(1, max_right)\n",
    "        k = randint(min(m,n), max(m,n,max_edges))\n",
    "        g0 = gnmk_random_graph(n,m,k)\n",
    "        g = Graph()\n",
    "        g.add_nodes_from(set(g0.nodes))\n",
    "        edges = set()\n",
    "        for a,b in g0.edges:\n",
    "            if a != b:\n",
    "                a,b = min(a,b), max(a,b)\n",
    "                edges.add((a,b))\n",
    "        g.add_edges_from(edges)\n",
    "        if is_connected(g):\n",
    "            break\n",
    "    left, right = bipartite_sets(g)\n",
    "    n_left, n_right = len(left), len(right)\n",
    "    mapping = {v:i for i,v in enumerate(sorted(left))}\n",
    "    for i,v in enumerate(sorted(right)):\n",
    "        mapping[v] = i + n_left\n",
    "    g = relabel_nodes(g, mapping, copy=True)\n",
    "    header = '%d %d %d' % (n_left, n_right, len(g.edges))\n",
    "    edges = '\\n'.join('%d %d' % (min(a,b),max(a,b)) for a,b in sorted(g.edges))\n",
    "    return '%s\\n%s\\n' % (header, edges)"
   ]
  },
  {
   "cell_type": "code",
   "execution_count": 6,
   "metadata": {},
   "outputs": [],
   "source": [
    "import random\n",
    "random.seed(8035336)\n",
    "all_tests = [random_bipartite() for _ in range(500)]"
   ]
  },
  {
   "cell_type": "code",
   "execution_count": 7,
   "metadata": {},
   "outputs": [
    {
     "name": "stdout",
     "output_type": "stream",
     "text": [
      "0 1\n"
     ]
    }
   ],
   "source": [
    "def to_seq(input_data):\n",
    "    if isinstance(input_data, str):\n",
    "        return (line for line in input_data.splitlines())\n",
    "    else:\n",
    "        return input_data\n",
    "\n",
    "def nx_min_cover(input_data):\n",
    "    from networkx import Graph\n",
    "    from networkx.algorithms.bipartite import maximum_matching, to_vertex_cover\n",
    "    input_seq = to_seq(input_data)\n",
    "    nleft, nright, nedges = map(int, next(input_seq).split())\n",
    "    nverts = nleft + nright\n",
    "    g = Graph()\n",
    "    g.add_nodes_from(range(nverts))\n",
    "    edges = set()\n",
    "    for _ in range(nedges):\n",
    "        a,b = map(int, next(input_seq).split())\n",
    "        a,b = min(a,b), max(a,b)\n",
    "        edges.add((a,b))\n",
    "    g.add_edges_from(edges)\n",
    "    matching = maximum_matching(g)\n",
    "    cover = to_vertex_cover(g, matching)\n",
    "    return ' '.join(map(str, sorted(cover)))\n",
    "\n",
    "print(nx_min_cover(test_input))"
   ]
  },
  {
   "cell_type": "code",
   "execution_count": 8,
   "metadata": {},
   "outputs": [
    {
     "name": "stdout",
     "output_type": "stream",
     "text": [
      "0 1\n",
      "fail '6 6 17\\n0 6\\n0 7\\n0 8\\n0 9\\n0 10\\n0 11\\n1 7\\n1 8\\n1 9\\n1 11\\n2 6\\n2 7\\n3 6\\n3 9\\n4 7\\n5 6\\n5 9\\n'\n",
      "fail '9 8 32\\n0 15\\n0 16\\n1 9\\n1 12\\n1 13\\n1 15\\n2 9\\n2 10\\n2 12\\n2 13\\n2 15\\n2 16\\n3 10\\n3 11\\n4 9\\n4 13\\n4 14\\n4 16\\n5 11\\n5 13\\n5 14\\n5 16\\n6 9\\n6 10\\n6 11\\n6 13\\n6 16\\n7 9\\n7 11\\n7 12\\n7 16\\n8 12\\n'\n",
      "done\n"
     ]
    }
   ],
   "source": [
    "import sys\n",
    "from collections import defaultdict, deque\n",
    "from itertools import cycle, chain\n",
    "\n",
    "def ok_min_cover(input_data, full=False):\n",
    "    INF = float('inf')\n",
    "\n",
    "    if isinstance(input_data, str):\n",
    "        input_seq = (line for line in input_data.splitlines())\n",
    "    elif input_data == sys.stdin:\n",
    "        def input_gen():\n",
    "            while 1:\n",
    "                yield input()\n",
    "        input_seq = input_gen()\n",
    "    else:\n",
    "        input_seq = input_data\n",
    "\n",
    "    line = next(input_seq)\n",
    "    out_lines = [line]\n",
    "    nleft, nright, nedges = map(int, line.split())\n",
    "    nverts = nleft + nright\n",
    "\n",
    "    adj = defaultdict(set)\n",
    "    edges = set()\n",
    "    for i in range(nedges):\n",
    "        line = next(input_seq)\n",
    "        out_lines.append(line)\n",
    "        a,b = map(int, line.split())\n",
    "        a,b = min(a,b),max(a,b)\n",
    "        if a == b:\n",
    "            continue\n",
    "        adj[a].add(b)\n",
    "        edges.add((a,b))\n",
    "        adj[b].add(a)\n",
    "\n",
    "    nodes = set(range(nverts))\n",
    "    left = set(range(0, nleft))\n",
    "    right = set(range(nleft, nverts))\n",
    "\n",
    "    def bfs():\n",
    "        for v in left:\n",
    "            if mleft[v] is None:\n",
    "                dist[v] = 0\n",
    "                queue.append(v)\n",
    "            else:\n",
    "                dist[v] = INF\n",
    "        dist[None] = INF\n",
    "        while queue:\n",
    "            v = queue.popleft()\n",
    "            if dist[v] < dist[None]:\n",
    "                for u in adj[v]:\n",
    "                    if dist[mright[u]] is INF:\n",
    "                        dist[mright[u]] = dist[v] + 1\n",
    "                        queue.append(mright[u])\n",
    "        return dist[None] is not INF\n",
    "\n",
    "    def dfs(v):\n",
    "        if v is not None:\n",
    "            for u in adj[v]:\n",
    "                if dist[mright[u]] == dist[v] + 1:\n",
    "                    if dfs(mright[u]):\n",
    "                        mright[u] = v\n",
    "                        mleft[v] = u\n",
    "                        return True\n",
    "            dist[v] = INF\n",
    "            return False\n",
    "        return True\n",
    "\n",
    "    mleft = {v: None for v in left}\n",
    "    mright = {v: None for v in right}\n",
    "    dist = {}\n",
    "    queue = deque()\n",
    "\n",
    "    nmatched = 0\n",
    "    while bfs():\n",
    "        for v in left:\n",
    "            if mleft[v] is None:\n",
    "                if dfs(v):\n",
    "                    nmatched += 1\n",
    "\n",
    "    mleft = {k: v for k, v in mleft.items() if v is not None}\n",
    "    mright = {k: v for k, v in mright.items() if v is not None}\n",
    "\n",
    "    matching = dict(chain(mleft.items(), mright.items()))\n",
    "\n",
    "    unmatched_vertices = nodes - set(matching)\n",
    "    targets = unmatched_vertices & left\n",
    "    \n",
    "    edge_sets = {frozenset((u, v)) for u, v in matching.items()}\n",
    "    matched_edges = {tuple(edge) for edge in edge_sets}\n",
    "    unmatched_edges = {(u, v) for (u, v) in edges if frozenset((u, v)) not in edge_sets}\n",
    "\n",
    "    def _alt_dfs(u, for_matched):\n",
    "        edges = (cycle([matched_edges, unmatched_edges])\n",
    "                 if for_matched else\n",
    "                 cycle([unmatched_edges, matched_edges]))\n",
    "        visited = set()\n",
    "        stack = [(u, iter(adj[u]), next(edges))]\n",
    "        while stack:\n",
    "            parent, children, valid_edges = stack[-1]\n",
    "            try:\n",
    "                child = next(children)\n",
    "                if child not in visited:\n",
    "                    if ((parent, child) in valid_edges or (child, parent) in valid_edges):\n",
    "                        if child in targets:\n",
    "                            return True\n",
    "                        visited.add(child)\n",
    "                        stack.append((child, iter(adj[child]), next(edges)))\n",
    "            except StopIteration:\n",
    "                stack.pop()\n",
    "        return False\n",
    "\n",
    "    zset = {v for v in nodes if v in targets or _alt_dfs(v, True) or _alt_dfs(v, False)}\n",
    "    result =  (left - zset) | (right & zset)\n",
    "\n",
    "    out = ' '.join(map(str, sorted(result)))\n",
    "    out_lines.append(out)\n",
    "    if full:\n",
    "        out = '\\n'.join(out_lines)\n",
    "    return out\n",
    "\n",
    "print(ok_min_cover(test_input))\n",
    "#print(ok_min_cover(sys.stdin, full=True))\n",
    "for graph in all_tests:\n",
    "    nxr = nx_min_cover(graph)\n",
    "    okr = ok_min_cover(graph)\n",
    "    if nxr != okr:\n",
    "        print('fail', repr(graph))\n",
    "print('done')"
   ]
  },
  {
   "cell_type": "code",
   "execution_count": 9,
   "metadata": {},
   "outputs": [],
   "source": [
    "# troubleshoot"
   ]
  }
 ],
 "metadata": {
  "kernelspec": {
   "display_name": "Python [default]",
   "language": "python",
   "name": "python3"
  },
  "language_info": {
   "codemirror_mode": {
    "name": "ipython",
    "version": 3
   },
   "file_extension": ".py",
   "mimetype": "text/x-python",
   "name": "python",
   "nbconvert_exporter": "python",
   "pygments_lexer": "ipython3",
   "version": "3.6.3"
  }
 },
 "nbformat": 4,
 "nbformat_minor": 2
}
